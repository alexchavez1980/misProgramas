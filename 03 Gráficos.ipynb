{
 "cells": [
  {
   "cell_type": "markdown",
   "metadata": {
    "id": "MteQKW7zz4AD"
   },
   "source": [
    "# **Gráficos**\n"
   ]
  },
  {
   "cell_type": "code",
   "execution_count": 1,
   "metadata": {
    "colab": {
     "base_uri": "https://localhost:8080/"
    },
    "executionInfo": {
     "elapsed": 16889,
     "status": "ok",
     "timestamp": 1642512042324,
     "user": {
      "displayName": "Alexander Chavez",
      "photoUrl": "https://lh3.googleusercontent.com/a/default-user=s64",
      "userId": "10987698664425569638"
     },
     "user_tz": 180
    },
    "id": "66O4qjjhk3BR",
    "outputId": "4423538c-5064-46bb-8507-fe7e0588d245"
   },
   "outputs": [
    {
     "name": "stdout",
     "output_type": "stream",
     "text": [
      "Mounted at /content/drive\n"
     ]
    }
   ],
   "source": [
    "#@title Conectar con el drive\n",
    "from google.colab import drive \n",
    "drive.mount('/content/drive') "
   ]
  },
  {
   "cell_type": "code",
   "execution_count": 2,
   "metadata": {
    "colab": {
     "base_uri": "https://localhost:8080/"
    },
    "executionInfo": {
     "elapsed": 757,
     "status": "ok",
     "timestamp": 1642512045012,
     "user": {
      "displayName": "Alexander Chavez",
      "photoUrl": "https://lh3.googleusercontent.com/a/default-user=s64",
      "userId": "10987698664425569638"
     },
     "user_tz": 180
    },
    "id": "f5yUCKNdmjgq",
    "outputId": "1b3f0780-63c6-4cf5-aab4-413e3f981506"
   },
   "outputs": [
    {
     "data": {
      "text/plain": [
       "<bound method NDFrame.describe of      sepal.length  sepal.width  petal.length  petal.width    variety\n",
       "0             5.1          3.5           1.4          0.2     Setosa\n",
       "1             4.9          3.0           1.4          0.2     Setosa\n",
       "2             4.7          3.2           1.3          0.2     Setosa\n",
       "3             4.6          3.1           1.5          0.2     Setosa\n",
       "4             5.0          3.6           1.4          0.2     Setosa\n",
       "..            ...          ...           ...          ...        ...\n",
       "145           6.7          3.0           5.2          2.3  Virginica\n",
       "146           6.3          2.5           5.0          1.9  Virginica\n",
       "147           6.5          3.0           5.2          2.0  Virginica\n",
       "148           6.2          3.4           5.4          2.3  Virginica\n",
       "149           5.9          3.0           5.1          1.8  Virginica\n",
       "\n",
       "[150 rows x 5 columns]>"
      ]
     },
     "execution_count": 2,
     "metadata": {},
     "output_type": "execute_result"
    }
   ],
   "source": [
    "#@title Librería y lectura de archivo\n",
    "import pandas as pd # Importo la librería\n",
    "path = \"/content/drive/MyDrive/csv/iris.csv\"  # Defino la ruta\n",
    "ds_iris = pd.read_csv(path) # Leo el archivo\n",
    "ds_iris.describe"
   ]
  },
  {
   "cell_type": "markdown",
   "metadata": {
    "id": "pR-UjeLBkTgB"
   },
   "source": [
    "## ======================================================================="
   ]
  },
  {
   "cell_type": "code",
   "execution_count": 3,
   "metadata": {
    "executionInfo": {
     "elapsed": 311,
     "status": "ok",
     "timestamp": 1642512048357,
     "user": {
      "displayName": "Alexander Chavez",
      "photoUrl": "https://lh3.googleusercontent.com/a/default-user=s64",
      "userId": "10987698664425569638"
     },
     "user_tz": 180
    },
    "id": "2FMPEH0S9s_h"
   },
   "outputs": [],
   "source": [
    "#@title Importo la librería matplotlib\n",
    "# Paquete de visualización de datos (2D) de phyton.\n",
    "# pyplot es un módulo en el paquete/librería matplotlib.\n",
    "# Se suele encontrar matplotlib.pyplot.\n",
    "# pyplot permite crear figuras y ejes de forma implícita. (Luego chequear esto)\n",
    "# Cuando se quiere hacer una visualización rápida.\n",
    "\n",
    "# Está también pylab pero ya no se usa.\n",
    "\n",
    "import matplotlib.pyplot as plt"
   ]
  },
  {
   "cell_type": "markdown",
   "metadata": {
    "id": "5W0OI5WZoaq_"
   },
   "source": [
    "##### *Los datos de ML para graficar en matplotlib deben estar estructurados en NumPy. OJO con esto.*"
   ]
  },
  {
   "cell_type": "code",
   "execution_count": 4,
   "metadata": {
    "executionInfo": {
     "elapsed": 354,
     "status": "ok",
     "timestamp": 1642512053006,
     "user": {
      "displayName": "Alexander Chavez",
      "photoUrl": "https://lh3.googleusercontent.com/a/default-user=s64",
      "userId": "10987698664425569638"
     },
     "user_tz": 180
    },
    "id": "igAPBak6rsDY"
   },
   "outputs": [],
   "source": [
    "# Datos de prueba\n",
    "x1 = [0.25, 1.25, 2.25, 3.25, 4.25]\n",
    "y1 = [10, 55, 80, 32, 40]\n",
    "x2 = [0.75, 1.75, 2.75, 3.75, 4.75]\n",
    "y2 = [42, 26, 10, 29, 66]"
   ]
  },
  {
   "cell_type": "markdown",
   "metadata": {
    "id": "7dhHjpN2poZw"
   },
   "source": [
    "### **Gráficos básicos**"
   ]
  },
  {
   "cell_type": "code",
   "execution_count": null,
   "metadata": {
    "colab": {
     "base_uri": "https://localhost:8080/",
     "height": 265
    },
    "executionInfo": {
     "elapsed": 426,
     "status": "ok",
     "timestamp": 1641561381737,
     "user": {
      "displayName": "Alexander Chavez",
      "photoUrl": "https://lh3.googleusercontent.com/a/default-user=s64",
      "userId": "10987698664425569638"
     },
     "user_tz": 180
    },
    "id": "tEWgE_eDqlYu",
    "outputId": "21930752-772b-4be7-e5d1-51a353ed09c5"
   },
   "outputs": [
    {
     "data": {
      "image/png": "[encoded data removed]",
      "text/plain": [
       "<Figure size 432x288 with 1 Axes>"
      ]
     },
     "metadata": {
      "needs_background": "light"
     },
     "output_type": "display_data"
    }
   ],
   "source": [
    "#@title Gráfico básico\n",
    "plt.plot(x1, y1, label = 'Línea 1', linewidth = 4, color = 'blue')\n",
    "plt.legend() # Para que imprima el label definido previamente.\n",
    "plt.show() # Lo muestra mas prolijo."
   ]
  },
  {
   "cell_type": "code",
   "execution_count": null,
   "metadata": {
    "id": "F_OaLoEXqGqQ"
   },
   "outputs": [],
   "source": [
    "#@title Gráfico de línea\n",
    "#Configuración de las características del gráfico\n",
    "plt.plot(x1, y1, label = 'Línea 1', linewidth = 4, color = 'blue')\n",
    "plt.plot(x2, y2, label = 'Línea 2', linewidth = 4, color = 'green')\n",
    "#Definir título y nombres de ejes\n",
    "plt.title('Diagrama de Líneas')\n",
    "plt.ylabel('Eje Y')\n",
    "plt.xlabel('Eje X')\n",
    "#Mostrar leyenda, cuadrícula y figura\n",
    "plt.legend() # Para que imprima el label definido previamente.\n",
    "plt.grid() # Traza grilla de fondo.\n",
    "plt.show() # Lo muestra mas prolijo."
   ]
  },
  {
   "cell_type": "code",
   "execution_count": 5,
   "metadata": {
    "colab": {
     "base_uri": "https://localhost:8080/",
     "height": 295
    },
    "executionInfo": {
     "elapsed": 739,
     "status": "ok",
     "timestamp": 1642512069038,
     "user": {
      "displayName": "Alexander Chavez",
      "photoUrl": "https://lh3.googleusercontent.com/a/default-user=s64",
      "userId": "10987698664425569638"
     },
     "user_tz": 180
    },
    "id": "JwnFTYEmrbRA",
    "outputId": "caaf5470-fdb2-4862-8b11-e49ead67edae"
   },
   "outputs": [
    {
     "data": {
      "image/png": "[encoded data removed]",
      "text/plain": [
       "<Figure size 432x288 with 1 Axes>"
      ]
     },
     "metadata": {
      "needs_background": "light"
     },
     "output_type": "display_data"
    }
   ],
   "source": [
    "#@title Gráfico de barras\n",
    "plt.bar(x1, y1, label = 'Datos 1', width = 0.5, color = 'lightblue')\n",
    "plt.bar(x2, y2, label = 'Datos 2', width = 0.5, color = 'orange')\n",
    "plt.title('Gráfico de barras')\n",
    "plt.ylabel('Eje Y')\n",
    "plt.xlabel('Eje X')\n",
    "plt.legend()\n",
    "plt.grid()\n",
    "plt.show()"
   ]
  },
  {
   "cell_type": "code",
   "execution_count": null,
   "metadata": {
    "id": "irDZWhg3sbzA"
   },
   "outputs": [],
   "source": [
    "#@title Gráfico de histogramas\n",
    "#Uso datos distintos\n",
    "a = [22,55,62,45,21,22,34,42,42,4,2,102,95,85,55,110,120,70,65,55,111,115,80,75,65,54,44,43,42,48]\n",
    "bins = [0,10,20,30,40,50,60,70,80,90,100]\n",
    "# Sílo cambia el comando plt.hist y las características\n",
    "plt.hist(a, bins, histtype = 'bar', rwidth = 0.8, color = 'lightgreen')\n",
    "plt.title('Histograma')\n",
    "plt.ylabel('Eje Y')\n",
    "plt.xlabel('Eje X')\n",
    "plt.show()"
   ]
  },
  {
   "cell_type": "code",
   "execution_count": 6,
   "metadata": {
    "colab": {
     "base_uri": "https://localhost:8080/",
     "height": 295
    },
    "executionInfo": {
     "elapsed": 390,
     "status": "ok",
     "timestamp": 1642512076006,
     "user": {
      "displayName": "Alexander Chavez",
      "photoUrl": "https://lh3.googleusercontent.com/a/default-user=s64",
      "userId": "10987698664425569638"
     },
     "user_tz": 180
    },
    "id": "l5qnsFWds7qA",
    "outputId": "adab3d5a-e5e7-42be-afb0-94e548fe4a5e"
   },
   "outputs": [
    {
     "data": {
      "image/png": "[encoded data removed]",
      "text/plain": [
       "<Figure size 432x288 with 1 Axes>"
      ]
     },
     "metadata": {
      "needs_background": "light"
     },
     "output_type": "display_data"
    }
   ],
   "source": [
    "#@title Gráfico de dispersión\n",
    "# Se muestran como una colección de puntos.\n",
    "plt.scatter(x1, y1, label = 'Datos 1',color = 'red')\n",
    "plt.scatter(x2, y2,label = 'Datos 2', color = 'purple')\n",
    "#Definir título y nombres de ejes\n",
    "plt.title('Gráfico de dispersión')\n",
    "plt.ylabel('Eje Y')\n",
    "plt.xlabel('Eje X')\n",
    "#Mostrar leyenda y figura\n",
    "plt.legend()\n",
    "plt.show()"
   ]
  },
  {
   "cell_type": "code",
   "execution_count": null,
   "metadata": {
    "id": "Mu09r-lgtfa2"
   },
   "outputs": [],
   "source": [
    "#@title Gráfico circular\n",
    "#Definición de datos\n",
    "dormir =[7,8,6,11,7]\n",
    "comer = [2,3,4,3,2]\n",
    "trabajar =[7,8,7,2,2]\n",
    "recreación = [8,5,7,8,13]\n",
    "divisiones = [7,2,2,13]\n",
    "actividades = ['Dormir','Comer','Trabajar','Recreación']\n",
    "colores = ['red','purple','blue','orange']\n",
    "\n",
    "# Comando pie. \n",
    "plt.pie(divisiones, labels=actividades, colors=colores, startangle=90, shadow=True, explode=(0.1,0,0,0), autopct='%1.1f%%')\n",
    "plt.title('Gráfico circular')\n",
    "plt.show()"
   ]
  },
  {
   "cell_type": "code",
   "execution_count": null,
   "metadata": {
    "id": "PNCYII9SleNI"
   },
   "outputs": [],
   "source": [
    "x=ds_iris['sepal.length']\n",
    "y=ds_iris['sepal.width']\n",
    "plt.scatter(x,y)\n",
    "plt.show()\n"
   ]
  },
  {
   "cell_type": "code",
   "execution_count": null,
   "metadata": {
    "id": "Ui28gbE0jDca"
   },
   "outputs": [],
   "source": [
    "#@title Gráfica de torta\n",
    "datos[\"Total fruits\"]= datos[\"Apples\"] + datos[\"Pears\"]\n",
    "datos.plot.pie( y=\"Total fruits\", autopct='%1.1f%%')"
   ]
  },
  {
   "cell_type": "code",
   "execution_count": null,
   "metadata": {
    "id": "Iub4GTrzjDcf"
   },
   "outputs": [],
   "source": [
    "ds_iris = pnd.read_csv('iris.csv',header=0)\n",
    "print(ds_iris.head())"
   ]
  },
  {
   "cell_type": "code",
   "execution_count": null,
   "metadata": {
    "id": "68Dt74SYjKko"
   },
   "outputs": [],
   "source": []
  }
 ],
 "metadata": {
  "colab": {
   "authorship_tag": "ABX9TyPExx5FWKPF3dO3+r5vUGY6",
   "collapsed_sections": [],
   "name": "03 Gráficos.ipynb",
   "provenance": [
    {
     "file_id": "1NpR_9ZAGAcSdSJda76o6wC5fcxXKGhB8",
     "timestamp": 1640715716369
    },
    {
     "file_id": "1sslrnUX_8-odySVElPGz89V_Ujk1Tdl7",
     "timestamp": 1639487577314
    }
   ],
   "toc_visible": true
  },
  "kernelspec": {
   "display_name": "Python 3 (ipykernel)",
   "language": "python",
   "name": "python3"
  },
  "language_info": {
   "codemirror_mode": {
    "name": "ipython",
    "version": 3
   },
   "file_extension": ".py",
   "mimetype": "text/x-python",
   "name": "python",
   "nbconvert_exporter": "python",
   "pygments_lexer": "ipython3",
   "version": "3.9.7"
  }
 },
 "nbformat": 4,
 "nbformat_minor": 4
}
