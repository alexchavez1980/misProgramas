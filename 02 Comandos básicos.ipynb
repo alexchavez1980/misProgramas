{
 "cells": [
  {
   "cell_type": "markdown",
   "metadata": {
    "id": "8lqdP1x-l3au"
   },
   "source": [
    "# **Comandos básicos**\n",
    "##### *(Para algunos comandos usé un df data de 2x2. No se necesita mas)*\n",
    "##### *(Para los comandos que requerían mas info usé iris.csv)*\n"
   ]
  },
  {
   "cell_type": "markdown",
   "metadata": {
    "id": "018QQsuEmpQ5"
   },
   "source": [
    "## Carga de data set"
   ]
  },
  {
   "cell_type": "code",
   "execution_count": null,
   "metadata": {
    "id": "66O4qjjhk3BR"
   },
   "outputs": [],
   "source": [
    "#@title Conectar con el drive\n",
    "from google.colab import drive \n",
    "drive.mount('/content/drive') "
   ]
  },
  {
   "cell_type": "code",
   "execution_count": null,
   "metadata": {
    "id": "f5yUCKNdmjgq"
   },
   "outputs": [],
   "source": [
    "#@title Librería y lectura de archivo\n",
    "import pandas as pd # Importo la librería\n",
    "path = \"/content/drive/MyDrive/csv/iris.csv\"  # Defino la ruta\n",
    "ds_iris = pd.read_csv(path) # Leo el archivo\n",
    "ds_iris.describe"
   ]
  },
  {
   "cell_type": "markdown",
   "metadata": {
    "id": "5GsbIhDytq_V"
   },
   "source": [
    "## ======================================================================="
   ]
  },
  {
   "cell_type": "code",
   "execution_count": null,
   "metadata": {
    "id": "SYwL4zLs1GTb"
   },
   "outputs": [],
   "source": [
    "#@title Creo un data frame para jugar\n",
    "data = pd.DataFrame({ \"Apples\": [3, 2], \"Pears\" : [1,4]}, index=[\"Marco\", \"Macu\"])\n",
    "data"
   ]
  },
  {
   "cell_type": "code",
   "execution_count": null,
   "metadata": {
    "id": "_oo5xUYKm2XP"
   },
   "outputs": [],
   "source": [
    "#@title Muestra encabezado\n",
    "data.head()"
   ]
  },
  {
   "cell_type": "code",
   "execution_count": null,
   "metadata": {
    "id": "3QDA1hawxpUn"
   },
   "outputs": [],
   "source": [
    "#@title Muestra últimas filas\n",
    "data.tail() "
   ]
  },
  {
   "cell_type": "code",
   "execution_count": null,
   "metadata": {
    "id": "Vh5hWPR_xyZe"
   },
   "outputs": [],
   "source": [
    "#@title Forma de los datos\n",
    "data.shape()  # Sale error. Después veo."
   ]
  },
  {
   "cell_type": "code",
   "execution_count": null,
   "metadata": {
    "colab": {
     "base_uri": "https://localhost:8080/",
     "height": 300
    },
    "executionInfo": {
     "elapsed": 422,
     "status": "ok",
     "timestamp": 1640637532545,
     "user": {
      "displayName": "Alexander Chavez",
      "photoUrl": "https://lh3.googleusercontent.com/a/default-user=s64",
      "userId": "10987698664425569638"
     },
     "user_tz": 180
    },
    "id": "FGu7-gpena1W",
    "outputId": "adde7608-fd0d-448d-d62b-34b6409a9a9e"
   },
   "outputs": [
    {
     "data": {
      "text/html": [
       "\n",
       "  <div id=\"df-a0aa480a-eb1c-4366-acee-004be07ea18d\">\n",
       "    <div class=\"colab-df-container\">\n",
       "      <div>\n",
       "<style scoped>\n",
       "    .dataframe tbody tr th:only-of-type {\n",
       "        vertical-align: middle;\n",
       "    }\n",
       "\n",
       "    .dataframe tbody tr th {\n",
       "        vertical-align: top;\n",
       "    }\n",
       "\n",
       "    .dataframe thead th {\n",
       "        text-align: right;\n",
       "    }\n",
       "</style>\n",
       "<table border=\"1\" class=\"dataframe\">\n",
       "  <thead>\n",
       "    <tr style=\"text-align: right;\">\n",
       "      <th></th>\n",
       "      <th>Apples</th>\n",
       "      <th>Pears</th>\n",
       "    </tr>\n",
       "  </thead>\n",
       "  <tbody>\n",
       "    <tr>\n",
       "      <th>count</th>\n",
       "      <td>2.000000</td>\n",
       "      <td>2.00000</td>\n",
       "    </tr>\n",
       "    <tr>\n",
       "      <th>mean</th>\n",
       "      <td>2.500000</td>\n",
       "      <td>2.50000</td>\n",
       "    </tr>\n",
       "    <tr>\n",
       "      <th>std</th>\n",
       "      <td>0.707107</td>\n",
       "      <td>2.12132</td>\n",
       "    </tr>\n",
       "    <tr>\n",
       "      <th>min</th>\n",
       "      <td>2.000000</td>\n",
       "      <td>1.00000</td>\n",
       "    </tr>\n",
       "    <tr>\n",
       "      <th>25%</th>\n",
       "      <td>2.250000</td>\n",
       "      <td>1.75000</td>\n",
       "    </tr>\n",
       "    <tr>\n",
       "      <th>50%</th>\n",
       "      <td>2.500000</td>\n",
       "      <td>2.50000</td>\n",
       "    </tr>\n",
       "    <tr>\n",
       "      <th>75%</th>\n",
       "      <td>2.750000</td>\n",
       "      <td>3.25000</td>\n",
       "    </tr>\n",
       "    <tr>\n",
       "      <th>max</th>\n",
       "      <td>3.000000</td>\n",
       "      <td>4.00000</td>\n",
       "    </tr>\n",
       "  </tbody>\n",
       "</table>\n",
       "</div>\n",
       "      <button class=\"colab-df-convert\" onclick=\"convertToInteractive('df-a0aa480a-eb1c-4366-acee-004be07ea18d')\"\n",
       "              title=\"Convert this dataframe to an interactive table.\"\n",
       "              style=\"display:none;\">\n",
       "        \n",
       "  <svg xmlns=\"http://www.w3.org/2000/svg\" height=\"24px\"viewBox=\"0 0 24 24\"\n",
       "       width=\"24px\">\n",
       "    <path d=\"M0 0h24v24H0V0z\" fill=\"none\"/>\n",
       "    <path d=\"M18.56 5.44l.94 2.06.94-2.06 2.06-.94-2.06-.94-.94-2.06-.94 2.06-2.06.94zm-11 1L8.5 8.5l.94-2.06 2.06-.94-2.06-.94L8.5 2.5l-.94 2.06-2.06.94zm10 10l.94 2.06.94-2.06 2.06-.94-2.06-.94-.94-2.06-.94 2.06-2.06.94z\"/><path d=\"M17.41 7.96l-1.37-1.37c-.4-.4-.92-.59-1.43-.59-.52 0-1.04.2-1.43.59L10.3 9.45l-7.72 7.72c-.78.78-.78 2.05 0 2.83L4 21.41c.39.39.9.59 1.41.59.51 0 1.02-.2 1.41-.59l7.78-7.78 2.81-2.81c.8-.78.8-2.07 0-2.86zM5.41 20L4 18.59l7.72-7.72 1.47 1.35L5.41 20z\"/>\n",
       "  </svg>\n",
       "      </button>\n",
       "      \n",
       "  <style>\n",
       "    .colab-df-container {\n",
       "      display:flex;\n",
       "      flex-wrap:wrap;\n",
       "      gap: 12px;\n",
       "    }\n",
       "\n",
       "    .colab-df-convert {\n",
       "      background-color: #E8F0FE;\n",
       "      border: none;\n",
       "      border-radius: 50%;\n",
       "      cursor: pointer;\n",
       "      display: none;\n",
       "      fill: #1967D2;\n",
       "      height: 32px;\n",
       "      padding: 0 0 0 0;\n",
       "      width: 32px;\n",
       "    }\n",
       "\n",
       "    .colab-df-convert:hover {\n",
       "      background-color: #E2EBFA;\n",
       "      box-shadow: 0px 1px 2px rgba(60, 64, 67, 0.3), 0px 1px 3px 1px rgba(60, 64, 67, 0.15);\n",
       "      fill: #174EA6;\n",
       "    }\n",
       "\n",
       "    [theme=dark] .colab-df-convert {\n",
       "      background-color: #3B4455;\n",
       "      fill: #D2E3FC;\n",
       "    }\n",
       "\n",
       "    [theme=dark] .colab-df-convert:hover {\n",
       "      background-color: #434B5C;\n",
       "      box-shadow: 0px 1px 3px 1px rgba(0, 0, 0, 0.15);\n",
       "      filter: drop-shadow(0px 1px 2px rgba(0, 0, 0, 0.3));\n",
       "      fill: #FFFFFF;\n",
       "    }\n",
       "  </style>\n",
       "\n",
       "      <script>\n",
       "        const buttonEl =\n",
       "          document.querySelector('#df-a0aa480a-eb1c-4366-acee-004be07ea18d button.colab-df-convert');\n",
       "        buttonEl.style.display =\n",
       "          google.colab.kernel.accessAllowed ? 'block' : 'none';\n",
       "\n",
       "        async function convertToInteractive(key) {\n",
       "          const element = document.querySelector('#df-a0aa480a-eb1c-4366-acee-004be07ea18d');\n",
       "          const dataTable =\n",
       "            await google.colab.kernel.invokeFunction('convertToInteractive',\n",
       "                                                     [key], {});\n",
       "          if (!dataTable) return;\n",
       "\n",
       "          const docLinkHtml = 'Like what you see? Visit the ' +\n",
       "            '<a target=\"_blank\" href=https://colab.research.google.com/notebooks/data_table.ipynb>data table notebook</a>'\n",
       "            + ' to learn more about interactive tables.';\n",
       "          element.innerHTML = '';\n",
       "          dataTable['output_type'] = 'display_data';\n",
       "          await google.colab.output.renderOutput(dataTable, element);\n",
       "          const docLink = document.createElement('div');\n",
       "          docLink.innerHTML = docLinkHtml;\n",
       "          element.appendChild(docLink);\n",
       "        }\n",
       "      </script>\n",
       "    </div>\n",
       "  </div>\n",
       "  "
      ],
      "text/plain": [
       "         Apples    Pears\n",
       "count  2.000000  2.00000\n",
       "mean   2.500000  2.50000\n",
       "std    0.707107  2.12132\n",
       "min    2.000000  1.00000\n",
       "25%    2.250000  1.75000\n",
       "50%    2.500000  2.50000\n",
       "75%    2.750000  3.25000\n",
       "max    3.000000  4.00000"
      ]
     },
     "execution_count": 8,
     "metadata": {},
     "output_type": "execute_result"
    }
   ],
   "source": [
    "#@title Descripción del data frame. Como el summary en R\n",
    "data.describe()"
   ]
  },
  {
   "cell_type": "code",
   "execution_count": null,
   "metadata": {
    "id": "V7emicMNn4KD"
   },
   "outputs": [],
   "source": [
    "#@title Descripción de UNA columna del data frame\n",
    "data['Apples'].describe()"
   ]
  },
  {
   "cell_type": "code",
   "execution_count": null,
   "metadata": {
    "id": "PNN8SUBfya_I"
   },
   "outputs": [],
   "source": [
    "#@title Media. df.median() para la mediana. df.std() para la desviación estándar.\n",
    "data.mean() "
   ]
  },
  {
   "cell_type": "code",
   "execution_count": null,
   "metadata": {
    "id": "9Tm8CBmQyldO"
   },
   "outputs": [],
   "source": [
    "#@title Cantidad de valores no nulos\n",
    "data.count()  "
   ]
  },
  {
   "cell_type": "code",
   "execution_count": null,
   "metadata": {
    "id": "qdgRICQ6ysev"
   },
   "outputs": [],
   "source": [
    "#@title Valor mas alto. df.min() para el mínimo\n",
    "data.max()  "
   ]
  },
  {
   "cell_type": "code",
   "execution_count": null,
   "metadata": {
    "id": "8-6-k7phy15e"
   },
   "outputs": [],
   "source": [
    "#@title Un valor puntual\n",
    "data[2,2] # Sale error. Después veo."
   ]
  },
  {
   "cell_type": "code",
   "execution_count": null,
   "metadata": {
    "id": "xeHjc381zek_"
   },
   "outputs": [],
   "source": [
    "#@title Una columna puntual\n",
    "data['Apples']"
   ]
  },
  {
   "cell_type": "code",
   "execution_count": null,
   "metadata": {
    "id": "WZj5IxDEzL6j"
   },
   "outputs": [],
   "source": [
    "#@title Chequear si hay nulos\n",
    "data.isnull() "
   ]
  },
  {
   "cell_type": "code",
   "execution_count": null,
   "metadata": {
    "id": "R3gnsiLnzTiS"
   },
   "outputs": [],
   "source": [
    "#@title Chequear si hay nulos. Y los suma.\n",
    "ds_iris.isnull().sum() "
   ]
  },
  {
   "cell_type": "code",
   "execution_count": null,
   "metadata": {
    "id": "cAgshwiT0FYp"
   },
   "outputs": [],
   "source": [
    "#@title Seleccionar algunas columnas. \"Depurar\"\n",
    "ds_iris_depurado = ds_iris.drop(columns=['sepal.length','sepal.width']) # Me quedó pendiente revisar el inplace=True\n",
    "ds_iris_depurado.plot() # (El plot es sólo para mostrar. No se necestia)"
   ]
  },
  {
   "cell_type": "code",
   "execution_count": null,
   "metadata": {
    "id": "2JHm66BGcHe8"
   },
   "outputs": [],
   "source": [
    "#@title Chequeo de filas por indexado. \n",
    "ds_iris.iloc[0]"
   ]
  },
  {
   "cell_type": "code",
   "execution_count": null,
   "metadata": {
    "id": "zPPwPKx1ck1k"
   },
   "outputs": [],
   "source": [
    "#@title Chequeo de varias filas por indexado. \n",
    "ds_iris.iloc[0:20] "
   ]
  },
  {
   "cell_type": "code",
   "execution_count": null,
   "metadata": {
    "id": "bptJr-ZScx1D"
   },
   "outputs": [],
   "source": [
    "#@title Chequeo de filas por el \"Datetime\" de ése data set. HAY QUE CHEQUEARLO\n",
    "ds_iris.loc[2021-11-29] "
   ]
  },
  {
   "cell_type": "code",
   "execution_count": null,
   "metadata": {
    "id": "q2bkbWGhdY8y"
   },
   "outputs": [],
   "source": [
    "#@title Chequeo de varias filas Y columnas por indexado. \n",
    "ds_iris.iloc[[1,2],[1,2]] "
   ]
  },
  {
   "cell_type": "code",
   "execution_count": null,
   "metadata": {
    "id": "3DulrrjyelwT"
   },
   "outputs": [],
   "source": [
    "#@title Filtrado por condición.\n",
    "ds_iris[ds_iris[\"sepal.length\"] < 3] "
   ]
  },
  {
   "cell_type": "code",
   "execution_count": null,
   "metadata": {
    "id": "nepUlbpJfZCU"
   },
   "outputs": [],
   "source": [
    "#@title Filtrado por varias condiciones.\n",
    "ds_iris[ds_iris[\"sepal.length\"] > 3) & (ds_iris[\"sepal.length\"] < 5)] "
   ]
  },
  {
   "cell_type": "code",
   "execution_count": null,
   "metadata": {
    "id": "tc34jhWUn-uX"
   },
   "outputs": [],
   "source": [
    "#@title Reemplazo de cabecera\n",
    "cabecera = [\"long.sepalo\",\"ancho.sepalo\",\"long.petalo\",\"ancho.petalo\",\"variedad\",]\n",
    "ds_iris.columns = cabecera\n",
    "ds_iris.describe"
   ]
  },
  {
   "cell_type": "code",
   "execution_count": 12,
   "metadata": {
    "executionInfo": {
     "elapsed": 401,
     "status": "ok",
     "timestamp": 1641930245441,
     "user": {
      "displayName": "Alexander Chavez",
      "photoUrl": "https://lh3.googleusercontent.com/a/default-user=s64",
      "userId": "10987698664425569638"
     },
     "user_tz": 180
    },
    "id": "5Wdnkp_TpDYc"
   },
   "outputs": [],
   "source": [
    "#@title Exportar el archivo\n",
    "ruta = \"D:\\Alex\\Estudio\\Esp_Ciencia_Datos\\Exportar_CSV_Iris.csv\"\n",
    "ds_iris.to_csv(ruta)\n",
    "# EL COMANDO SE EJECUTA PERO ALGO FALLA"
   ]
  }
 ],
 "metadata": {
  "colab": {
   "authorship_tag": "ABX9TyOTR+0NAlNJtN7ikoTiaA2u",
   "collapsed_sections": [],
   "name": "02 Comandos básicos.ipynb",
   "provenance": [
    {
     "file_id": "1sslrnUX_8-odySVElPGz89V_Ujk1Tdl7",
     "timestamp": 1639487577314
    }
   ]
  },
  "kernelspec": {
   "display_name": "Python 3 (ipykernel)",
   "language": "python",
   "name": "python3"
  },
  "language_info": {
   "codemirror_mode": {
    "name": "ipython",
    "version": 3
   },
   "file_extension": ".py",
   "mimetype": "text/x-python",
   "name": "python",
   "nbconvert_exporter": "python",
   "pygments_lexer": "ipython3",
   "version": "3.9.7"
  }
 },
 "nbformat": 4,
 "nbformat_minor": 4
}
