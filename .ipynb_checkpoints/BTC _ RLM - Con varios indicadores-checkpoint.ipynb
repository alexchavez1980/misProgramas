{
 "cells": [
  {
   "cell_type": "markdown",
   "metadata": {
    "id": "FVwwzYiHdVSZ"
   },
   "source": [
    "# **Regresión Lineal Múltiple para Bitcoin**"
   ]
  },
  {
   "cell_type": "markdown",
   "metadata": {},
   "source": [
    "### **Librerías instaladas:**\n",
    "* pip install yfinance \n",
    "* pip install matplotlib\n",
    "* pip install pandas\n",
    "* pip install numpy\n",
    "* pip install seaborn \n",
    "* pip install statsmodels\n",
    "* pip install pandas_datareader"
   ]
  },
  {
   "cell_type": "code",
   "execution_count": 1,
   "metadata": {
    "id": "5nYaCa8cdGfV"
   },
   "outputs": [],
   "source": [
    "#@title Importo las dos librerías que necesito.\n",
    "import pandas as pd # La poderosa\n",
    "import numpy as np # La segunda poderosa \n",
    "import matplotlib.pyplot as plt # La que grafica\n",
    "import seaborn as sns\n",
    "import statsmodels.api as sm\n",
    "import yfinance as yf # Pa traer la data de Yahoo Finance\n",
    "from pandas_datareader import data as pdr # Pa leer la data\n",
    "import datetime\n",
    "pd.options.display.float_format = '{:.4f}'.format # Flotantes de 4 decimales."
   ]
  },
  {
   "cell_type": "code",
   "execution_count": 2,
   "metadata": {
    "collapsed": true,
    "id": "aUiVLsg7rVf3",
    "jupyter": {
     "outputs_hidden": true
    },
    "tags": []
   },
   "outputs": [
    {
     "name": "stdout",
     "output_type": "stream",
     "text": [
      "[*********************100%***********************]  1 of 1 completed\n"
     ]
    },
    {
     "data": {
      "text/html": [
       "<div>\n",
       "<style scoped>\n",
       "    .dataframe tbody tr th:only-of-type {\n",
       "        vertical-align: middle;\n",
       "    }\n",
       "\n",
       "    .dataframe tbody tr th {\n",
       "        vertical-align: top;\n",
       "    }\n",
       "\n",
       "    .dataframe thead th {\n",
       "        text-align: right;\n",
       "    }\n",
       "</style>\n",
       "<table border=\"1\" class=\"dataframe\">\n",
       "  <thead>\n",
       "    <tr style=\"text-align: right;\">\n",
       "      <th></th>\n",
       "      <th>DateTime</th>\n",
       "      <th>Open</th>\n",
       "      <th>High</th>\n",
       "      <th>Low</th>\n",
       "      <th>Close</th>\n",
       "      <th>Adj Close</th>\n",
       "      <th>Volume</th>\n",
       "    </tr>\n",
       "    <tr>\n",
       "      <th>Datetime</th>\n",
       "      <th></th>\n",
       "      <th></th>\n",
       "      <th></th>\n",
       "      <th></th>\n",
       "      <th></th>\n",
       "      <th></th>\n",
       "      <th></th>\n",
       "    </tr>\n",
       "  </thead>\n",
       "  <tbody>\n",
       "    <tr>\n",
       "      <th>2022-02-14 13:00:00+00:00</th>\n",
       "      <td>2022-02-14 13:00:00+00:00</td>\n",
       "      <td>42526.5859</td>\n",
       "      <td>42627.7148</td>\n",
       "      <td>42451.3320</td>\n",
       "      <td>42537.7969</td>\n",
       "      <td>42537.7969</td>\n",
       "      <td>0</td>\n",
       "    </tr>\n",
       "    <tr>\n",
       "      <th>2022-02-14 14:00:00+00:00</th>\n",
       "      <td>2022-02-14 14:00:00+00:00</td>\n",
       "      <td>42533.2109</td>\n",
       "      <td>42715.5234</td>\n",
       "      <td>42509.7266</td>\n",
       "      <td>42595.6992</td>\n",
       "      <td>42595.6992</td>\n",
       "      <td>383117312</td>\n",
       "    </tr>\n",
       "    <tr>\n",
       "      <th>2022-02-14 15:00:00+00:00</th>\n",
       "      <td>2022-02-14 15:00:00+00:00</td>\n",
       "      <td>42585.3359</td>\n",
       "      <td>42615.3359</td>\n",
       "      <td>42404.1367</td>\n",
       "      <td>42597.0156</td>\n",
       "      <td>42597.0156</td>\n",
       "      <td>334419968</td>\n",
       "    </tr>\n",
       "    <tr>\n",
       "      <th>2022-02-14 16:00:00+00:00</th>\n",
       "      <td>2022-02-14 16:00:00+00:00</td>\n",
       "      <td>42603.8945</td>\n",
       "      <td>42775.7773</td>\n",
       "      <td>42589.9102</td>\n",
       "      <td>42672.4180</td>\n",
       "      <td>42672.4180</td>\n",
       "      <td>0</td>\n",
       "    </tr>\n",
       "    <tr>\n",
       "      <th>2022-02-14 17:00:00+00:00</th>\n",
       "      <td>2022-02-14 17:00:00+00:00</td>\n",
       "      <td>42674.3125</td>\n",
       "      <td>42721.9062</td>\n",
       "      <td>42597.0898</td>\n",
       "      <td>42604.7031</td>\n",
       "      <td>42604.7031</td>\n",
       "      <td>160133120</td>\n",
       "    </tr>\n",
       "    <tr>\n",
       "      <th>...</th>\n",
       "      <td>...</td>\n",
       "      <td>...</td>\n",
       "      <td>...</td>\n",
       "      <td>...</td>\n",
       "      <td>...</td>\n",
       "      <td>...</td>\n",
       "      <td>...</td>\n",
       "    </tr>\n",
       "    <tr>\n",
       "      <th>2022-03-14 10:00:00+00:00</th>\n",
       "      <td>2022-03-14 10:00:00+00:00</td>\n",
       "      <td>39194.9297</td>\n",
       "      <td>39194.9297</td>\n",
       "      <td>39018.6055</td>\n",
       "      <td>39096.5625</td>\n",
       "      <td>39096.5625</td>\n",
       "      <td>0</td>\n",
       "    </tr>\n",
       "    <tr>\n",
       "      <th>2022-03-14 11:00:00+00:00</th>\n",
       "      <td>2022-03-14 11:00:00+00:00</td>\n",
       "      <td>39096.5781</td>\n",
       "      <td>39106.4531</td>\n",
       "      <td>38936.0938</td>\n",
       "      <td>38947.7734</td>\n",
       "      <td>38947.7734</td>\n",
       "      <td>0</td>\n",
       "    </tr>\n",
       "    <tr>\n",
       "      <th>2022-03-14 12:00:00+00:00</th>\n",
       "      <td>2022-03-14 12:00:00+00:00</td>\n",
       "      <td>38952.2461</td>\n",
       "      <td>38969.2812</td>\n",
       "      <td>38755.8203</td>\n",
       "      <td>38822.4141</td>\n",
       "      <td>38822.4141</td>\n",
       "      <td>0</td>\n",
       "    </tr>\n",
       "    <tr>\n",
       "      <th>2022-03-14 13:00:00+00:00</th>\n",
       "      <td>2022-03-14 13:00:00+00:00</td>\n",
       "      <td>38831.1289</td>\n",
       "      <td>38913.9648</td>\n",
       "      <td>38785.9727</td>\n",
       "      <td>38785.9727</td>\n",
       "      <td>38785.9727</td>\n",
       "      <td>120643584</td>\n",
       "    </tr>\n",
       "    <tr>\n",
       "      <th>2022-03-14 13:28:00+00:00</th>\n",
       "      <td>2022-03-14 13:28:00+00:00</td>\n",
       "      <td>38783.5781</td>\n",
       "      <td>38783.5781</td>\n",
       "      <td>38783.5781</td>\n",
       "      <td>38783.5781</td>\n",
       "      <td>38783.5781</td>\n",
       "      <td>0</td>\n",
       "    </tr>\n",
       "  </tbody>\n",
       "</table>\n",
       "<p>674 rows × 7 columns</p>\n",
       "</div>"
      ],
      "text/plain": [
       "                                           DateTime       Open       High  \\\n",
       "Datetime                                                                    \n",
       "2022-02-14 13:00:00+00:00 2022-02-14 13:00:00+00:00 42526.5859 42627.7148   \n",
       "2022-02-14 14:00:00+00:00 2022-02-14 14:00:00+00:00 42533.2109 42715.5234   \n",
       "2022-02-14 15:00:00+00:00 2022-02-14 15:00:00+00:00 42585.3359 42615.3359   \n",
       "2022-02-14 16:00:00+00:00 2022-02-14 16:00:00+00:00 42603.8945 42775.7773   \n",
       "2022-02-14 17:00:00+00:00 2022-02-14 17:00:00+00:00 42674.3125 42721.9062   \n",
       "...                                             ...        ...        ...   \n",
       "2022-03-14 10:00:00+00:00 2022-03-14 10:00:00+00:00 39194.9297 39194.9297   \n",
       "2022-03-14 11:00:00+00:00 2022-03-14 11:00:00+00:00 39096.5781 39106.4531   \n",
       "2022-03-14 12:00:00+00:00 2022-03-14 12:00:00+00:00 38952.2461 38969.2812   \n",
       "2022-03-14 13:00:00+00:00 2022-03-14 13:00:00+00:00 38831.1289 38913.9648   \n",
       "2022-03-14 13:28:00+00:00 2022-03-14 13:28:00+00:00 38783.5781 38783.5781   \n",
       "\n",
       "                                 Low      Close  Adj Close     Volume  \n",
       "Datetime                                                               \n",
       "2022-02-14 13:00:00+00:00 42451.3320 42537.7969 42537.7969          0  \n",
       "2022-02-14 14:00:00+00:00 42509.7266 42595.6992 42595.6992  383117312  \n",
       "2022-02-14 15:00:00+00:00 42404.1367 42597.0156 42597.0156  334419968  \n",
       "2022-02-14 16:00:00+00:00 42589.9102 42672.4180 42672.4180          0  \n",
       "2022-02-14 17:00:00+00:00 42597.0898 42604.7031 42604.7031  160133120  \n",
       "...                              ...        ...        ...        ...  \n",
       "2022-03-14 10:00:00+00:00 39018.6055 39096.5625 39096.5625          0  \n",
       "2022-03-14 11:00:00+00:00 38936.0938 38947.7734 38947.7734          0  \n",
       "2022-03-14 12:00:00+00:00 38755.8203 38822.4141 38822.4141          0  \n",
       "2022-03-14 13:00:00+00:00 38785.9727 38785.9727 38785.9727  120643584  \n",
       "2022-03-14 13:28:00+00:00 38783.5781 38783.5781 38783.5781          0  \n",
       "\n",
       "[674 rows x 7 columns]"
      ]
     },
     "execution_count": 2,
     "metadata": {},
     "output_type": "execute_result"
    }
   ],
   "source": [
    "#@title  Carga de dataset\n",
    "#Valid periods: 1d,5d,1mo,3mo,6mo,1y,5y,10y,ytd,max. PERIODO DE TIEMPO\n",
    "#Valid intervals:1m,2m,5m,15m,30m,60m,90m,1h,1d,5d,1wk,1mo,3mo. TAMAÑO DE LA VELA\n",
    "#df = yf.download('BTC-USD', start = '2017-08-01', end = '2021-12-27')\n",
    "#ds_BTC = yf.download('BTC-USD', period = '1mo', interval = '5m') EL PRINCIPAL QUE USO\n",
    "ds_BTC = yf.download('BTC-USD', period = '1mo', interval = '60m') #Uno chico\n",
    "#ds_BTC.describe()\n",
    "# Importante: Incluyo la cronología en una columna.\n",
    "# Recordar que esto son series de tiempo.\n",
    "ds_BTC['DateTime'] = ds_BTC.index \n",
    "# Acá reorganizo columnas para que el tiempo quede al ppio. \n",
    "cols_ds_BTC = list(ds_BTC.columns)\n",
    "cols_ds_BTC\n",
    "aux_cols = cols_ds_BTC[-1:] + cols_ds_BTC[:-1] \n",
    "aux_cols\n",
    "ds_BTC = ds_BTC[aux_cols]\n",
    "ds_BTC\n",
    "#ds_BTC = ds_BTC[['DateTime','Open','High','Low','Close','Adj Close','Volume']]\n",
    "# ds_BTC.style.hide_index() | Me falta borrar la columna index."
   ]
  },
  {
   "cell_type": "code",
   "execution_count": 3,
   "metadata": {
    "id": "guF0OPjCadgz"
   },
   "outputs": [
    {
     "name": "stdout",
     "output_type": "stream",
     "text": [
      "[*********************100%***********************]  1 of 1 completed\n"
     ]
    },
    {
     "data": {
      "text/html": [
       "<div>\n",
       "<style scoped>\n",
       "    .dataframe tbody tr th:only-of-type {\n",
       "        vertical-align: middle;\n",
       "    }\n",
       "\n",
       "    .dataframe tbody tr th {\n",
       "        vertical-align: top;\n",
       "    }\n",
       "\n",
       "    .dataframe thead th {\n",
       "        text-align: right;\n",
       "    }\n",
       "</style>\n",
       "<table border=\"1\" class=\"dataframe\">\n",
       "  <thead>\n",
       "    <tr style=\"text-align: right;\">\n",
       "      <th></th>\n",
       "      <th>DateTime</th>\n",
       "      <th>Open</th>\n",
       "      <th>High</th>\n",
       "      <th>Low</th>\n",
       "      <th>Close</th>\n",
       "      <th>Adj Close</th>\n",
       "      <th>Volume</th>\n",
       "      <th>Open_SPY</th>\n",
       "      <th>High_SPY</th>\n",
       "      <th>Low_SPY</th>\n",
       "      <th>Close_SPY</th>\n",
       "      <th>Adj Close_SPY</th>\n",
       "      <th>Volume_SPY</th>\n",
       "    </tr>\n",
       "  </thead>\n",
       "  <tbody>\n",
       "    <tr>\n",
       "      <th>0</th>\n",
       "      <td>2022-02-14 15:00:00+00:00</td>\n",
       "      <td>42585.3359</td>\n",
       "      <td>42615.3359</td>\n",
       "      <td>42404.1367</td>\n",
       "      <td>42597.0156</td>\n",
       "      <td>42597.0156</td>\n",
       "      <td>334419968</td>\n",
       "      <td>440.1600</td>\n",
       "      <td>440.1700</td>\n",
       "      <td>438.1300</td>\n",
       "      <td>438.3600</td>\n",
       "      <td>438.3600</td>\n",
       "      <td>2554474</td>\n",
       "    </tr>\n",
       "    <tr>\n",
       "      <th>1</th>\n",
       "      <td>2022-02-14 16:00:00+00:00</td>\n",
       "      <td>42603.8945</td>\n",
       "      <td>42775.7773</td>\n",
       "      <td>42589.9102</td>\n",
       "      <td>42672.4180</td>\n",
       "      <td>42672.4180</td>\n",
       "      <td>0</td>\n",
       "      <td>437.8800</td>\n",
       "      <td>438.7500</td>\n",
       "      <td>437.6200</td>\n",
       "      <td>438.5800</td>\n",
       "      <td>438.5800</td>\n",
       "      <td>892915</td>\n",
       "    </tr>\n",
       "    <tr>\n",
       "      <th>2</th>\n",
       "      <td>2022-02-14 17:00:00+00:00</td>\n",
       "      <td>42674.3125</td>\n",
       "      <td>42721.9062</td>\n",
       "      <td>42597.0898</td>\n",
       "      <td>42604.7031</td>\n",
       "      <td>42604.7031</td>\n",
       "      <td>160133120</td>\n",
       "      <td>440.1800</td>\n",
       "      <td>440.6300</td>\n",
       "      <td>439.8100</td>\n",
       "      <td>440.1200</td>\n",
       "      <td>440.1200</td>\n",
       "      <td>685835</td>\n",
       "    </tr>\n",
       "    <tr>\n",
       "      <th>3</th>\n",
       "      <td>2022-02-14 18:00:00+00:00</td>\n",
       "      <td>42610.2305</td>\n",
       "      <td>42638.7930</td>\n",
       "      <td>42316.7812</td>\n",
       "      <td>42325.3828</td>\n",
       "      <td>42325.3828</td>\n",
       "      <td>0</td>\n",
       "      <td>440.9100</td>\n",
       "      <td>441.1100</td>\n",
       "      <td>440.5800</td>\n",
       "      <td>441.0200</td>\n",
       "      <td>441.0200</td>\n",
       "      <td>502092</td>\n",
       "    </tr>\n",
       "    <tr>\n",
       "      <th>4</th>\n",
       "      <td>2022-02-14 19:00:00+00:00</td>\n",
       "      <td>42299.3398</td>\n",
       "      <td>42305.7227</td>\n",
       "      <td>41928.1914</td>\n",
       "      <td>42102.5547</td>\n",
       "      <td>42102.5547</td>\n",
       "      <td>942950400</td>\n",
       "      <td>436.2600</td>\n",
       "      <td>436.8400</td>\n",
       "      <td>435.9200</td>\n",
       "      <td>436.0200</td>\n",
       "      <td>436.0200</td>\n",
       "      <td>2264820</td>\n",
       "    </tr>\n",
       "  </tbody>\n",
       "</table>\n",
       "</div>"
      ],
      "text/plain": [
       "                    DateTime       Open       High        Low      Close  \\\n",
       "0  2022-02-14 15:00:00+00:00 42585.3359 42615.3359 42404.1367 42597.0156   \n",
       "1  2022-02-14 16:00:00+00:00 42603.8945 42775.7773 42589.9102 42672.4180   \n",
       "2  2022-02-14 17:00:00+00:00 42674.3125 42721.9062 42597.0898 42604.7031   \n",
       "3  2022-02-14 18:00:00+00:00 42610.2305 42638.7930 42316.7812 42325.3828   \n",
       "4  2022-02-14 19:00:00+00:00 42299.3398 42305.7227 41928.1914 42102.5547   \n",
       "\n",
       "   Adj Close     Volume  Open_SPY  High_SPY  Low_SPY  Close_SPY  \\\n",
       "0 42597.0156  334419968  440.1600  440.1700 438.1300   438.3600   \n",
       "1 42672.4180          0  437.8800  438.7500 437.6200   438.5800   \n",
       "2 42604.7031  160133120  440.1800  440.6300 439.8100   440.1200   \n",
       "3 42325.3828          0  440.9100  441.1100 440.5800   441.0200   \n",
       "4 42102.5547  942950400  436.2600  436.8400 435.9200   436.0200   \n",
       "\n",
       "   Adj Close_SPY  Volume_SPY  \n",
       "0       438.3600     2554474  \n",
       "1       438.5800      892915  \n",
       "2       440.1200      685835  \n",
       "3       441.0200      502092  \n",
       "4       436.0200     2264820  "
      ]
     },
     "execution_count": 3,
     "metadata": {},
     "output_type": "execute_result"
    }
   ],
   "source": [
    "#@title  Carga de otros indicadores, por ejemplo: S&P 500\n",
    "# Si necesitás ajustar parámetros, podés guiaste con el paso anterior\n",
    "ds_SPY = yf.download('SPY', period = '1mo', interval = '5m')\n",
    "ds_SPY.rename(columns={\n",
    "    'Open':'Open_SPY',\n",
    "    'High':'High_SPY',\n",
    "    'Low':'Low_SPY',\n",
    "    'Close':'Close_SPY',\n",
    "    'Adj Close':'Adj Close_SPY',\n",
    "    'Volume':'Volume_SPY',\n",
    "    },inplace=True)\n",
    "ds_SPY\n",
    "# Recordar que esto son series de tiempo.\n",
    "ds_SPY['DateTime'] = ds_SPY.index \n",
    "# Acá reorganizo columnas para que el tiempo quede al ppio. \n",
    "cols_ds_SPY = list(ds_SPY.columns)\n",
    "#cols_ds_SPY\n",
    "aux_cols = cols_ds_SPY[-1:] + cols_ds_SPY[:-1] \n",
    "#aux_cols\n",
    "ds_SPY = ds_SPY[aux_cols]\n",
    "#ds_SPY\n",
    "# Uno todo en el dataset ppal \n",
    "# pd.merge(ds_BTC,ds_SPY, how=\"outer\",left_index=True, right_index=True)\n",
    "# pd.merge(ds_BTC,ds_SPY, on='DateTime')\n",
    "papaya = pd.merge(ds_BTC,ds_SPY, on='DateTime')\n",
    "papaya.head()"
   ]
  },
  {
   "cell_type": "code",
   "execution_count": 4,
   "metadata": {
    "id": "JZhvWOw2rYVQ"
   },
   "outputs": [
    {
     "data": {
      "text/plain": [
       "['DateTime', 'Open', 'High', 'Low', 'Close', 'Adj Close', 'Volume']"
      ]
     },
     "execution_count": 4,
     "metadata": {},
     "output_type": "execute_result"
    }
   ],
   "source": [
    "ds_BTC['DateTime'] = ds_BTC.index # Importante: Incluyo la cronología en una columna\n",
    "cols_ds_BTC = list(ds_BTC.columns)\n",
    "cols_ds_BTC\n",
    "#aux_cols = cols_ds_BTC[-1:]\n",
    "#aux_cols\n",
    "#ds_BTC = ds_BTC[['DateTime','Open','High','Low','Close','Adj Close','Volume']]\n",
    "# ds_BTC.style.hide_index() | Me falta borrar la columna index."
   ]
  },
  {
   "cell_type": "markdown",
   "metadata": {
    "id": "rJnHhEVlmZkF"
   },
   "source": [
    "## **1. Analisis exploratorio**"
   ]
  },
  {
   "cell_type": "code",
   "execution_count": 5,
   "metadata": {
    "id": "FTNFHB5kf8B-"
   },
   "outputs": [
    {
     "data": {
      "text/html": [
       "<div>\n",
       "<style scoped>\n",
       "    .dataframe tbody tr th:only-of-type {\n",
       "        vertical-align: middle;\n",
       "    }\n",
       "\n",
       "    .dataframe tbody tr th {\n",
       "        vertical-align: top;\n",
       "    }\n",
       "\n",
       "    .dataframe thead th {\n",
       "        text-align: right;\n",
       "    }\n",
       "</style>\n",
       "<table border=\"1\" class=\"dataframe\">\n",
       "  <thead>\n",
       "    <tr style=\"text-align: right;\">\n",
       "      <th></th>\n",
       "      <th>DateTime</th>\n",
       "      <th>Open</th>\n",
       "      <th>High</th>\n",
       "      <th>Low</th>\n",
       "      <th>Close</th>\n",
       "      <th>Adj Close</th>\n",
       "      <th>Volume</th>\n",
       "    </tr>\n",
       "    <tr>\n",
       "      <th>Datetime</th>\n",
       "      <th></th>\n",
       "      <th></th>\n",
       "      <th></th>\n",
       "      <th></th>\n",
       "      <th></th>\n",
       "      <th></th>\n",
       "      <th></th>\n",
       "    </tr>\n",
       "  </thead>\n",
       "  <tbody>\n",
       "    <tr>\n",
       "      <th>2022-02-14 13:00:00+00:00</th>\n",
       "      <td>2022-02-14 13:00:00+00:00</td>\n",
       "      <td>42526.5859</td>\n",
       "      <td>42627.7148</td>\n",
       "      <td>42451.3320</td>\n",
       "      <td>42537.7969</td>\n",
       "      <td>42537.7969</td>\n",
       "      <td>0</td>\n",
       "    </tr>\n",
       "    <tr>\n",
       "      <th>2022-02-14 14:00:00+00:00</th>\n",
       "      <td>2022-02-14 14:00:00+00:00</td>\n",
       "      <td>42533.2109</td>\n",
       "      <td>42715.5234</td>\n",
       "      <td>42509.7266</td>\n",
       "      <td>42595.6992</td>\n",
       "      <td>42595.6992</td>\n",
       "      <td>383117312</td>\n",
       "    </tr>\n",
       "    <tr>\n",
       "      <th>2022-02-14 15:00:00+00:00</th>\n",
       "      <td>2022-02-14 15:00:00+00:00</td>\n",
       "      <td>42585.3359</td>\n",
       "      <td>42615.3359</td>\n",
       "      <td>42404.1367</td>\n",
       "      <td>42597.0156</td>\n",
       "      <td>42597.0156</td>\n",
       "      <td>334419968</td>\n",
       "    </tr>\n",
       "    <tr>\n",
       "      <th>2022-02-14 16:00:00+00:00</th>\n",
       "      <td>2022-02-14 16:00:00+00:00</td>\n",
       "      <td>42603.8945</td>\n",
       "      <td>42775.7773</td>\n",
       "      <td>42589.9102</td>\n",
       "      <td>42672.4180</td>\n",
       "      <td>42672.4180</td>\n",
       "      <td>0</td>\n",
       "    </tr>\n",
       "    <tr>\n",
       "      <th>2022-02-14 17:00:00+00:00</th>\n",
       "      <td>2022-02-14 17:00:00+00:00</td>\n",
       "      <td>42674.3125</td>\n",
       "      <td>42721.9062</td>\n",
       "      <td>42597.0898</td>\n",
       "      <td>42604.7031</td>\n",
       "      <td>42604.7031</td>\n",
       "      <td>160133120</td>\n",
       "    </tr>\n",
       "  </tbody>\n",
       "</table>\n",
       "</div>"
      ],
      "text/plain": [
       "                                           DateTime       Open       High  \\\n",
       "Datetime                                                                    \n",
       "2022-02-14 13:00:00+00:00 2022-02-14 13:00:00+00:00 42526.5859 42627.7148   \n",
       "2022-02-14 14:00:00+00:00 2022-02-14 14:00:00+00:00 42533.2109 42715.5234   \n",
       "2022-02-14 15:00:00+00:00 2022-02-14 15:00:00+00:00 42585.3359 42615.3359   \n",
       "2022-02-14 16:00:00+00:00 2022-02-14 16:00:00+00:00 42603.8945 42775.7773   \n",
       "2022-02-14 17:00:00+00:00 2022-02-14 17:00:00+00:00 42674.3125 42721.9062   \n",
       "\n",
       "                                 Low      Close  Adj Close     Volume  \n",
       "Datetime                                                               \n",
       "2022-02-14 13:00:00+00:00 42451.3320 42537.7969 42537.7969          0  \n",
       "2022-02-14 14:00:00+00:00 42509.7266 42595.6992 42595.6992  383117312  \n",
       "2022-02-14 15:00:00+00:00 42404.1367 42597.0156 42597.0156  334419968  \n",
       "2022-02-14 16:00:00+00:00 42589.9102 42672.4180 42672.4180          0  \n",
       "2022-02-14 17:00:00+00:00 42597.0898 42604.7031 42604.7031  160133120  "
      ]
     },
     "execution_count": 5,
     "metadata": {},
     "output_type": "execute_result"
    }
   ],
   "source": [
    "#@title Encabezado del data set\n",
    "ds_BTC.head()"
   ]
  },
  {
   "cell_type": "code",
   "execution_count": 6,
   "metadata": {
    "id": "xb0IjbL9u32h"
   },
   "outputs": [],
   "source": [
    "#@title Cantidad de filas para separar el dataframe en 80/20\n",
    "cant_filas = ds_BTC.shape[0]  #cant_col = ds_BTC.shape[1]  \n",
    "cant_filas_test =  int(cant_filas * 0.2)\n",
    "cant_filas_entrenamiento = cant_filas - cant_filas_test"
   ]
  },
  {
   "cell_type": "code",
   "execution_count": 7,
   "metadata": {
    "id": "1I2ZtMQef9vj"
   },
   "outputs": [
    {
     "data": {
      "text/html": [
       "<div>\n",
       "<style scoped>\n",
       "    .dataframe tbody tr th:only-of-type {\n",
       "        vertical-align: middle;\n",
       "    }\n",
       "\n",
       "    .dataframe tbody tr th {\n",
       "        vertical-align: top;\n",
       "    }\n",
       "\n",
       "    .dataframe thead th {\n",
       "        text-align: right;\n",
       "    }\n",
       "</style>\n",
       "<table border=\"1\" class=\"dataframe\">\n",
       "  <thead>\n",
       "    <tr style=\"text-align: right;\">\n",
       "      <th></th>\n",
       "      <th>Open</th>\n",
       "      <th>High</th>\n",
       "      <th>Low</th>\n",
       "      <th>Close</th>\n",
       "      <th>Adj Close</th>\n",
       "      <th>Volume</th>\n",
       "    </tr>\n",
       "  </thead>\n",
       "  <tbody>\n",
       "    <tr>\n",
       "      <th>Open</th>\n",
       "      <td>1.0000</td>\n",
       "      <td>0.9956</td>\n",
       "      <td>0.9965</td>\n",
       "      <td>0.9914</td>\n",
       "      <td>0.9914</td>\n",
       "      <td>-0.1468</td>\n",
       "    </tr>\n",
       "    <tr>\n",
       "      <th>High</th>\n",
       "      <td>0.9956</td>\n",
       "      <td>1.0000</td>\n",
       "      <td>0.9944</td>\n",
       "      <td>0.9965</td>\n",
       "      <td>0.9965</td>\n",
       "      <td>-0.0873</td>\n",
       "    </tr>\n",
       "    <tr>\n",
       "      <th>Low</th>\n",
       "      <td>0.9965</td>\n",
       "      <td>0.9944</td>\n",
       "      <td>1.0000</td>\n",
       "      <td>0.9961</td>\n",
       "      <td>0.9961</td>\n",
       "      <td>-0.1632</td>\n",
       "    </tr>\n",
       "    <tr>\n",
       "      <th>Close</th>\n",
       "      <td>0.9914</td>\n",
       "      <td>0.9965</td>\n",
       "      <td>0.9961</td>\n",
       "      <td>1.0000</td>\n",
       "      <td>1.0000</td>\n",
       "      <td>-0.1074</td>\n",
       "    </tr>\n",
       "    <tr>\n",
       "      <th>Adj Close</th>\n",
       "      <td>0.9914</td>\n",
       "      <td>0.9965</td>\n",
       "      <td>0.9961</td>\n",
       "      <td>1.0000</td>\n",
       "      <td>1.0000</td>\n",
       "      <td>-0.1074</td>\n",
       "    </tr>\n",
       "    <tr>\n",
       "      <th>Volume</th>\n",
       "      <td>-0.1468</td>\n",
       "      <td>-0.0873</td>\n",
       "      <td>-0.1632</td>\n",
       "      <td>-0.1074</td>\n",
       "      <td>-0.1074</td>\n",
       "      <td>1.0000</td>\n",
       "    </tr>\n",
       "  </tbody>\n",
       "</table>\n",
       "</div>"
      ],
      "text/plain": [
       "             Open    High     Low   Close  Adj Close  Volume\n",
       "Open       1.0000  0.9956  0.9965  0.9914     0.9914 -0.1468\n",
       "High       0.9956  1.0000  0.9944  0.9965     0.9965 -0.0873\n",
       "Low        0.9965  0.9944  1.0000  0.9961     0.9961 -0.1632\n",
       "Close      0.9914  0.9965  0.9961  1.0000     1.0000 -0.1074\n",
       "Adj Close  0.9914  0.9965  0.9961  1.0000     1.0000 -0.1074\n",
       "Volume    -0.1468 -0.0873 -0.1632 -0.1074    -0.1074  1.0000"
      ]
     },
     "execution_count": 7,
     "metadata": {},
     "output_type": "execute_result"
    }
   ],
   "source": [
    "#@title Matriz de correlación\n",
    "ds_BTC.corr()"
   ]
  },
  {
   "cell_type": "code",
   "execution_count": 8,
   "metadata": {
    "id": "8rMnbZ_hPLhY"
   },
   "outputs": [
    {
     "name": "stderr",
     "output_type": "stream",
     "text": [
      "No artists with labels found to put in legend.  Note that artists whose label start with an underscore are ignored when legend() is called with no argument.\n"
     ]
    },
    {
     "data": {
      "image/png": "[encoded data removed]",
      "text/plain": [
       "<Figure size 1440x360 with 4 Axes>"
      ]
     },
     "metadata": {
      "needs_background": "light"
     },
     "output_type": "display_data"
    }
   ],
   "source": [
    "#@title Gráficas de relaciones de variables con el precio\n",
    "fig, (ax1, ax2, ax3, ax4) = plt.subplots(nrows=1, ncols=4, figsize=(20, 5))\n",
    "ds_BTC.plot.scatter(x='Open', y='Close', ax=ax1)\n",
    "ds_BTC.plot.scatter(x='High', y='Close', ax=ax2)\n",
    "ds_BTC.plot.scatter(x='Low', y='Close', ax=ax3)\n",
    "ds_BTC.plot.scatter(x='Volume', y='Close', ax=ax4);\n",
    "#Definir título y nombres de ejes # ESTA MÁL. CORREGIR\n",
    "plt.title('Relaciones con el precio de cierre')\n",
    "plt.legend()\n",
    "plt.show()"
   ]
  },
  {
   "cell_type": "code",
   "execution_count": 51,
   "metadata": {},
   "outputs": [
    {
     "data": {
      "image/png": "[encoded data removed]",
      "text/plain": [
       "<Figure size 1440x1080 with 6 Axes>"
      ]
     },
     "metadata": {
      "needs_background": "light"
     },
     "output_type": "display_data"
    }
   ],
   "source": [
    "ds_BTC.iloc[0:,1:].hist( #elimino la columna Date.Time para graficar las otras\n",
    "    bins=50, #bins: cantidad de contenedores en que dividirá la muestra \n",
    "    edgecolor='darkblue', #color del borde de los contenedores\n",
    "    label='Bitcoin',\n",
    "    #log=True, #escala logarítmica habilitada\n",
    "    #width = 10, #grosor. No anduvo bien\n",
    "    color = 'lightblue',\n",
    "    figsize=(20,15)) #tamaño de la imagen\n",
    "plt.grid() # FALTA VER POR QUÉ NO LE PONE GRILLA AL VOLUMEN\n",
    "plt.show()\n",
    "#plt.title('Bitcoin')\n",
    "#plt.ylabel('Precio')\n",
    "#plt.xlabel('Cantidad de muestras')\n",
    "#plt.legend()"
   ]
  },
  {
   "cell_type": "code",
   "execution_count": 52,
   "metadata": {},
   "outputs": [
    {
     "data": {
      "image/png": "[encoded data removed]",
      "text/plain": [
       "<Figure size 1440x1080 with 6 Axes>"
      ]
     },
     "metadata": {
      "needs_background": "light"
     },
     "output_type": "display_data"
    },
    {
     "data": {
      "image/png": "[encoded data removed]",
      "text/plain": [
       "<Figure size 1440x1080 with 6 Axes>"
      ]
     },
     "metadata": {
      "needs_background": "light"
     },
     "output_type": "display_data"
    }
   ],
   "source": [
    "ds_BTC.iloc[0:,1:].hist( #elimino la columna Date.Time para graficar las otras\n",
    "    bins=50, #bins: cantidad de contenedores en que dividirá la muestra \n",
    "    edgecolor='darkblue', #color del borde de los contenedores\n",
    "    label='Bitcoin',\n",
    "    #log=True, #escala logarítmica habilitada\n",
    "    #width = 10, #grosor. No anduvo bien\n",
    "    color = 'lightblue',\n",
    "    figsize=(20,15)) #tamaño de la imagen\n",
    "\n",
    "ds_SPY.iloc[0:,1:].hist( #elimino la columna Date.Time para graficar las otras\n",
    "    bins=50, #bins: cantidad de contenedores en que dividirá la muestra \n",
    "    edgecolor='darkblue', #color del borde de los contenedores\n",
    "    label='Bitcoin',\n",
    "    #log=True, #escala logarítmica habilitada\n",
    "    #width = 10, #grosor. No anduvo bien\n",
    "    color = 'orange',\n",
    "    figsize=(20,15)) #tamaño de la imagen\n",
    "plt.grid() # FALTA VER POR QUÉ NO LE PONE GRILLA AL VOLUMEN\n",
    "plt.show()\n",
    "#plt.title('Bitcoin')\n",
    "#plt.ylabel('Precio')\n",
    "#plt.xlabel('Cantidad de muestras')\n",
    "#plt.legend()\n"
   ]
  },
  {
   "cell_type": "markdown",
   "metadata": {
    "id": "yFVTVf-vSpBx"
   },
   "source": [
    "## **2. Modelo de regresión lineal múltiple**\n",
    "\n",
    "$E(Y|X_1, X_2, ..., X_p) = \\beta_0 + \\beta_1 \\cdot X_1 + \\beta_2  \\cdot X_2 + ... + \\beta_p \\cdot X_p $"
   ]
  },
  {
   "cell_type": "code",
   "execution_count": null,
   "metadata": {
    "id": "-oCQdqxyG9oS"
   },
   "outputs": [],
   "source": [
    "#@title Separo del dataset en X (variables predictoras) e y (variable a predecir)\n",
    "#Acá saco el Volumen ajustado porque la definición aplica a acciones y no encontré explicación para criptos\n",
    "X = ds_BTC[['Open', 'High', 'Low', 'Volume']]\n",
    "y = ds_BTC['Close']"
   ]
  },
  {
   "cell_type": "markdown",
   "metadata": {
    "id": "gyH1OnsIW_qu"
   },
   "source": [
    "### **2.1 Preparación de los datos**\n",
    "\n",
    "**Opción 1**: Usar la función [train_test_split](https://scikit-learn.org/stable/modules/generated/sklearn.model_selection.train_test_split.html). Argumentos: \n",
    "\n",
    "El set de datos de variables predictoras\n",
    "\n",
    "La serie de la variable a predecir y \n",
    "\n",
    "El % de datos que deseamos que forme nuestro set de evaluación."
   ]
  },
  {
   "cell_type": "code",
   "execution_count": null,
   "metadata": {
    "id": "SXJ8LVaonGGE"
   },
   "outputs": [],
   "source": [
    "# Algunos comandos para visualizar y chequear que todo esté en orden\n",
    "# X.head(), y.head(), type(X), type(y), X.shape, y.shape"
   ]
  },
  {
   "cell_type": "code",
   "execution_count": null,
   "metadata": {
    "colab": {
     "base_uri": "https://localhost:8080/"
    },
    "executionInfo": {
     "elapsed": 724,
     "status": "ok",
     "timestamp": 1642850680216,
     "user": {
      "displayName": "Alexander Chavez",
      "photoUrl": "https://lh3.googleusercontent.com/a/default-user=s64",
      "userId": "10987698664425569638"
     },
     "user_tz": 180
    },
    "id": "SZyPj1n8G3tR",
    "outputId": "7e3f5f7a-1eac-46aa-bfca-76ca520cc334"
   },
   "outputs": [
    {
     "name": "stdout",
     "output_type": "stream",
     "text": [
      "El dataset de entrenamiento cuenta con 588 observaciones\n",
      "El dataset de evaluación cuenta con 148 observaciones\n"
     ]
    }
   ],
   "source": [
    "# Data sets de entrenamiento y testeo.\n",
    "from sklearn.model_selection import train_test_split\n",
    "semilla = 2017\n",
    "# Realizamos el split de X e y en los sets de entrenamiento (train) y test\n",
    "X_train, X_test, y_train, y_test = train_test_split(X, y, test_size=0.20, random_state=semilla)\n",
    "print(f\"El dataset de entrenamiento cuenta con {len(X_train)} observaciones\")\n",
    "print(f\"El dataset de evaluación cuenta con {len(X_test)} observaciones\")"
   ]
  },
  {
   "cell_type": "markdown",
   "metadata": {
    "id": "krK5n5OJ8e_u"
   },
   "source": [
    "**Opción 2**: Artesanalmente"
   ]
  },
  {
   "cell_type": "code",
   "execution_count": null,
   "metadata": {
    "id": "gspSnn7kx4tX"
   },
   "outputs": [],
   "source": [
    "#@title Opción 2.  \n",
    "#Selección ds_BTC_test tenida en cuenta como una serie de tiempo.\n",
    "#Esto es importante ya que hay un orden cronológico en los datos.\n",
    "ds_BTC_test = ds_BTC.iloc[0:cant_filas_test] \n",
    "#ds_BTC_test\n",
    "X_test = ds_BTC_test[['Open', 'High', 'Low', 'Volume']]\n",
    "y_test = ds_BTC_test['Close']"
   ]
  },
  {
   "cell_type": "code",
   "execution_count": null,
   "metadata": {
    "id": "dtA_HLTWzRTP"
   },
   "outputs": [],
   "source": [
    "#@title Selección ds_BTC_entrenamiento tenida en cuenta como una serie de tiempo\n",
    "ds_BTC_entrenamiento = ds_BTC.iloc[cant_filas_test:] \n",
    "#ds_BTC_entrenamiento\n",
    "X_train = ds_BTC_entrenamiento[['Open', 'High', 'Low', 'Volume']]\n",
    "y_train = ds_BTC_entrenamiento['Close']"
   ]
  },
  {
   "cell_type": "markdown",
   "metadata": {
    "id": "Mc71NGqxBZWc"
   },
   "source": [
    "### **2.2 Obtención del modelo**\n",
    "\n",
    "Probemos con **Open** y **High** como variables predictoras.\n",
    "Tienen correlación. Así que...\n",
    "\n",
    "$E(precio|.) = \\beta_0 + \\beta_1 \\cdot Open + \\beta_2 \\cdot High$"
   ]
  },
  {
   "cell_type": "code",
   "execution_count": null,
   "metadata": {
    "id": "ojkV0iscnGrD"
   },
   "outputs": [],
   "source": [
    "#@title Definimos las dos variables predictoras.\n",
    "# Por qué esas dos? Por que si. Probemos:\n",
    "var_predictoras = ['Open', 'High']"
   ]
  },
  {
   "cell_type": "code",
   "execution_count": null,
   "metadata": {
    "id": "3bdsztc6vfci"
   },
   "outputs": [],
   "source": [
    "#@title Construimos la matriz de X\n",
    "X_train_modelo_2var = X_train[var_predictoras]\n",
    "X_train_modelo_2var.head()"
   ]
  },
  {
   "cell_type": "code",
   "execution_count": null,
   "metadata": {
    "id": "HJ5GH484aROm"
   },
   "outputs": [],
   "source": [
    "#@title Importamos el modelo lineal y otras cosas.\n",
    "# Modelo lineal\n",
    "from sklearn.linear_model import LinearRegression\n",
    "# Error cuadrático medio\n",
    "from sklearn.metrics import mean_squared_error"
   ]
  },
  {
   "cell_type": "code",
   "execution_count": null,
   "metadata": {
    "id": "CX2foO_Pvv_E"
   },
   "outputs": [],
   "source": [
    "#@title Definimos una instancia del modelo lineal con scikit learn\n",
    "LM_2var = LinearRegression(fit_intercept=True) # El fit_intercept=True es para jugar con el B0."
   ]
  },
  {
   "cell_type": "code",
   "execution_count": null,
   "metadata": {
    "colab": {
     "base_uri": "https://localhost:8080/"
    },
    "executionInfo": {
     "elapsed": 286,
     "status": "ok",
     "timestamp": 1643057662909,
     "user": {
      "displayName": "Alexander Chavez",
      "photoUrl": "https://lh3.googleusercontent.com/a/default-user=s64",
      "userId": "10987698664425569638"
     },
     "user_tz": 180
    },
    "id": "eP0O-Di4w13t",
    "outputId": "0fded264-500f-467c-b987-3733da7577c0"
   },
   "outputs": [
    {
     "name": "stdout",
     "output_type": "stream",
     "text": [
      "Beta 1 = -0.1948\n",
      "Beta 2 = 1.2042\n",
      "El cruce por y = -576.2782\n"
     ]
    }
   ],
   "source": [
    "#@title Entreno el modelo y obtengo los coeficientes/intercepto\n",
    "#Entrenamiento:\n",
    "LM_2var.fit(X_train_modelo_2var, y_train)\n",
    "#Guardo coeficientes e intercepto:\n",
    "coeficientes = LM_2var.coef_\n",
    "intercepto = LM_2var.intercept_\n",
    "#Separo los betas:\n",
    "beta_1, beta_2 = coeficientes[0], coeficientes[1] \n",
    "print(f\"Beta 1 = {beta_1:.4f}\")\n",
    "print(f\"Beta 2 = {beta_2:.4f}\")\n",
    "print(f\"El cruce por y = {intercepto:.4f}\")"
   ]
  },
  {
   "cell_type": "code",
   "execution_count": null,
   "metadata": {
    "id": "0IG4C1tbbABX"
   },
   "outputs": [],
   "source": [
    "#@title Definimos una función para obtener los coeficientes en un dataframe\n",
    "# Esto es opcional. Todavía no lo se.\n",
    "def obtener_coeficientes(modelo, lista_variables):\n",
    "  '''Crea un dataframe con los coeficientes estimados de un modelo'''\n",
    "  # Creo la lista de nombres de variables\n",
    "  lista_variables = ['intercepto'] + lista_variables\n",
    "  # Intercepto\n",
    "  intercepto = modelo.intercept_\n",
    "  # Lista coeficientes excepto el intercepto\n",
    "  coeficientes = list(modelo.coef_)\n",
    "  # Lista completa coeficientes\n",
    "  lista_coeficientes = [intercepto] + coeficientes\n",
    "  return pd.DataFrame({\"variable\": lista_variables, \"coeficiente\": lista_coeficientes})"
   ]
  },
  {
   "cell_type": "code",
   "execution_count": null,
   "metadata": {
    "colab": {
     "base_uri": "https://localhost:8080/",
     "height": 143
    },
    "executionInfo": {
     "elapsed": 295,
     "status": "ok",
     "timestamp": 1643057697092,
     "user": {
      "displayName": "Alexander Chavez",
      "photoUrl": "https://lh3.googleusercontent.com/a/default-user=s64",
      "userId": "10987698664425569638"
     },
     "user_tz": 180
    },
    "id": "5av6Nk2AdvO9",
    "outputId": "53d87947-7a5e-431f-9bf4-aabf86ce50d5"
   },
   "outputs": [
    {
     "data": {
      "text/html": [
       "\n",
       "  <div id=\"df-cae83002-b8b1-4e37-ac11-43a054c4aaf3\">\n",
       "    <div class=\"colab-df-container\">\n",
       "      <div>\n",
       "<style scoped>\n",
       "    .dataframe tbody tr th:only-of-type {\n",
       "        vertical-align: middle;\n",
       "    }\n",
       "\n",
       "    .dataframe tbody tr th {\n",
       "        vertical-align: top;\n",
       "    }\n",
       "\n",
       "    .dataframe thead th {\n",
       "        text-align: right;\n",
       "    }\n",
       "</style>\n",
       "<table border=\"1\" class=\"dataframe\">\n",
       "  <thead>\n",
       "    <tr style=\"text-align: right;\">\n",
       "      <th></th>\n",
       "      <th>variable</th>\n",
       "      <th>coeficiente</th>\n",
       "    </tr>\n",
       "  </thead>\n",
       "  <tbody>\n",
       "    <tr>\n",
       "      <th>0</th>\n",
       "      <td>intercepto</td>\n",
       "      <td>-576.2782</td>\n",
       "    </tr>\n",
       "    <tr>\n",
       "      <th>1</th>\n",
       "      <td>Open</td>\n",
       "      <td>-0.1948</td>\n",
       "    </tr>\n",
       "    <tr>\n",
       "      <th>2</th>\n",
       "      <td>High</td>\n",
       "      <td>1.2042</td>\n",
       "    </tr>\n",
       "  </tbody>\n",
       "</table>\n",
       "</div>\n",
       "      <button class=\"colab-df-convert\" onclick=\"convertToInteractive('df-cae83002-b8b1-4e37-ac11-43a054c4aaf3')\"\n",
       "              title=\"Convert this dataframe to an interactive table.\"\n",
       "              style=\"display:none;\">\n",
       "        \n",
       "  <svg xmlns=\"http://www.w3.org/2000/svg\" height=\"24px\"viewBox=\"0 0 24 24\"\n",
       "       width=\"24px\">\n",
       "    <path d=\"M0 0h24v24H0V0z\" fill=\"none\"/>\n",
       "    <path d=\"M18.56 5.44l.94 2.06.94-2.06 2.06-.94-2.06-.94-.94-2.06-.94 2.06-2.06.94zm-11 1L8.5 8.5l.94-2.06 2.06-.94-2.06-.94L8.5 2.5l-.94 2.06-2.06.94zm10 10l.94 2.06.94-2.06 2.06-.94-2.06-.94-.94-2.06-.94 2.06-2.06.94z\"/><path d=\"M17.41 7.96l-1.37-1.37c-.4-.4-.92-.59-1.43-.59-.52 0-1.04.2-1.43.59L10.3 9.45l-7.72 7.72c-.78.78-.78 2.05 0 2.83L4 21.41c.39.39.9.59 1.41.59.51 0 1.02-.2 1.41-.59l7.78-7.78 2.81-2.81c.8-.78.8-2.07 0-2.86zM5.41 20L4 18.59l7.72-7.72 1.47 1.35L5.41 20z\"/>\n",
       "  </svg>\n",
       "      </button>\n",
       "      \n",
       "  <style>\n",
       "    .colab-df-container {\n",
       "      display:flex;\n",
       "      flex-wrap:wrap;\n",
       "      gap: 12px;\n",
       "    }\n",
       "\n",
       "    .colab-df-convert {\n",
       "      background-color: #E8F0FE;\n",
       "      border: none;\n",
       "      border-radius: 50%;\n",
       "      cursor: pointer;\n",
       "      display: none;\n",
       "      fill: #1967D2;\n",
       "      height: 32px;\n",
       "      padding: 0 0 0 0;\n",
       "      width: 32px;\n",
       "    }\n",
       "\n",
       "    .colab-df-convert:hover {\n",
       "      background-color: #E2EBFA;\n",
       "      box-shadow: 0px 1px 2px rgba(60, 64, 67, 0.3), 0px 1px 3px 1px rgba(60, 64, 67, 0.15);\n",
       "      fill: #174EA6;\n",
       "    }\n",
       "\n",
       "    [theme=dark] .colab-df-convert {\n",
       "      background-color: #3B4455;\n",
       "      fill: #D2E3FC;\n",
       "    }\n",
       "\n",
       "    [theme=dark] .colab-df-convert:hover {\n",
       "      background-color: #434B5C;\n",
       "      box-shadow: 0px 1px 3px 1px rgba(0, 0, 0, 0.15);\n",
       "      filter: drop-shadow(0px 1px 2px rgba(0, 0, 0, 0.3));\n",
       "      fill: #FFFFFF;\n",
       "    }\n",
       "  </style>\n",
       "\n",
       "      <script>\n",
       "        const buttonEl =\n",
       "          document.querySelector('#df-cae83002-b8b1-4e37-ac11-43a054c4aaf3 button.colab-df-convert');\n",
       "        buttonEl.style.display =\n",
       "          google.colab.kernel.accessAllowed ? 'block' : 'none';\n",
       "\n",
       "        async function convertToInteractive(key) {\n",
       "          const element = document.querySelector('#df-cae83002-b8b1-4e37-ac11-43a054c4aaf3');\n",
       "          const dataTable =\n",
       "            await google.colab.kernel.invokeFunction('convertToInteractive',\n",
       "                                                     [key], {});\n",
       "          if (!dataTable) return;\n",
       "\n",
       "          const docLinkHtml = 'Like what you see? Visit the ' +\n",
       "            '<a target=\"_blank\" href=https://colab.research.google.com/notebooks/data_table.ipynb>data table notebook</a>'\n",
       "            + ' to learn more about interactive tables.';\n",
       "          element.innerHTML = '';\n",
       "          dataTable['output_type'] = 'display_data';\n",
       "          await google.colab.output.renderOutput(dataTable, element);\n",
       "          const docLink = document.createElement('div');\n",
       "          docLink.innerHTML = docLinkHtml;\n",
       "          element.appendChild(docLink);\n",
       "        }\n",
       "      </script>\n",
       "    </div>\n",
       "  </div>\n",
       "  "
      ],
      "text/plain": [
       "     variable  coeficiente\n",
       "0  intercepto    -576.2782\n",
       "1        Open      -0.1948\n",
       "2        High       1.2042"
      ]
     },
     "execution_count": 20,
     "metadata": {},
     "output_type": "execute_result"
    }
   ],
   "source": [
    "# Obtenemos nuestro dataframe \n",
    "coeficientes_LM_2var = obtener_coeficientes(LM_2var, var_predictoras)\n",
    "coeficientes_LM_2var"
   ]
  },
  {
   "cell_type": "code",
   "execution_count": null,
   "metadata": {
    "id": "w-p2QAF_p79X"
   },
   "outputs": [],
   "source": [
    "!pip install funpymodeling"
   ]
  },
  {
   "cell_type": "code",
   "execution_count": null,
   "metadata": {
    "id": "-WJpbAxgqF4g"
   },
   "outputs": [],
   "source": [
    "# Para transformar cualquier cosa en un data frame.\n",
    "from funpymodeling.data_prep import todf "
   ]
  },
  {
   "cell_type": "code",
   "execution_count": null,
   "metadata": {
    "colab": {
     "base_uri": "https://localhost:8080/",
     "height": 423
    },
    "executionInfo": {
     "elapsed": 293,
     "status": "ok",
     "timestamp": 1643057717792,
     "user": {
      "displayName": "Alexander Chavez",
      "photoUrl": "https://lh3.googleusercontent.com/a/default-user=s64",
      "userId": "10987698664425569638"
     },
     "user_tz": 180
    },
    "id": "0i1y7RGJtzFw",
    "outputId": "3b3c6f8d-64e5-4e94-ed01-b3a95be10253"
   },
   "outputs": [
    {
     "data": {
      "text/html": [
       "\n",
       "  <div id=\"df-049906d8-5210-48b9-968a-dce5b75eec0d\">\n",
       "    <div class=\"colab-df-container\">\n",
       "      <div>\n",
       "<style scoped>\n",
       "    .dataframe tbody tr th:only-of-type {\n",
       "        vertical-align: middle;\n",
       "    }\n",
       "\n",
       "    .dataframe tbody tr th {\n",
       "        vertical-align: top;\n",
       "    }\n",
       "\n",
       "    .dataframe thead th {\n",
       "        text-align: right;\n",
       "    }\n",
       "</style>\n",
       "<table border=\"1\" class=\"dataframe\">\n",
       "  <thead>\n",
       "    <tr style=\"text-align: right;\">\n",
       "      <th></th>\n",
       "      <th>Predicho</th>\n",
       "    </tr>\n",
       "  </thead>\n",
       "  <tbody>\n",
       "    <tr>\n",
       "      <th>0</th>\n",
       "      <td>51135.4565</td>\n",
       "    </tr>\n",
       "    <tr>\n",
       "      <th>1</th>\n",
       "      <td>51061.0489</td>\n",
       "    </tr>\n",
       "    <tr>\n",
       "      <th>2</th>\n",
       "      <td>50899.0715</td>\n",
       "    </tr>\n",
       "    <tr>\n",
       "      <th>3</th>\n",
       "      <td>50905.4689</td>\n",
       "    </tr>\n",
       "    <tr>\n",
       "      <th>4</th>\n",
       "      <td>51049.1975</td>\n",
       "    </tr>\n",
       "    <tr>\n",
       "      <th>...</th>\n",
       "      <td>...</td>\n",
       "    </tr>\n",
       "    <tr>\n",
       "      <th>141</th>\n",
       "      <td>47611.5615</td>\n",
       "    </tr>\n",
       "    <tr>\n",
       "      <th>142</th>\n",
       "      <td>47764.5744</td>\n",
       "    </tr>\n",
       "    <tr>\n",
       "      <th>143</th>\n",
       "      <td>47759.0860</td>\n",
       "    </tr>\n",
       "    <tr>\n",
       "      <th>144</th>\n",
       "      <td>47620.9512</td>\n",
       "    </tr>\n",
       "    <tr>\n",
       "      <th>145</th>\n",
       "      <td>47253.6207</td>\n",
       "    </tr>\n",
       "  </tbody>\n",
       "</table>\n",
       "<p>146 rows × 1 columns</p>\n",
       "</div>\n",
       "      <button class=\"colab-df-convert\" onclick=\"convertToInteractive('df-049906d8-5210-48b9-968a-dce5b75eec0d')\"\n",
       "              title=\"Convert this dataframe to an interactive table.\"\n",
       "              style=\"display:none;\">\n",
       "        \n",
       "  <svg xmlns=\"http://www.w3.org/2000/svg\" height=\"24px\"viewBox=\"0 0 24 24\"\n",
       "       width=\"24px\">\n",
       "    <path d=\"M0 0h24v24H0V0z\" fill=\"none\"/>\n",
       "    <path d=\"M18.56 5.44l.94 2.06.94-2.06 2.06-.94-2.06-.94-.94-2.06-.94 2.06-2.06.94zm-11 1L8.5 8.5l.94-2.06 2.06-.94-2.06-.94L8.5 2.5l-.94 2.06-2.06.94zm10 10l.94 2.06.94-2.06 2.06-.94-2.06-.94-.94-2.06-.94 2.06-2.06.94z\"/><path d=\"M17.41 7.96l-1.37-1.37c-.4-.4-.92-.59-1.43-.59-.52 0-1.04.2-1.43.59L10.3 9.45l-7.72 7.72c-.78.78-.78 2.05 0 2.83L4 21.41c.39.39.9.59 1.41.59.51 0 1.02-.2 1.41-.59l7.78-7.78 2.81-2.81c.8-.78.8-2.07 0-2.86zM5.41 20L4 18.59l7.72-7.72 1.47 1.35L5.41 20z\"/>\n",
       "  </svg>\n",
       "      </button>\n",
       "      \n",
       "  <style>\n",
       "    .colab-df-container {\n",
       "      display:flex;\n",
       "      flex-wrap:wrap;\n",
       "      gap: 12px;\n",
       "    }\n",
       "\n",
       "    .colab-df-convert {\n",
       "      background-color: #E8F0FE;\n",
       "      border: none;\n",
       "      border-radius: 50%;\n",
       "      cursor: pointer;\n",
       "      display: none;\n",
       "      fill: #1967D2;\n",
       "      height: 32px;\n",
       "      padding: 0 0 0 0;\n",
       "      width: 32px;\n",
       "    }\n",
       "\n",
       "    .colab-df-convert:hover {\n",
       "      background-color: #E2EBFA;\n",
       "      box-shadow: 0px 1px 2px rgba(60, 64, 67, 0.3), 0px 1px 3px 1px rgba(60, 64, 67, 0.15);\n",
       "      fill: #174EA6;\n",
       "    }\n",
       "\n",
       "    [theme=dark] .colab-df-convert {\n",
       "      background-color: #3B4455;\n",
       "      fill: #D2E3FC;\n",
       "    }\n",
       "\n",
       "    [theme=dark] .colab-df-convert:hover {\n",
       "      background-color: #434B5C;\n",
       "      box-shadow: 0px 1px 3px 1px rgba(0, 0, 0, 0.15);\n",
       "      filter: drop-shadow(0px 1px 2px rgba(0, 0, 0, 0.3));\n",
       "      fill: #FFFFFF;\n",
       "    }\n",
       "  </style>\n",
       "\n",
       "      <script>\n",
       "        const buttonEl =\n",
       "          document.querySelector('#df-049906d8-5210-48b9-968a-dce5b75eec0d button.colab-df-convert');\n",
       "        buttonEl.style.display =\n",
       "          google.colab.kernel.accessAllowed ? 'block' : 'none';\n",
       "\n",
       "        async function convertToInteractive(key) {\n",
       "          const element = document.querySelector('#df-049906d8-5210-48b9-968a-dce5b75eec0d');\n",
       "          const dataTable =\n",
       "            await google.colab.kernel.invokeFunction('convertToInteractive',\n",
       "                                                     [key], {});\n",
       "          if (!dataTable) return;\n",
       "\n",
       "          const docLinkHtml = 'Like what you see? Visit the ' +\n",
       "            '<a target=\"_blank\" href=https://colab.research.google.com/notebooks/data_table.ipynb>data table notebook</a>'\n",
       "            + ' to learn more about interactive tables.';\n",
       "          element.innerHTML = '';\n",
       "          dataTable['output_type'] = 'display_data';\n",
       "          await google.colab.output.renderOutput(dataTable, element);\n",
       "          const docLink = document.createElement('div');\n",
       "          docLink.innerHTML = docLinkHtml;\n",
       "          element.appendChild(docLink);\n",
       "        }\n",
       "      </script>\n",
       "    </div>\n",
       "  </div>\n",
       "  "
      ],
      "text/plain": [
       "      Predicho\n",
       "0   51135.4565\n",
       "1   51061.0489\n",
       "2   50899.0715\n",
       "3   50905.4689\n",
       "4   51049.1975\n",
       "..         ...\n",
       "141 47611.5615\n",
       "142 47764.5744\n",
       "143 47759.0860\n",
       "144 47620.9512\n",
       "145 47253.6207\n",
       "\n",
       "[146 rows x 1 columns]"
      ]
     },
     "execution_count": 23,
     "metadata": {},
     "output_type": "execute_result"
    }
   ],
   "source": [
    "#@title Acá hago una predicción y lo almaceno en un dataset.\n",
    "y_predicho = LM_2var.predict(X_test[var_predictoras])\n",
    "y_predicho = todf(y_predicho)\n",
    "y_predicho.rename(columns={0:'Predicho'},inplace=True)\n",
    "y_predicho"
   ]
  },
  {
   "cell_type": "code",
   "execution_count": null,
   "metadata": {
    "colab": {
     "base_uri": "https://localhost:8080/",
     "height": 206
    },
    "executionInfo": {
     "elapsed": 286,
     "status": "ok",
     "timestamp": 1643057721737,
     "user": {
      "displayName": "Alexander Chavez",
      "photoUrl": "https://lh3.googleusercontent.com/a/default-user=s64",
      "userId": "10987698664425569638"
     },
     "user_tz": 180
    },
    "id": "01ideVMTnDeM",
    "outputId": "03da010a-70a1-450a-ea0d-9a29c4dcb182"
   },
   "outputs": [
    {
     "data": {
      "text/html": [
       "\n",
       "  <div id=\"df-478a70db-fde1-48d2-9dbe-2781efd63161\">\n",
       "    <div class=\"colab-df-container\">\n",
       "      <div>\n",
       "<style scoped>\n",
       "    .dataframe tbody tr th:only-of-type {\n",
       "        vertical-align: middle;\n",
       "    }\n",
       "\n",
       "    .dataframe tbody tr th {\n",
       "        vertical-align: top;\n",
       "    }\n",
       "\n",
       "    .dataframe thead th {\n",
       "        text-align: right;\n",
       "    }\n",
       "</style>\n",
       "<table border=\"1\" class=\"dataframe\">\n",
       "  <thead>\n",
       "    <tr style=\"text-align: right;\">\n",
       "      <th></th>\n",
       "      <th>Precio de cierre</th>\n",
       "    </tr>\n",
       "  </thead>\n",
       "  <tbody>\n",
       "    <tr>\n",
       "      <th>0</th>\n",
       "      <td>51146.9414</td>\n",
       "    </tr>\n",
       "    <tr>\n",
       "      <th>1</th>\n",
       "      <td>50925.1875</td>\n",
       "    </tr>\n",
       "    <tr>\n",
       "      <th>2</th>\n",
       "      <td>50769.4141</td>\n",
       "    </tr>\n",
       "    <tr>\n",
       "      <th>3</th>\n",
       "      <td>50865.3555</td>\n",
       "    </tr>\n",
       "    <tr>\n",
       "      <th>4</th>\n",
       "      <td>51099.7422</td>\n",
       "    </tr>\n",
       "  </tbody>\n",
       "</table>\n",
       "</div>\n",
       "      <button class=\"colab-df-convert\" onclick=\"convertToInteractive('df-478a70db-fde1-48d2-9dbe-2781efd63161')\"\n",
       "              title=\"Convert this dataframe to an interactive table.\"\n",
       "              style=\"display:none;\">\n",
       "        \n",
       "  <svg xmlns=\"http://www.w3.org/2000/svg\" height=\"24px\"viewBox=\"0 0 24 24\"\n",
       "       width=\"24px\">\n",
       "    <path d=\"M0 0h24v24H0V0z\" fill=\"none\"/>\n",
       "    <path d=\"M18.56 5.44l.94 2.06.94-2.06 2.06-.94-2.06-.94-.94-2.06-.94 2.06-2.06.94zm-11 1L8.5 8.5l.94-2.06 2.06-.94-2.06-.94L8.5 2.5l-.94 2.06-2.06.94zm10 10l.94 2.06.94-2.06 2.06-.94-2.06-.94-.94-2.06-.94 2.06-2.06.94z\"/><path d=\"M17.41 7.96l-1.37-1.37c-.4-.4-.92-.59-1.43-.59-.52 0-1.04.2-1.43.59L10.3 9.45l-7.72 7.72c-.78.78-.78 2.05 0 2.83L4 21.41c.39.39.9.59 1.41.59.51 0 1.02-.2 1.41-.59l7.78-7.78 2.81-2.81c.8-.78.8-2.07 0-2.86zM5.41 20L4 18.59l7.72-7.72 1.47 1.35L5.41 20z\"/>\n",
       "  </svg>\n",
       "      </button>\n",
       "      \n",
       "  <style>\n",
       "    .colab-df-container {\n",
       "      display:flex;\n",
       "      flex-wrap:wrap;\n",
       "      gap: 12px;\n",
       "    }\n",
       "\n",
       "    .colab-df-convert {\n",
       "      background-color: #E8F0FE;\n",
       "      border: none;\n",
       "      border-radius: 50%;\n",
       "      cursor: pointer;\n",
       "      display: none;\n",
       "      fill: #1967D2;\n",
       "      height: 32px;\n",
       "      padding: 0 0 0 0;\n",
       "      width: 32px;\n",
       "    }\n",
       "\n",
       "    .colab-df-convert:hover {\n",
       "      background-color: #E2EBFA;\n",
       "      box-shadow: 0px 1px 2px rgba(60, 64, 67, 0.3), 0px 1px 3px 1px rgba(60, 64, 67, 0.15);\n",
       "      fill: #174EA6;\n",
       "    }\n",
       "\n",
       "    [theme=dark] .colab-df-convert {\n",
       "      background-color: #3B4455;\n",
       "      fill: #D2E3FC;\n",
       "    }\n",
       "\n",
       "    [theme=dark] .colab-df-convert:hover {\n",
       "      background-color: #434B5C;\n",
       "      box-shadow: 0px 1px 3px 1px rgba(0, 0, 0, 0.15);\n",
       "      filter: drop-shadow(0px 1px 2px rgba(0, 0, 0, 0.3));\n",
       "      fill: #FFFFFF;\n",
       "    }\n",
       "  </style>\n",
       "\n",
       "      <script>\n",
       "        const buttonEl =\n",
       "          document.querySelector('#df-478a70db-fde1-48d2-9dbe-2781efd63161 button.colab-df-convert');\n",
       "        buttonEl.style.display =\n",
       "          google.colab.kernel.accessAllowed ? 'block' : 'none';\n",
       "\n",
       "        async function convertToInteractive(key) {\n",
       "          const element = document.querySelector('#df-478a70db-fde1-48d2-9dbe-2781efd63161');\n",
       "          const dataTable =\n",
       "            await google.colab.kernel.invokeFunction('convertToInteractive',\n",
       "                                                     [key], {});\n",
       "          if (!dataTable) return;\n",
       "\n",
       "          const docLinkHtml = 'Like what you see? Visit the ' +\n",
       "            '<a target=\"_blank\" href=https://colab.research.google.com/notebooks/data_table.ipynb>data table notebook</a>'\n",
       "            + ' to learn more about interactive tables.';\n",
       "          element.innerHTML = '';\n",
       "          dataTable['output_type'] = 'display_data';\n",
       "          await google.colab.output.renderOutput(dataTable, element);\n",
       "          const docLink = document.createElement('div');\n",
       "          docLink.innerHTML = docLinkHtml;\n",
       "          element.appendChild(docLink);\n",
       "        }\n",
       "      </script>\n",
       "    </div>\n",
       "  </div>\n",
       "  "
      ],
      "text/plain": [
       "   Precio de cierre\n",
       "0        51146.9414\n",
       "1        50925.1875\n",
       "2        50769.4141\n",
       "3        50865.3555\n",
       "4        51099.7422"
      ]
     },
     "execution_count": 24,
     "metadata": {},
     "output_type": "execute_result"
    }
   ],
   "source": [
    "#@title Hago algunas modificaciones en la columna de testeo.\n",
    "y_test = todf(y_test)\n",
    "yaux = y_test\n",
    "yaux['Precio de cierre'] = y_test['Close']\n",
    "yaux = y_test.set_index('Close')\n",
    "yaux = yaux.reset_index(drop=True)\n",
    "yaux.head()"
   ]
  },
  {
   "cell_type": "code",
   "execution_count": null,
   "metadata": {
    "colab": {
     "base_uri": "https://localhost:8080/"
    },
    "executionInfo": {
     "elapsed": 411,
     "status": "ok",
     "timestamp": 1642890621229,
     "user": {
      "displayName": "Alexander Chavez",
      "photoUrl": "https://lh3.googleusercontent.com/a/default-user=s64",
      "userId": "10987698664425569638"
     },
     "user_tz": 180
    },
    "id": "Rqfd6puI6WOI",
    "outputId": "62dada17-4843-44d5-9507-81a948c4154c"
   },
   "outputs": [
    {
     "data": {
      "text/plain": [
       "(146, 1)"
      ]
     },
     "execution_count": 141,
     "metadata": {},
     "output_type": "execute_result"
    }
   ],
   "source": [
    "y_predicho.shape"
   ]
  },
  {
   "cell_type": "code",
   "execution_count": null,
   "metadata": {
    "colab": {
     "base_uri": "https://localhost:8080/"
    },
    "executionInfo": {
     "elapsed": 316,
     "status": "ok",
     "timestamp": 1642890632106,
     "user": {
      "displayName": "Alexander Chavez",
      "photoUrl": "https://lh3.googleusercontent.com/a/default-user=s64",
      "userId": "10987698664425569638"
     },
     "user_tz": 180
    },
    "id": "HHIoImf56Xce",
    "outputId": "e6c57c88-67b2-4ce9-f87c-b13b6df91ad3"
   },
   "outputs": [
    {
     "data": {
      "text/plain": [
       "(146, 1)"
      ]
     },
     "execution_count": 142,
     "metadata": {},
     "output_type": "execute_result"
    }
   ],
   "source": [
    "yaux.shape"
   ]
  },
  {
   "cell_type": "code",
   "execution_count": null,
   "metadata": {
    "colab": {
     "base_uri": "https://localhost:8080/",
     "height": 206
    },
    "executionInfo": {
     "elapsed": 298,
     "status": "ok",
     "timestamp": 1643057786828,
     "user": {
      "displayName": "Alexander Chavez",
      "photoUrl": "https://lh3.googleusercontent.com/a/default-user=s64",
      "userId": "10987698664425569638"
     },
     "user_tz": 180
    },
    "id": "XZ_3Mxa_6we_",
    "outputId": "8808250c-c094-41d2-f55e-379cd85c2e9c"
   },
   "outputs": [
    {
     "data": {
      "text/html": [
       "\n",
       "  <div id=\"df-2fff3a65-721c-422d-ade4-eca112fdc8d9\">\n",
       "    <div class=\"colab-df-container\">\n",
       "      <div>\n",
       "<style scoped>\n",
       "    .dataframe tbody tr th:only-of-type {\n",
       "        vertical-align: middle;\n",
       "    }\n",
       "\n",
       "    .dataframe tbody tr th {\n",
       "        vertical-align: top;\n",
       "    }\n",
       "\n",
       "    .dataframe thead th {\n",
       "        text-align: right;\n",
       "    }\n",
       "</style>\n",
       "<table border=\"1\" class=\"dataframe\">\n",
       "  <thead>\n",
       "    <tr style=\"text-align: right;\">\n",
       "      <th></th>\n",
       "      <th>Precio de cierre</th>\n",
       "      <th>Predicho</th>\n",
       "    </tr>\n",
       "  </thead>\n",
       "  <tbody>\n",
       "    <tr>\n",
       "      <th>0</th>\n",
       "      <td>51146.9414</td>\n",
       "      <td>51135.4565</td>\n",
       "    </tr>\n",
       "    <tr>\n",
       "      <th>1</th>\n",
       "      <td>50925.1875</td>\n",
       "      <td>51061.0489</td>\n",
       "    </tr>\n",
       "    <tr>\n",
       "      <th>2</th>\n",
       "      <td>50769.4141</td>\n",
       "      <td>50899.0715</td>\n",
       "    </tr>\n",
       "    <tr>\n",
       "      <th>3</th>\n",
       "      <td>50865.3555</td>\n",
       "      <td>50905.4689</td>\n",
       "    </tr>\n",
       "    <tr>\n",
       "      <th>4</th>\n",
       "      <td>51099.7422</td>\n",
       "      <td>51049.1975</td>\n",
       "    </tr>\n",
       "  </tbody>\n",
       "</table>\n",
       "</div>\n",
       "      <button class=\"colab-df-convert\" onclick=\"convertToInteractive('df-2fff3a65-721c-422d-ade4-eca112fdc8d9')\"\n",
       "              title=\"Convert this dataframe to an interactive table.\"\n",
       "              style=\"display:none;\">\n",
       "        \n",
       "  <svg xmlns=\"http://www.w3.org/2000/svg\" height=\"24px\"viewBox=\"0 0 24 24\"\n",
       "       width=\"24px\">\n",
       "    <path d=\"M0 0h24v24H0V0z\" fill=\"none\"/>\n",
       "    <path d=\"M18.56 5.44l.94 2.06.94-2.06 2.06-.94-2.06-.94-.94-2.06-.94 2.06-2.06.94zm-11 1L8.5 8.5l.94-2.06 2.06-.94-2.06-.94L8.5 2.5l-.94 2.06-2.06.94zm10 10l.94 2.06.94-2.06 2.06-.94-2.06-.94-.94-2.06-.94 2.06-2.06.94z\"/><path d=\"M17.41 7.96l-1.37-1.37c-.4-.4-.92-.59-1.43-.59-.52 0-1.04.2-1.43.59L10.3 9.45l-7.72 7.72c-.78.78-.78 2.05 0 2.83L4 21.41c.39.39.9.59 1.41.59.51 0 1.02-.2 1.41-.59l7.78-7.78 2.81-2.81c.8-.78.8-2.07 0-2.86zM5.41 20L4 18.59l7.72-7.72 1.47 1.35L5.41 20z\"/>\n",
       "  </svg>\n",
       "      </button>\n",
       "      \n",
       "  <style>\n",
       "    .colab-df-container {\n",
       "      display:flex;\n",
       "      flex-wrap:wrap;\n",
       "      gap: 12px;\n",
       "    }\n",
       "\n",
       "    .colab-df-convert {\n",
       "      background-color: #E8F0FE;\n",
       "      border: none;\n",
       "      border-radius: 50%;\n",
       "      cursor: pointer;\n",
       "      display: none;\n",
       "      fill: #1967D2;\n",
       "      height: 32px;\n",
       "      padding: 0 0 0 0;\n",
       "      width: 32px;\n",
       "    }\n",
       "\n",
       "    .colab-df-convert:hover {\n",
       "      background-color: #E2EBFA;\n",
       "      box-shadow: 0px 1px 2px rgba(60, 64, 67, 0.3), 0px 1px 3px 1px rgba(60, 64, 67, 0.15);\n",
       "      fill: #174EA6;\n",
       "    }\n",
       "\n",
       "    [theme=dark] .colab-df-convert {\n",
       "      background-color: #3B4455;\n",
       "      fill: #D2E3FC;\n",
       "    }\n",
       "\n",
       "    [theme=dark] .colab-df-convert:hover {\n",
       "      background-color: #434B5C;\n",
       "      box-shadow: 0px 1px 3px 1px rgba(0, 0, 0, 0.15);\n",
       "      filter: drop-shadow(0px 1px 2px rgba(0, 0, 0, 0.3));\n",
       "      fill: #FFFFFF;\n",
       "    }\n",
       "  </style>\n",
       "\n",
       "      <script>\n",
       "        const buttonEl =\n",
       "          document.querySelector('#df-2fff3a65-721c-422d-ade4-eca112fdc8d9 button.colab-df-convert');\n",
       "        buttonEl.style.display =\n",
       "          google.colab.kernel.accessAllowed ? 'block' : 'none';\n",
       "\n",
       "        async function convertToInteractive(key) {\n",
       "          const element = document.querySelector('#df-2fff3a65-721c-422d-ade4-eca112fdc8d9');\n",
       "          const dataTable =\n",
       "            await google.colab.kernel.invokeFunction('convertToInteractive',\n",
       "                                                     [key], {});\n",
       "          if (!dataTable) return;\n",
       "\n",
       "          const docLinkHtml = 'Like what you see? Visit the ' +\n",
       "            '<a target=\"_blank\" href=https://colab.research.google.com/notebooks/data_table.ipynb>data table notebook</a>'\n",
       "            + ' to learn more about interactive tables.';\n",
       "          element.innerHTML = '';\n",
       "          dataTable['output_type'] = 'display_data';\n",
       "          await google.colab.output.renderOutput(dataTable, element);\n",
       "          const docLink = document.createElement('div');\n",
       "          docLink.innerHTML = docLinkHtml;\n",
       "          element.appendChild(docLink);\n",
       "        }\n",
       "      </script>\n",
       "    </div>\n",
       "  </div>\n",
       "  "
      ],
      "text/plain": [
       "   Precio de cierre   Predicho\n",
       "0        51146.9414 51135.4565\n",
       "1        50925.1875 51061.0489\n",
       "2        50769.4141 50899.0715\n",
       "3        50865.3555 50905.4689\n",
       "4        51099.7422 51049.1975"
      ]
     },
     "execution_count": 26,
     "metadata": {},
     "output_type": "execute_result"
    }
   ],
   "source": [
    "#@title Uno todo en un dataset \n",
    "df_y_testeo_predicho = pd.merge(yaux,y_predicho, how=\"outer\",left_index=True, right_index=True)\n",
    "df_y_testeo_predicho.head()"
   ]
  },
  {
   "cell_type": "code",
   "execution_count": null,
   "metadata": {
    "colab": {
     "base_uri": "https://localhost:8080/",
     "height": 295
    },
    "executionInfo": {
     "elapsed": 820,
     "status": "ok",
     "timestamp": 1643057805096,
     "user": {
      "displayName": "Alexander Chavez",
      "photoUrl": "https://lh3.googleusercontent.com/a/default-user=s64",
      "userId": "10987698664425569638"
     },
     "user_tz": 180
    },
    "id": "F6RM491xChsh",
    "outputId": "32bece8b-de64-4c0b-d494-3d4891b42317"
   },
   "outputs": [
    {
     "data": {
      "image/png": "[encoded data removed]",
      "text/plain": [
       "<Figure size 432x288 with 1 Axes>"
      ]
     },
     "metadata": {
      "needs_background": "light"
     },
     "output_type": "display_data"
    }
   ],
   "source": [
    "#@title Acá quiero graficar la salida original vs la predicha\n",
    "#Configuración de las características del gráfico\n",
    "plt.plot(df_y_testeo_predicho['Precio de cierre'], label = 'BTC Original', linewidth = 2, color = 'blue')\n",
    "plt.plot(df_y_testeo_predicho['Predicho'], label = 'BTC Predicho', linewidth = 2, color = 'green')\n",
    "#Definir título y nombres de ejes\n",
    "plt.title('Regresión lineal aplicada a Bitcoin')\n",
    "plt.ylabel('Precio en $USDTs')\n",
    "plt.xlabel('Temporalidad')\n",
    "#Mostrar leyenda, cuadrícula y figura\n",
    "plt.legend() # Para que imprima el label definido previamente.\n",
    "plt.grid() # Traza grilla de fondo.\n",
    "plt.show() # Lo muestra mas prolijo.\n"
   ]
  },
  {
   "cell_type": "code",
   "execution_count": null,
   "metadata": {
    "id": "pHRv34i3rrSA"
   },
   "outputs": [],
   "source": [
    "# Algunos comandos para visualizar y chequear que todo esté en orden\n",
    "# type(y_test), type(y_predicho)"
   ]
  },
  {
   "cell_type": "code",
   "execution_count": null,
   "metadata": {
    "colab": {
     "base_uri": "https://localhost:8080/"
    },
    "executionInfo": {
     "elapsed": 286,
     "status": "ok",
     "timestamp": 1643059833146,
     "user": {
      "displayName": "Alexander Chavez",
      "photoUrl": "https://lh3.googleusercontent.com/a/default-user=s64",
      "userId": "10987698664425569638"
     },
     "user_tz": 180
    },
    "id": "dQflwuBE3GU3",
    "outputId": "efcf2fe6-e3ba-4968-8586-cf743491e1b6"
   },
   "outputs": [
    {
     "name": "stdout",
     "output_type": "stream",
     "text": [
      "El error es = 172.5464\n",
      "El r2 es = 0.9972\n"
     ]
    }
   ],
   "source": [
    "#@title Calculamos el error y el r2\n",
    "error = np.sqrt(mean_squared_error(yaux,y_predicho))\n",
    "r2 = LM_2var.score(X_train_modelo_2var, y_train)\n",
    "print(f\"El error es = {error:.4f}\")\n",
    "print(f\"El r2 es = {r2:.4f}\")"
   ]
  },
  {
   "cell_type": "markdown",
   "metadata": {
    "id": "OyNnzVcrG-gU"
   },
   "source": [
    "## 3. Vamos a evaluarlo!\n",
    "\n",
    "En esta parte vamos a evaluar los resultados obtenidos por algunos de los modelos previos. Por un lado nos interesará observar los resultados de los tests estadísticos de significatividad individual y global y por el otro observar algunas métricas de performance\n"
   ]
  },
  {
   "cell_type": "markdown",
   "metadata": {
    "id": "9uBDcPMDAq2x"
   },
   "source": [
    "# -----------------------------------------------------------------------------------"
   ]
  },
  {
   "cell_type": "markdown",
   "metadata": {
    "id": "tGw7ZxzGAJ8-"
   },
   "source": [
    "# HASTA ACÁ LLEGUÉ. ABAJO ESTÁ LO QUE HAY QUE HACER CON LOS ERRORES. COMO CALCULARLOS Y TERMINO.\n",
    "\n",
    "Luego: \n",
    "Separar en etapas: Lectura y depuración del DF.\n",
    "Guardar los CSV que necesito.\n",
    "Dejar opción de meter otro activos/indicador, por ejemplo el S&P500\n",
    "\n",
    "Modelo:\n",
    "Acá a idea es sacar un programa por modelo.\n",
    "Y acá saco también lo predicho.\n",
    "Resultados\n",
    "Un paquete de resultados con los errores,\n",
    "graficos,\n",
    "y demás, independientemente del modelo.\n"
   ]
  },
  {
   "cell_type": "markdown",
   "metadata": {
    "id": "fpg1-zOsp2Zx"
   },
   "source": [
    "### 4.1 Tests estadísticos\n",
    "\n",
    "Para realizar la evaluación con un enfoque estadístico más tradicional debemos utilizar el modulo [statsmodels](https://www.statsmodels.org/stable/regression.html). Para poder acceder a la información que nos interesa vamos a tener que crear los modelos con esta librería.\n",
    "\n",
    "La librería sklearn no cuenta con las funciones necesarias para realizar la evaluación de los tests estadísticos de los coeficientes estimados.\n",
    "\n",
    "Comencemos preparando los datos para la implementación del modelo lineal en statsmodels\n",
    "\n"
   ]
  },
  {
   "cell_type": "code",
   "execution_count": null,
   "metadata": {
    "colab": {
     "base_uri": "https://localhost:8080/",
     "height": 206
    },
    "id": "SrRQnVBwj9MD",
    "outputId": "1f175612-451f-47c7-8e28-fe4d60247d57"
   },
   "outputs": [
    {
     "data": {
      "text/html": [
       "<div>\n",
       "<style scoped>\n",
       "    .dataframe tbody tr th:only-of-type {\n",
       "        vertical-align: middle;\n",
       "    }\n",
       "\n",
       "    .dataframe tbody tr th {\n",
       "        vertical-align: top;\n",
       "    }\n",
       "\n",
       "    .dataframe thead th {\n",
       "        text-align: right;\n",
       "    }\n",
       "</style>\n",
       "<table border=\"1\" class=\"dataframe\">\n",
       "  <thead>\n",
       "    <tr style=\"text-align: right;\">\n",
       "      <th></th>\n",
       "      <th>const</th>\n",
       "      <th>surface_total</th>\n",
       "      <th>bathrooms</th>\n",
       "    </tr>\n",
       "  </thead>\n",
       "  <tbody>\n",
       "    <tr>\n",
       "      <th>36377</th>\n",
       "      <td>1.00</td>\n",
       "      <td>63.00</td>\n",
       "      <td>1.00</td>\n",
       "    </tr>\n",
       "    <tr>\n",
       "      <th>8124</th>\n",
       "      <td>1.00</td>\n",
       "      <td>42.00</td>\n",
       "      <td>1.00</td>\n",
       "    </tr>\n",
       "    <tr>\n",
       "      <th>34075</th>\n",
       "      <td>1.00</td>\n",
       "      <td>160.00</td>\n",
       "      <td>1.00</td>\n",
       "    </tr>\n",
       "    <tr>\n",
       "      <th>28781</th>\n",
       "      <td>1.00</td>\n",
       "      <td>126.00</td>\n",
       "      <td>2.00</td>\n",
       "    </tr>\n",
       "    <tr>\n",
       "      <th>4876</th>\n",
       "      <td>1.00</td>\n",
       "      <td>32.00</td>\n",
       "      <td>1.00</td>\n",
       "    </tr>\n",
       "  </tbody>\n",
       "</table>\n",
       "</div>"
      ],
      "text/plain": [
       "       const  surface_total  bathrooms\n",
       "36377   1.00          63.00       1.00\n",
       "8124    1.00          42.00       1.00\n",
       "34075   1.00         160.00       1.00\n",
       "28781   1.00         126.00       2.00\n",
       "4876    1.00          32.00       1.00"
      ]
     },
     "execution_count": 35,
     "metadata": {
      "tags": []
     },
     "output_type": "execute_result"
    }
   ],
   "source": [
    "# En statsmodels se le agrega el intercepto (en scikit se lo pasamos como un parametro a la instancia del modelo)\n",
    "X_train_modelo_sup_baños_stats = sm.add_constant(X_train_modelo_sup_baños)\n",
    "X_train_modelo_sup_baños_stats.head()"
   ]
  },
  {
   "cell_type": "code",
   "execution_count": null,
   "metadata": {
    "id": "K-0NKfoqmdxp"
   },
   "outputs": [],
   "source": [
    "# Construimos el modelo\n",
    "modelo_sup_baños_stats = sm.OLS(y_train, X_train_modelo_sup_baños_stats)"
   ]
  },
  {
   "cell_type": "code",
   "execution_count": null,
   "metadata": {
    "id": "g3elK8xumf7X"
   },
   "outputs": [],
   "source": [
    "# Guardamos los resultados\n",
    "resultados_sup_baños_stats = modelo_sup_baños_stats.fit()"
   ]
  },
  {
   "cell_type": "code",
   "execution_count": null,
   "metadata": {
    "colab": {
     "base_uri": "https://localhost:8080/"
    },
    "id": "x5NiPKFWoLxN",
    "outputId": "5f9f754b-c44f-4778-d0cc-22f339caecc9"
   },
   "outputs": [
    {
     "data": {
      "text/plain": [
       "const           -107213.66\n",
       "surface_total      2069.78\n",
       "bathrooms        113359.65\n",
       "dtype: float64"
      ]
     },
     "execution_count": 38,
     "metadata": {
      "tags": []
     },
     "output_type": "execute_result"
    }
   ],
   "source": [
    "# Accedemos a los coeficientes estimados\n",
    "resultados_sup_baños_stats.params"
   ]
  },
  {
   "cell_type": "markdown",
   "metadata": {
    "id": "ufRhYgVEqKrO"
   },
   "source": [
    "En primer lugar observamos que los coeficientes estimados son iguales a los que obtuvimos utilizando la implementación de scikit learn.\n",
    "\n",
    "Ahora veamos los p valores asociados a los tests de significatividad individual. Recordemos que las hipótesis son:\n",
    "\n",
    "$H_0: \\beta_j = 0$\n",
    "\n",
    "$H_A: \\beta_j \\neq 0$\n",
    "\n",
    "Para rechazar la hipótesis de que el parámetro es igual a cero debemos observar un p valor inferior a 0.05"
   ]
  },
  {
   "cell_type": "code",
   "execution_count": null,
   "metadata": {
    "colab": {
     "base_uri": "https://localhost:8080/"
    },
    "id": "xTfPtpO9poWd",
    "outputId": "bc8b33a5-af94-482c-b3cc-243d7d356ffa"
   },
   "outputs": [
    {
     "data": {
      "text/plain": [
       "const           0.00\n",
       "surface_total   0.00\n",
       "bathrooms       0.00\n",
       "dtype: float64"
      ]
     },
     "execution_count": 39,
     "metadata": {
      "tags": []
     },
     "output_type": "execute_result"
    }
   ],
   "source": [
    "# Accedemos a los p valores de los tests de significancia individual\n",
    "resultados_sup_baños_stats.pvalues"
   ]
  },
  {
   "cell_type": "markdown",
   "metadata": {
    "id": "Kvg2g2fyd8iN"
   },
   "source": [
    "Continuamos con el test de significatividad global. Las hipotesis son:\n",
    "\n",
    "$H_0: \\text{Todos los } \\beta_j = 0$\n",
    "\n",
    "$H_A: \\text{Algún } \\beta_j \\neq 0$\n"
   ]
  },
  {
   "cell_type": "code",
   "execution_count": null,
   "metadata": {
    "colab": {
     "base_uri": "https://localhost:8080/"
    },
    "id": "djRXvlacsgwW",
    "outputId": "8e84ed2f-20fe-42b2-ac39-84ae7362a840"
   },
   "outputs": [
    {
     "data": {
      "text/plain": [
       "0.0"
      ]
     },
     "execution_count": 40,
     "metadata": {
      "tags": []
     },
     "output_type": "execute_result"
    }
   ],
   "source": [
    "# Test significatividad global\n",
    "resultados_sup_baños_stats.f_pvalue"
   ]
  },
  {
   "cell_type": "markdown",
   "metadata": {
    "id": "9XIm0siuebXh"
   },
   "source": [
    "Observamos el R cuadrado y R cuadrado ajustado"
   ]
  },
  {
   "cell_type": "code",
   "execution_count": null,
   "metadata": {
    "colab": {
     "base_uri": "https://localhost:8080/"
    },
    "id": "cNXT9UlYuOVJ",
    "outputId": "baa0a974-2226-43da-f1d9-13a3eef2d27d"
   },
   "outputs": [
    {
     "data": {
      "text/plain": [
       "0.5713023987671959"
      ]
     },
     "execution_count": 41,
     "metadata": {
      "tags": []
     },
     "output_type": "execute_result"
    }
   ],
   "source": [
    "# R cuadrado\n",
    "resultados_sup_baños_stats.rsquared"
   ]
  },
  {
   "cell_type": "code",
   "execution_count": null,
   "metadata": {
    "colab": {
     "base_uri": "https://localhost:8080/"
    },
    "id": "-GDdaRdFuYNO",
    "outputId": "9907e2b5-cb4a-46de-b5b9-7e23615dd28f"
   },
   "outputs": [
    {
     "data": {
      "text/plain": [
       "0.5712757060987714"
      ]
     },
     "execution_count": 42,
     "metadata": {
      "tags": []
     },
     "output_type": "execute_result"
    }
   ],
   "source": [
    "# R cuadrado ajustado\n",
    "resultados_sup_baños_stats.rsquared_adj"
   ]
  },
  {
   "cell_type": "markdown",
   "metadata": {
    "id": "cf5L21e4eaMu"
   },
   "source": [
    "Toda esta información a la que fuimos accediendo (junto a mucha información más) se puede obtener imprimiendo el `summary` de los resultados.\n",
    "\n"
   ]
  },
  {
   "cell_type": "code",
   "execution_count": null,
   "metadata": {
    "id": "Tx33zEXIsgiX"
   },
   "outputs": [],
   "source": [
    "print(resultados_sup_baños_stats.summary())"
   ]
  },
  {
   "cell_type": "markdown",
   "metadata": {
    "id": "r-8CIdOh9yla"
   },
   "source": [
    "Ahora observemos estos elementos para el modelo de interacción que contaba con una mayor cantidad de variables predictoras. Tengamos en cuenta que vamos a observar el resumen para tratar de contestar las siguientes preguntas:\n",
    "\n",
    "* ¿Tiene sentido utilizar esta especificación del modelo para explicar/predecir el precio de las propiedades? (significatividad global)\n",
    "\n",
    "* ¿Cada variable presenta una relación estadísticamente significativa con el precio? (significatividad individual)\n",
    "\n",
    "* ¿Qué porcentaje de la variabilidad explica el modelo? ¿Cómo se compara respecto al modelo con menos variables que estimamos antes? (R cuadrado)"
   ]
  },
  {
   "cell_type": "code",
   "execution_count": null,
   "metadata": {
    "id": "M0TDRCc_3mnj"
   },
   "outputs": [],
   "source": [
    "# En stats models se le agrega el intercepto \n",
    "X_train_interaccion_stats = sm.add_constant(X_train_modelo_interaccion)\n",
    "\n",
    "#Construimos el modelo\n",
    "modelo_interaccion_stats = sm.OLS(y_train, X_train_interaccion_stats)\n",
    "\n",
    "# Estimamos los parámetros\n",
    "resultados_interaccion = modelo_interaccion_stats.fit()\n",
    "\n",
    "# Imprimimos el resumen\n",
    "print(resultados_interaccion.summary())"
   ]
  },
  {
   "cell_type": "markdown",
   "metadata": {
    "id": "RDUC3Hl8BiwB"
   },
   "source": [
    "### 4.2 Métricas de performance\n",
    "\n",
    "En la sección anterior observamos algunas formas de evaluación típicas del enfoque estadístico para nuestros modelos. Ahora veamos algunas métricas de evaluación muy usuales para los problemas de regresión en Machine Learning.\n",
    "\n",
    "Vamos a observar los valores de las siguientes métricas:\n",
    "\n",
    "**Mean Squared Error /Error Cuadrático Medio**\n",
    "\n",
    "$MSE = \\frac{1}{n} \\sum_{i=1}^{n} (Y_i - \\hat{Y_i})^2$\n",
    "\n",
    "**Root Mean Squared Error /Raiz del Error Cuadrático Medio**\n",
    "\n",
    "$RMSE = \\sqrt{MSE}$\n",
    "\n",
    "**Mean Absolute Error /Error Absoluto Medio**\n",
    "\n",
    "$MAE = \\frac{1}{n} \\sum_{i=1}^{n} |Y_i - \\hat{Y_i}|$\n",
    "\n",
    "Además nos va a interesar comparar los valores de estas métricas para el set de entrenamiento y para el set de evaluación\n"
   ]
  },
  {
   "cell_type": "code",
   "execution_count": null,
   "metadata": {
    "id": "aeQXznVMB4Lw"
   },
   "outputs": [],
   "source": [
    "# Importamos las métricas desde scikit-learn\n",
    "from sklearn.metrics import r2_score, mean_squared_error, mean_absolute_error"
   ]
  },
  {
   "cell_type": "markdown",
   "metadata": {
    "id": "SW37_1QCkJTZ"
   },
   "source": [
    "Todas estas funciones toman como argumentos: \n",
    "\n",
    "`y_true`: vector/array/serie de los valores reales de Y\n",
    "\n",
    "`y_pred`: vector/array/serie de los valores predichos de Y\n",
    "\n",
    "Para obtener los valores predichos de y vamos a utilizar el método `predict()` de los modelos que hemos creado."
   ]
  },
  {
   "cell_type": "code",
   "execution_count": null,
   "metadata": {
    "colab": {
     "base_uri": "https://localhost:8080/"
    },
    "id": "fdQ85IgRBq62",
    "outputId": "ed0d426c-66b4-47a0-a2f6-2b5ab2d8c624"
   },
   "outputs": [
    {
     "data": {
      "text/plain": [
       "array([136541.85494006,  93076.5665879 , 337310.09161432, ...,\n",
       "        95146.34222371, 105495.2204028 ,  97216.11785953])"
      ]
     },
     "execution_count": 46,
     "metadata": {
      "tags": []
     },
     "output_type": "execute_result"
    }
   ],
   "source": [
    "# Predecimos los valores de y con nuestro modelo\n",
    "y_train_sup_baños = modelo_lineal_sup_baños.predict(X_train_modelo_sup_baños)\n",
    "y_train_sup_baños"
   ]
  },
  {
   "cell_type": "code",
   "execution_count": null,
   "metadata": {
    "colab": {
     "base_uri": "https://localhost:8080/"
    },
    "id": "kddW53yOCXKT",
    "outputId": "f88e70de-2a8a-40af-94f5-84affa0c1ac9"
   },
   "outputs": [
    {
     "data": {
      "text/plain": [
       "0.5713023987671959"
      ]
     },
     "execution_count": 47,
     "metadata": {
      "tags": []
     },
     "output_type": "execute_result"
    }
   ],
   "source": [
    "# Calculamos R cuadrado\n",
    "r2_score(y_train, y_train_sup_baños)"
   ]
  },
  {
   "cell_type": "code",
   "execution_count": null,
   "metadata": {
    "colab": {
     "base_uri": "https://localhost:8080/"
    },
    "id": "xAOnzXuMClj2",
    "outputId": "1ab7241c-6296-4818-ac19-a95a255acc7c"
   },
   "outputs": [
    {
     "data": {
      "text/plain": [
       "42307799437.76274"
      ]
     },
     "execution_count": 48,
     "metadata": {
      "tags": []
     },
     "output_type": "execute_result"
    }
   ],
   "source": [
    "# Calculamos MSE\n",
    "mean_squared_error(y_train, y_train_sup_baños)"
   ]
  },
  {
   "cell_type": "code",
   "execution_count": null,
   "metadata": {
    "colab": {
     "base_uri": "https://localhost:8080/"
    },
    "id": "Y23SNOC6GvVm",
    "outputId": "4b34748d-a0e4-497e-9e8f-ed98f7644e13"
   },
   "outputs": [
    {
     "data": {
      "text/plain": [
       "205688.59822013165"
      ]
     },
     "execution_count": 49,
     "metadata": {
      "tags": []
     },
     "output_type": "execute_result"
    }
   ],
   "source": [
    "# Calculamos RMSE\n",
    "np.sqrt(mean_squared_error(y_train, y_train_sup_baños))"
   ]
  },
  {
   "cell_type": "code",
   "execution_count": null,
   "metadata": {
    "colab": {
     "base_uri": "https://localhost:8080/"
    },
    "id": "PfbzE0GZClWW",
    "outputId": "563c0e27-9859-4abd-ffc8-4826c696a907"
   },
   "outputs": [
    {
     "data": {
      "text/plain": [
       "90799.88306152548"
      ]
     },
     "execution_count": 50,
     "metadata": {
      "tags": []
     },
     "output_type": "execute_result"
    }
   ],
   "source": [
    "# Calculamos MAE\n",
    "mean_absolute_error(y_train, y_train_sup_baños)"
   ]
  },
  {
   "cell_type": "markdown",
   "metadata": {
    "id": "GtQKJgQUlEWt"
   },
   "source": [
    "Como nos interesa obtener estas 4 métricas para los modelos podemos crear una función que las calcule y nos devuelva un dataframe"
   ]
  },
  {
   "cell_type": "code",
   "execution_count": null,
   "metadata": {
    "id": "VkK0sF22ESOh"
   },
   "outputs": [],
   "source": [
    "def obtener_metricas_performance(y_verdadera, y_predicha, tipo_dataset):\n",
    "    r2 = r2_score(y_verdadera, y_predicha)\n",
    "    mse = mean_squared_error(y_verdadera, y_predicha)\n",
    "    rmse = np.sqrt(mse) \n",
    "    mae = mean_absolute_error(y_verdadera, y_predicha)\n",
    "    return pd.DataFrame({'metrica': ['R2', 'MSE', 'RMSE', 'MAE'],\n",
    "                         'valor':[r2, mse, rmse, mae],\n",
    "                         'tipo_dataset':tipo_dataset})"
   ]
  },
  {
   "cell_type": "code",
   "execution_count": null,
   "metadata": {
    "colab": {
     "base_uri": "https://localhost:8080/",
     "height": 175
    },
    "id": "diOmezXdG4UU",
    "outputId": "c48b6a15-ccf3-4c4e-c19f-5b23fcdc1c08"
   },
   "outputs": [
    {
     "data": {
      "text/html": [
       "<div>\n",
       "<style scoped>\n",
       "    .dataframe tbody tr th:only-of-type {\n",
       "        vertical-align: middle;\n",
       "    }\n",
       "\n",
       "    .dataframe tbody tr th {\n",
       "        vertical-align: top;\n",
       "    }\n",
       "\n",
       "    .dataframe thead th {\n",
       "        text-align: right;\n",
       "    }\n",
       "</style>\n",
       "<table border=\"1\" class=\"dataframe\">\n",
       "  <thead>\n",
       "    <tr style=\"text-align: right;\">\n",
       "      <th></th>\n",
       "      <th>metrica</th>\n",
       "      <th>valor</th>\n",
       "      <th>tipo_dataset</th>\n",
       "    </tr>\n",
       "  </thead>\n",
       "  <tbody>\n",
       "    <tr>\n",
       "      <th>0</th>\n",
       "      <td>R2</td>\n",
       "      <td>0.57</td>\n",
       "      <td>entrenamiento</td>\n",
       "    </tr>\n",
       "    <tr>\n",
       "      <th>1</th>\n",
       "      <td>MSE</td>\n",
       "      <td>42307799437.76</td>\n",
       "      <td>entrenamiento</td>\n",
       "    </tr>\n",
       "    <tr>\n",
       "      <th>2</th>\n",
       "      <td>RMSE</td>\n",
       "      <td>205688.60</td>\n",
       "      <td>entrenamiento</td>\n",
       "    </tr>\n",
       "    <tr>\n",
       "      <th>3</th>\n",
       "      <td>MAE</td>\n",
       "      <td>90799.88</td>\n",
       "      <td>entrenamiento</td>\n",
       "    </tr>\n",
       "  </tbody>\n",
       "</table>\n",
       "</div>"
      ],
      "text/plain": [
       "  metrica          valor   tipo_dataset\n",
       "0      R2           0.57  entrenamiento\n",
       "1     MSE 42307799437.76  entrenamiento\n",
       "2    RMSE      205688.60  entrenamiento\n",
       "3     MAE       90799.88  entrenamiento"
      ]
     },
     "execution_count": 52,
     "metadata": {
      "tags": []
     },
     "output_type": "execute_result"
    }
   ],
   "source": [
    "# Obtenemos nuestro dataframe de métricas de performance\n",
    "performance_train_sup_baños = obtener_metricas_performance(y_train, y_train_sup_baños,'entrenamiento')\n",
    "performance_train_sup_baños"
   ]
  },
  {
   "cell_type": "code",
   "execution_count": null,
   "metadata": {
    "colab": {
     "base_uri": "https://localhost:8080/",
     "height": 175
    },
    "id": "CKogQygzHTQp",
    "outputId": "5649b561-2c67-404c-96e2-fd875284211f"
   },
   "outputs": [
    {
     "data": {
      "text/html": [
       "<div>\n",
       "<style scoped>\n",
       "    .dataframe tbody tr th:only-of-type {\n",
       "        vertical-align: middle;\n",
       "    }\n",
       "\n",
       "    .dataframe tbody tr th {\n",
       "        vertical-align: top;\n",
       "    }\n",
       "\n",
       "    .dataframe thead th {\n",
       "        text-align: right;\n",
       "    }\n",
       "</style>\n",
       "<table border=\"1\" class=\"dataframe\">\n",
       "  <thead>\n",
       "    <tr style=\"text-align: right;\">\n",
       "      <th></th>\n",
       "      <th>metrica</th>\n",
       "      <th>valor</th>\n",
       "      <th>tipo_dataset</th>\n",
       "    </tr>\n",
       "  </thead>\n",
       "  <tbody>\n",
       "    <tr>\n",
       "      <th>0</th>\n",
       "      <td>R2</td>\n",
       "      <td>0.68</td>\n",
       "      <td>entrenamiento</td>\n",
       "    </tr>\n",
       "    <tr>\n",
       "      <th>1</th>\n",
       "      <td>MSE</td>\n",
       "      <td>32056546297.04</td>\n",
       "      <td>entrenamiento</td>\n",
       "    </tr>\n",
       "    <tr>\n",
       "      <th>2</th>\n",
       "      <td>RMSE</td>\n",
       "      <td>179043.42</td>\n",
       "      <td>entrenamiento</td>\n",
       "    </tr>\n",
       "    <tr>\n",
       "      <th>3</th>\n",
       "      <td>MAE</td>\n",
       "      <td>84810.58</td>\n",
       "      <td>entrenamiento</td>\n",
       "    </tr>\n",
       "  </tbody>\n",
       "</table>\n",
       "</div>"
      ],
      "text/plain": [
       "  metrica          valor   tipo_dataset\n",
       "0      R2           0.68  entrenamiento\n",
       "1     MSE 32056546297.04  entrenamiento\n",
       "2    RMSE      179043.42  entrenamiento\n",
       "3     MAE       84810.58  entrenamiento"
      ]
     },
     "execution_count": 53,
     "metadata": {
      "tags": []
     },
     "output_type": "execute_result"
    }
   ],
   "source": [
    "# Ahora observemos las métricas del modelo de interacción en entrenamiento\n",
    "y_train_interaccion = modelo_lineal_interaccion.predict(X_train_modelo_interaccion)\n",
    "performance_train_interaccion = obtener_metricas_performance(y_train, y_train_interaccion, 'entrenamiento')\n",
    "performance_train_interaccion"
   ]
  },
  {
   "cell_type": "markdown",
   "metadata": {
    "id": "MIBuIz5glZ_p"
   },
   "source": [
    "Ahora observemos las métricas de performance de estos dos modelos en el dataset de evaluación"
   ]
  },
  {
   "cell_type": "code",
   "execution_count": null,
   "metadata": {
    "id": "WbPXv-HQZd-B"
   },
   "outputs": [],
   "source": [
    "# Creamos la matrix de X para el modelo de superficie y baños\n",
    "X_test_sup_baños = X_test[['surface_total', 'bathrooms']]"
   ]
  },
  {
   "cell_type": "code",
   "execution_count": null,
   "metadata": {
    "colab": {
     "base_uri": "https://localhost:8080/",
     "height": 300
    },
    "id": "vnNOES6RZU9X",
    "outputId": "50b92baa-d480-45c3-fea2-a2e97645064b"
   },
   "outputs": [
    {
     "data": {
      "text/html": [
       "<div>\n",
       "<style scoped>\n",
       "    .dataframe tbody tr th:only-of-type {\n",
       "        vertical-align: middle;\n",
       "    }\n",
       "\n",
       "    .dataframe tbody tr th {\n",
       "        vertical-align: top;\n",
       "    }\n",
       "\n",
       "    .dataframe thead th {\n",
       "        text-align: right;\n",
       "    }\n",
       "</style>\n",
       "<table border=\"1\" class=\"dataframe\">\n",
       "  <thead>\n",
       "    <tr style=\"text-align: right;\">\n",
       "      <th></th>\n",
       "      <th>metrica</th>\n",
       "      <th>valor</th>\n",
       "      <th>tipo_dataset</th>\n",
       "    </tr>\n",
       "  </thead>\n",
       "  <tbody>\n",
       "    <tr>\n",
       "      <th>0</th>\n",
       "      <td>R2</td>\n",
       "      <td>0.57</td>\n",
       "      <td>entrenamiento</td>\n",
       "    </tr>\n",
       "    <tr>\n",
       "      <th>1</th>\n",
       "      <td>MSE</td>\n",
       "      <td>42307799437.76</td>\n",
       "      <td>entrenamiento</td>\n",
       "    </tr>\n",
       "    <tr>\n",
       "      <th>2</th>\n",
       "      <td>RMSE</td>\n",
       "      <td>205688.60</td>\n",
       "      <td>entrenamiento</td>\n",
       "    </tr>\n",
       "    <tr>\n",
       "      <th>3</th>\n",
       "      <td>MAE</td>\n",
       "      <td>90799.88</td>\n",
       "      <td>entrenamiento</td>\n",
       "    </tr>\n",
       "    <tr>\n",
       "      <th>0</th>\n",
       "      <td>R2</td>\n",
       "      <td>0.52</td>\n",
       "      <td>evaluacion</td>\n",
       "    </tr>\n",
       "    <tr>\n",
       "      <th>1</th>\n",
       "      <td>MSE</td>\n",
       "      <td>50265146409.85</td>\n",
       "      <td>evaluacion</td>\n",
       "    </tr>\n",
       "    <tr>\n",
       "      <th>2</th>\n",
       "      <td>RMSE</td>\n",
       "      <td>224198.90</td>\n",
       "      <td>evaluacion</td>\n",
       "    </tr>\n",
       "    <tr>\n",
       "      <th>3</th>\n",
       "      <td>MAE</td>\n",
       "      <td>92456.48</td>\n",
       "      <td>evaluacion</td>\n",
       "    </tr>\n",
       "  </tbody>\n",
       "</table>\n",
       "</div>"
      ],
      "text/plain": [
       "  metrica          valor   tipo_dataset\n",
       "0      R2           0.57  entrenamiento\n",
       "1     MSE 42307799437.76  entrenamiento\n",
       "2    RMSE      205688.60  entrenamiento\n",
       "3     MAE       90799.88  entrenamiento\n",
       "0      R2           0.52     evaluacion\n",
       "1     MSE 50265146409.85     evaluacion\n",
       "2    RMSE      224198.90     evaluacion\n",
       "3     MAE       92456.48     evaluacion"
      ]
     },
     "execution_count": 55,
     "metadata": {
      "tags": []
     },
     "output_type": "execute_result"
    }
   ],
   "source": [
    "# Predecimos los valores\n",
    "y_test_sup_baños =  modelo_lineal_sup_baños.predict(X_test_sup_baños)\n",
    "# Obtenemos nuestro dataframe de métricas de performance\n",
    "performance_test_sup_baños =obtener_metricas_performance(y_test, y_test_sup_baños, 'evaluacion')\n",
    "# Mostramos en conjunto las métricas para entrenamiento y evaluación\n",
    "pd.concat([performance_train_sup_baños,performance_test_sup_baños])"
   ]
  },
  {
   "cell_type": "markdown",
   "metadata": {
    "id": "GuFw7Stil519"
   },
   "source": [
    "Realicemos lo mismo para el modelo de interacción. Primero debemos generar las variables binarias para el tipo de propiedad y las variables de interacción para poder utilizar el modelo"
   ]
  },
  {
   "cell_type": "code",
   "execution_count": null,
   "metadata": {
    "colab": {
     "base_uri": "https://localhost:8080/",
     "height": 226
    },
    "id": "DKUTYVMCaMin",
    "outputId": "126e61a7-804e-4573-c9e9-0f9e527aeadb"
   },
   "outputs": [
    {
     "data": {
      "text/html": [
       "<div>\n",
       "<style scoped>\n",
       "    .dataframe tbody tr th:only-of-type {\n",
       "        vertical-align: middle;\n",
       "    }\n",
       "\n",
       "    .dataframe tbody tr th {\n",
       "        vertical-align: top;\n",
       "    }\n",
       "\n",
       "    .dataframe thead th {\n",
       "        text-align: right;\n",
       "    }\n",
       "</style>\n",
       "<table border=\"1\" class=\"dataframe\">\n",
       "  <thead>\n",
       "    <tr style=\"text-align: right;\">\n",
       "      <th></th>\n",
       "      <th>lat</th>\n",
       "      <th>lon</th>\n",
       "      <th>rooms</th>\n",
       "      <th>bathrooms</th>\n",
       "      <th>surface_total</th>\n",
       "      <th>surface_covered</th>\n",
       "      <th>property_type</th>\n",
       "      <th>tipo_Casa</th>\n",
       "      <th>tipo_Departamento</th>\n",
       "      <th>interaccion_sup_casa</th>\n",
       "      <th>interaccion_sup_depto</th>\n",
       "    </tr>\n",
       "  </thead>\n",
       "  <tbody>\n",
       "    <tr>\n",
       "      <th>31033</th>\n",
       "      <td>-34.58</td>\n",
       "      <td>-58.42</td>\n",
       "      <td>4.00</td>\n",
       "      <td>2.00</td>\n",
       "      <td>126.00</td>\n",
       "      <td>120.00</td>\n",
       "      <td>Departamento</td>\n",
       "      <td>0.00</td>\n",
       "      <td>1.00</td>\n",
       "      <td>0.00</td>\n",
       "      <td>126.00</td>\n",
       "    </tr>\n",
       "    <tr>\n",
       "      <th>11149</th>\n",
       "      <td>-34.57</td>\n",
       "      <td>-58.43</td>\n",
       "      <td>3.00</td>\n",
       "      <td>2.00</td>\n",
       "      <td>78.00</td>\n",
       "      <td>72.00</td>\n",
       "      <td>Departamento</td>\n",
       "      <td>0.00</td>\n",
       "      <td>1.00</td>\n",
       "      <td>0.00</td>\n",
       "      <td>78.00</td>\n",
       "    </tr>\n",
       "    <tr>\n",
       "      <th>25214</th>\n",
       "      <td>-34.63</td>\n",
       "      <td>-58.38</td>\n",
       "      <td>4.00</td>\n",
       "      <td>2.00</td>\n",
       "      <td>88.00</td>\n",
       "      <td>88.00</td>\n",
       "      <td>Departamento</td>\n",
       "      <td>0.00</td>\n",
       "      <td>1.00</td>\n",
       "      <td>0.00</td>\n",
       "      <td>88.00</td>\n",
       "    </tr>\n",
       "    <tr>\n",
       "      <th>33959</th>\n",
       "      <td>-34.60</td>\n",
       "      <td>-58.51</td>\n",
       "      <td>4.00</td>\n",
       "      <td>2.00</td>\n",
       "      <td>128.00</td>\n",
       "      <td>128.00</td>\n",
       "      <td>Departamento</td>\n",
       "      <td>0.00</td>\n",
       "      <td>1.00</td>\n",
       "      <td>0.00</td>\n",
       "      <td>128.00</td>\n",
       "    </tr>\n",
       "    <tr>\n",
       "      <th>23705</th>\n",
       "      <td>-34.58</td>\n",
       "      <td>-58.48</td>\n",
       "      <td>4.00</td>\n",
       "      <td>3.00</td>\n",
       "      <td>220.00</td>\n",
       "      <td>170.00</td>\n",
       "      <td>Casa</td>\n",
       "      <td>1.00</td>\n",
       "      <td>0.00</td>\n",
       "      <td>220.00</td>\n",
       "      <td>0.00</td>\n",
       "    </tr>\n",
       "  </tbody>\n",
       "</table>\n",
       "</div>"
      ],
      "text/plain": [
       "         lat    lon  ...  interaccion_sup_casa  interaccion_sup_depto\n",
       "31033 -34.58 -58.42  ...                  0.00                 126.00\n",
       "11149 -34.57 -58.43  ...                  0.00                  78.00\n",
       "25214 -34.63 -58.38  ...                  0.00                  88.00\n",
       "33959 -34.60 -58.51  ...                  0.00                 128.00\n",
       "23705 -34.58 -58.48  ...                220.00                   0.00\n",
       "\n",
       "[5 rows x 11 columns]"
      ]
     },
     "execution_count": 56,
     "metadata": {
      "tags": []
     },
     "output_type": "execute_result"
    }
   ],
   "source": [
    "# Generamos las variables dummies de la variable property type (notemos que tenemos 2 columnas!)\n",
    "matriz_dummies_test = one_hot_encoder.transform(X_test[['property_type']]).toarray()\n",
    "# Generamos el dataframe con las variables dummies con las matrices y columnas\n",
    "df_dummies_test = pd.DataFrame(matriz_dummies_test, columns=nombres_dummies, index=X_test.index)\n",
    "# Agregamos la información a nuestra matriz de variables predictoras\n",
    "X_test = X_test.join(df_dummies_test)\n",
    "# Creamos las dos variables de interacción\n",
    "X_test['interaccion_sup_casa'] = X_test['tipo_Casa'] * X_test['surface_total']\n",
    "X_test['interaccion_sup_depto'] = X_test['tipo_Departamento'] * X_test['surface_total']\n",
    "# Vemos el dataframe\n",
    "X_test.head()"
   ]
  },
  {
   "cell_type": "code",
   "execution_count": null,
   "metadata": {
    "id": "tL_8JtJeft66"
   },
   "outputs": [],
   "source": [
    "# Generamos el dataset de predictoras\n",
    "X_test_interaccion = X_test[['surface_total', 'tipo_Casa', 'tipo_Departamento', 'interaccion_sup_casa', 'interaccion_sup_depto']]"
   ]
  },
  {
   "cell_type": "code",
   "execution_count": null,
   "metadata": {
    "colab": {
     "base_uri": "https://localhost:8080/",
     "height": 300
    },
    "id": "QVhJGoapf5nm",
    "outputId": "ef8935aa-ff0d-4bea-9fe7-4e3f0db7b21c"
   },
   "outputs": [
    {
     "data": {
      "text/html": [
       "<div>\n",
       "<style scoped>\n",
       "    .dataframe tbody tr th:only-of-type {\n",
       "        vertical-align: middle;\n",
       "    }\n",
       "\n",
       "    .dataframe tbody tr th {\n",
       "        vertical-align: top;\n",
       "    }\n",
       "\n",
       "    .dataframe thead th {\n",
       "        text-align: right;\n",
       "    }\n",
       "</style>\n",
       "<table border=\"1\" class=\"dataframe\">\n",
       "  <thead>\n",
       "    <tr style=\"text-align: right;\">\n",
       "      <th></th>\n",
       "      <th>metrica</th>\n",
       "      <th>valor</th>\n",
       "      <th>tipo_dataset</th>\n",
       "    </tr>\n",
       "  </thead>\n",
       "  <tbody>\n",
       "    <tr>\n",
       "      <th>0</th>\n",
       "      <td>R2</td>\n",
       "      <td>0.68</td>\n",
       "      <td>entrenamiento</td>\n",
       "    </tr>\n",
       "    <tr>\n",
       "      <th>1</th>\n",
       "      <td>MSE</td>\n",
       "      <td>32056546297.04</td>\n",
       "      <td>entrenamiento</td>\n",
       "    </tr>\n",
       "    <tr>\n",
       "      <th>2</th>\n",
       "      <td>RMSE</td>\n",
       "      <td>179043.42</td>\n",
       "      <td>entrenamiento</td>\n",
       "    </tr>\n",
       "    <tr>\n",
       "      <th>3</th>\n",
       "      <td>MAE</td>\n",
       "      <td>84810.58</td>\n",
       "      <td>entrenamiento</td>\n",
       "    </tr>\n",
       "    <tr>\n",
       "      <th>0</th>\n",
       "      <td>R2</td>\n",
       "      <td>0.63</td>\n",
       "      <td>evaluacion</td>\n",
       "    </tr>\n",
       "    <tr>\n",
       "      <th>1</th>\n",
       "      <td>MSE</td>\n",
       "      <td>38895552028.44</td>\n",
       "      <td>evaluacion</td>\n",
       "    </tr>\n",
       "    <tr>\n",
       "      <th>2</th>\n",
       "      <td>RMSE</td>\n",
       "      <td>197219.55</td>\n",
       "      <td>evaluacion</td>\n",
       "    </tr>\n",
       "    <tr>\n",
       "      <th>3</th>\n",
       "      <td>MAE</td>\n",
       "      <td>86913.28</td>\n",
       "      <td>evaluacion</td>\n",
       "    </tr>\n",
       "  </tbody>\n",
       "</table>\n",
       "</div>"
      ],
      "text/plain": [
       "  metrica          valor   tipo_dataset\n",
       "0      R2           0.68  entrenamiento\n",
       "1     MSE 32056546297.04  entrenamiento\n",
       "2    RMSE      179043.42  entrenamiento\n",
       "3     MAE       84810.58  entrenamiento\n",
       "0      R2           0.63     evaluacion\n",
       "1     MSE 38895552028.44     evaluacion\n",
       "2    RMSE      197219.55     evaluacion\n",
       "3     MAE       86913.28     evaluacion"
      ]
     },
     "execution_count": 58,
     "metadata": {
      "tags": []
     },
     "output_type": "execute_result"
    }
   ],
   "source": [
    "# Predecimos los valores\n",
    "y_test_interaccion = modelo_lineal_interaccion.predict(X_test_interaccion)\n",
    "# Obtenemos nuestro dataframe de métricas de performance\n",
    "performance_test_interaccion = obtener_metricas_performance(y_test, y_test_interaccion, 'evaluacion')\n",
    "# Mostramos en conjunto las métricas para entrenamiento y evaluación\n",
    "pd.concat([performance_train_interaccion, performance_test_interaccion])"
   ]
  },
  {
   "cell_type": "markdown",
   "metadata": {
    "id": "D3cBOFr_G5xi"
   },
   "source": [
    "## 5. Diagnóstico\n",
    "\n",
    "En esta sección vamos a realizar el gráfico de residuos vs valores predichos para observar si estos dos modelos cumplen o no con los supuestos del modelo lineal"
   ]
  },
  {
   "cell_type": "code",
   "execution_count": null,
   "metadata": {
    "id": "XiHTPYGKDI3b"
   },
   "outputs": [],
   "source": [
    "# Calculamos los residuos para el modelo de superficie y baños\n",
    "residuos_sup_baños = y_train - y_train_sup_baños"
   ]
  },
  {
   "cell_type": "code",
   "execution_count": null,
   "metadata": {
    "colab": {
     "base_uri": "https://localhost:8080/",
     "height": 457
    },
    "id": "YzwrMsttodKW",
    "outputId": "44019b98-2bb2-45af-cb7b-3db5fdc629c2"
   },
   "outputs": [
    {
     "data": {
      "image/png": "[encoded data removed]",
      "text/plain": [
       "<Figure size 720x504 with 1 Axes>"
      ]
     },
     "metadata": {
      "needs_background": "light",
      "tags": []
     },
     "output_type": "display_data"
    }
   ],
   "source": [
    "# Realizamos el gráfico\n",
    "plt.figure(figsize=(10,7))\n",
    "plt.scatter(x=y_train_sup_baños, y=residuos_sup_baños,\n",
    "            alpha=0.6, c='royalblue', edgecolor='black')\n",
    "plt.axhline(y=0, c='black', ls='--', linewidth=2.5)\n",
    "plt.title(\"Modelo Superficie y Baños\");"
   ]
  },
  {
   "cell_type": "code",
   "execution_count": null,
   "metadata": {
    "id": "Dw1MnWepDQqm"
   },
   "outputs": [],
   "source": [
    "# Calculamos los residuos para el modelo de interacción\n",
    "residuos_interaccion =  y_train - y_train_interaccion "
   ]
  },
  {
   "cell_type": "code",
   "execution_count": null,
   "metadata": {
    "colab": {
     "base_uri": "https://localhost:8080/",
     "height": 457
    },
    "id": "ppdezjx-D49N",
    "outputId": "05bc0f19-b038-4c66-afcf-aeebd6ce1db6"
   },
   "outputs": [
    {
     "data": {
      "image/png": "[encoded data removed]",
      "text/plain": [
       "<Figure size 720x504 with 1 Axes>"
      ]
     },
     "metadata": {
      "needs_background": "light",
      "tags": []
     },
     "output_type": "display_data"
    }
   ],
   "source": [
    "# Realizamos el gráfico\n",
    "plt.figure(figsize=(10,7))\n",
    "plt.scatter(x=y_train_sup_baños, y=residuos_interaccion,\n",
    "            alpha=0.6, c='green', edgecolor='black')\n",
    "plt.axhline(y=0, c='black', ls='--', linewidth=2.5)\n",
    "plt.title(\"Modelo Interacción\");"
   ]
  }
 ],
 "metadata": {
  "colab": {
   "collapsed_sections": [],
   "name": "BTC | RLM - Con varios indicadores.ipynb",
   "provenance": [
    {
     "file_id": "1l1G3eUR8nUWAyvMzRksOIhLz4uwsUFeG",
     "timestamp": 1643117069512
    },
    {
     "file_id": "https://github.com/institutohumai/cursos-python/blob/master/MachineLearning/2_RegresionLinealMultiple/RegresionLinealMultiple.ipynb",
     "timestamp": 1642509382994
    }
   ],
   "toc_visible": true
  },
  "interpreter": {
   "hash": "c15586da037acc71fa8586ddf198fb104d8beefbe40d3b778cb0e3e48c97203b"
  },
  "kernelspec": {
   "display_name": "Python 3 (ipykernel)",
   "language": "python",
   "name": "python3"
  },
  "language_info": {
   "codemirror_mode": {
    "name": "ipython",
    "version": 3
   },
   "file_extension": ".py",
   "mimetype": "text/x-python",
   "name": "python",
   "nbconvert_exporter": "python",
   "pygments_lexer": "ipython3",
   "version": "3.9.7"
  }
 },
 "nbformat": 4,
 "nbformat_minor": 4
}
