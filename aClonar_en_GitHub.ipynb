{
  "nbformat": 4,
  "nbformat_minor": 0,
  "metadata": {
    "colab": {
      "name": "aClonar en GitHub.ipynb",
      "provenance": [],
      "collapsed_sections": [],
      "authorship_tag": "ABX9TyMxxb9gX2+LtwRLQBBlE288",
      "include_colab_link": true
    },
    "kernelspec": {
      "name": "python3",
      "display_name": "Python 3"
    },
    "language_info": {
      "name": "python"
    }
  },
  "cells": [
    {
      "cell_type": "markdown",
      "metadata": {
        "id": "view-in-github",
        "colab_type": "text"
      },
      "source": [
        "<a href=\"https://colab.research.google.com/github/alexchavez1980/misProgramas/blob/main/aClonar_en_GitHub.ipynb\" target=\"_parent\"><img src=\"https://colab.research.google.com/assets/colab-badge.svg\" alt=\"Open In Colab\"/></a>"
      ]
    },
    {
      "cell_type": "markdown",
      "source": [
        "### **Conectar con el drive**\n"
      ],
      "metadata": {
        "id": "lOy_xU-S1FY0"
      }
    },
    {
      "cell_type": "code",
      "source": [
        "from google.colab import drive \n",
        "drive.mount('/content/drive') "
      ],
      "metadata": {
        "id": "66O4qjjhk3BR",
        "colab": {
          "base_uri": "https://localhost:8080/"
        },
        "outputId": "7085c962-5ecc-46fe-be4b-98e90fe3eec6"
      },
      "execution_count": 12,
      "outputs": [
        {
          "output_type": "stream",
          "name": "stdout",
          "text": [
            "Drive already mounted at /content/drive; to attempt to forcibly remount, call drive.mount(\"/content/drive\", force_remount=True).\n"
          ]
        }
      ]
    },
    {
      "cell_type": "markdown",
      "source": [
        "### **Ingresar a MyDrive**\n",
        "### (Acá se hará el clonado completo del repositorio)"
      ],
      "metadata": {
        "id": "ILAZ8pbH19Ce"
      }
    },
    {
      "cell_type": "code",
      "source": [
        "cd '/content/drive/MyDrive'"
      ],
      "metadata": {
        "id": "RcywCZHD19nD",
        "colab": {
          "base_uri": "https://localhost:8080/"
        },
        "outputId": "0b8ec217-563b-4827-8de4-5a605ca3d05e"
      },
      "execution_count": 13,
      "outputs": [
        {
          "output_type": "stream",
          "name": "stdout",
          "text": [
            "/content/drive/MyDrive\n"
          ]
        }
      ]
    },
    {
      "cell_type": "markdown",
      "source": [
        "### **Working directory**\n"
      ],
      "metadata": {
        "id": "R5ERIlQ11XVc"
      }
    },
    {
      "cell_type": "code",
      "source": [
        "%pwd #Working Directory (Averiguar bien después)"
      ],
      "metadata": {
        "id": "Da5CtKEhmSBM",
        "colab": {
          "base_uri": "https://localhost:8080/",
          "height": 35
        },
        "outputId": "ef1b7339-0616-4b5b-f7c1-58d6c109517d"
      },
      "execution_count": 14,
      "outputs": [
        {
          "output_type": "execute_result",
          "data": {
            "text/plain": [
              "'/content/drive/MyDrive'"
            ],
            "application/vnd.google.colaboratory.intrinsic+json": {
              "type": "string"
            }
          },
          "metadata": {},
          "execution_count": 14
        }
      ]
    },
    {
      "cell_type": "markdown",
      "source": [
        "### **Clonado del github: misProgramas**\n"
      ],
      "metadata": {
        "id": "GtWACOQ11udM"
      }
    },
    {
      "cell_type": "code",
      "source": [
        "! git clone https://github.com/alexchavez1980/misProgramas.git"
      ],
      "metadata": {
        "id": "74RDOQ7mmhE9",
        "colab": {
          "base_uri": "https://localhost:8080/"
        },
        "outputId": "3405a126-2837-4346-8520-e1ee6c27b84e"
      },
      "execution_count": null,
      "outputs": [
        {
          "output_type": "stream",
          "name": "stdout",
          "text": [
            "Cloning into 'misProgramas'...\n",
            "remote: Enumerating objects: 32, done.\u001b[K\n",
            "remote: Counting objects: 100% (32/32), done.\u001b[K\n",
            "remote: Compressing objects: 100% (22/22), done.\u001b[K\n",
            "remote: Total 32 (delta 9), reused 31 (delta 8), pack-reused 0\u001b[K\n",
            "Unpacking objects: 100% (32/32), done.\n"
          ]
        }
      ]
    },
    {
      "cell_type": "markdown",
      "source": [
        "### **Clonado del github: misDatasets**\n"
      ],
      "metadata": {
        "id": "lQ1LxsLZ6POw"
      }
    },
    {
      "cell_type": "code",
      "source": [
        "! git clone https://github.com/alexchavez1980/misDatasets.git"
      ],
      "metadata": {
        "colab": {
          "base_uri": "https://localhost:8080/"
        },
        "outputId": "3405a126-2837-4346-8520-e1ee6c27b84e",
        "id": "wsQH3XmB6Ufd"
      },
      "execution_count": null,
      "outputs": [
        {
          "output_type": "stream",
          "name": "stdout",
          "text": [
            "Cloning into 'misProgramas'...\n",
            "remote: Enumerating objects: 32, done.\u001b[K\n",
            "remote: Counting objects: 100% (32/32), done.\u001b[K\n",
            "remote: Compressing objects: 100% (22/22), done.\u001b[K\n",
            "remote: Total 32 (delta 9), reused 31 (delta 8), pack-reused 0\u001b[K\n",
            "Unpacking objects: 100% (32/32), done.\n"
          ]
        }
      ]
    }
  ]
}