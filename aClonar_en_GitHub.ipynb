{
  "nbformat": 4,
  "nbformat_minor": 0,
  "metadata": {
    "colab": {
      "name": "aClonar en GitHub.ipynb",
      "provenance": [],
      "collapsed_sections": [],
      "authorship_tag": "ABX9TyP63y+jHFYHX/KZC7Bm22Yq",
      "include_colab_link": true
    },
    "kernelspec": {
      "name": "python3",
      "display_name": "Python 3"
    },
    "language_info": {
      "name": "python"
    }
  },
  "cells": [
    {
      "cell_type": "markdown",
      "metadata": {
        "id": "view-in-github",
        "colab_type": "text"
      },
      "source": [
        "<a href=\"https://colab.research.google.com/github/alexchavez1980/misProgramas/blob/main/aClonar_en_GitHub.ipynb\" target=\"_parent\"><img src=\"https://colab.research.google.com/assets/colab-badge.svg\" alt=\"Open In Colab\"/></a>"
      ]
    },
    {
      "cell_type": "markdown",
      "source": [
        "### **Conectar con el drive**\n"
      ],
      "metadata": {
        "id": "lOy_xU-S1FY0"
      }
    },
    {
      "cell_type": "code",
      "source": [
        "from google.colab import drive \n",
        "drive.mount('/content/drive') "
      ],
      "metadata": {
        "id": "66O4qjjhk3BR",
        "colab": {
          "base_uri": "https://localhost:8080/"
        },
        "outputId": "7deaa3f8-2483-404a-8395-565505c29c8b"
      },
      "execution_count": 30,
      "outputs": [
        {
          "output_type": "stream",
          "name": "stdout",
          "text": [
            "Drive already mounted at /content/drive; to attempt to forcibly remount, call drive.mount(\"/content/drive\", force_remount=True).\n"
          ]
        }
      ]
    },
    {
      "cell_type": "markdown",
      "source": [
        "### **Ingresar a MyDrive**\n",
        "### (Acá se hará el clonado completo del repositorio)"
      ],
      "metadata": {
        "id": "ILAZ8pbH19Ce"
      }
    },
    {
      "cell_type": "code",
      "source": [
        "cd '/content/drive/MyDrive'"
      ],
      "metadata": {
        "id": "RcywCZHD19nD",
        "colab": {
          "base_uri": "https://localhost:8080/"
        },
        "outputId": "ad2a166b-e415-4a64-e993-0ada1e6cfb5c"
      },
      "execution_count": 32,
      "outputs": [
        {
          "output_type": "stream",
          "name": "stdout",
          "text": [
            "/content/drive/MyDrive\n"
          ]
        }
      ]
    },
    {
      "cell_type": "markdown",
      "source": [
        "### **Te muestra el *Working directory***\n"
      ],
      "metadata": {
        "id": "R5ERIlQ11XVc"
      }
    },
    {
      "cell_type": "code",
      "source": [
        "%pwd #Working Directory (Averiguar bien después)"
      ],
      "metadata": {
        "id": "Da5CtKEhmSBM"
      },
      "execution_count": null,
      "outputs": []
    },
    {
      "cell_type": "markdown",
      "source": [
        "### **Clonado del github: misProgramas**\n"
      ],
      "metadata": {
        "id": "GtWACOQ11udM"
      }
    },
    {
      "cell_type": "code",
      "source": [
        "! git clone https://github.com/alexchavez1980/misProgramas.git"
      ],
      "metadata": {
        "id": "74RDOQ7mmhE9",
        "colab": {
          "base_uri": "https://localhost:8080/"
        },
        "outputId": "e015b00f-d3b6-4269-a73e-4be5b0a32335"
      },
      "execution_count": 15,
      "outputs": [
        {
          "output_type": "stream",
          "name": "stdout",
          "text": [
            "fatal: destination path 'misProgramas' already exists and is not an empty directory.\n"
          ]
        }
      ]
    },
    {
      "cell_type": "markdown",
      "source": [
        "### **Clonado del github: misDatasets**\n"
      ],
      "metadata": {
        "id": "lQ1LxsLZ6POw"
      }
    },
    {
      "cell_type": "code",
      "source": [
        "! git clone https://github.com/alexchavez1980/misDatasets.git"
      ],
      "metadata": {
        "colab": {
          "base_uri": "https://localhost:8080/"
        },
        "outputId": "96d59ee0-6922-4593-f494-2ffd2ac2c9b0",
        "id": "wsQH3XmB6Ufd"
      },
      "execution_count": 16,
      "outputs": [
        {
          "output_type": "stream",
          "name": "stdout",
          "text": [
            "Cloning into 'misDatasets'...\n",
            "remote: Enumerating objects: 10, done.\u001b[K\n",
            "remote: Counting objects: 100% (10/10), done.\u001b[K\n",
            "remote: Compressing objects: 100% (10/10), done.\u001b[K\n",
            "remote: Total 10 (delta 0), reused 10 (delta 0), pack-reused 0\u001b[K\n",
            "Unpacking objects: 100% (10/10), done.\n"
          ]
        }
      ]
    },
    {
      "cell_type": "markdown",
      "source": [
        "### **Inicializado y consulta de status**"
      ],
      "metadata": {
        "id": "4HhxBxTb949P"
      }
    },
    {
      "cell_type": "code",
      "source": [
        "!git init\n",
        "!git status"
      ],
      "metadata": {
        "id": "wi4hdo4-96ok"
      },
      "execution_count": null,
      "outputs": []
    },
    {
      "cell_type": "markdown",
      "source": [
        "### **Para realizar un git pull**"
      ],
      "metadata": {
        "id": "KynjLXNY9Tmm"
      }
    },
    {
      "cell_type": "code",
      "source": [
        "%cd '/content/drive/MyDrive/misProgramas'\n",
        "!git remote -v #Origen"
      ],
      "metadata": {
        "colab": {
          "base_uri": "https://localhost:8080/"
        },
        "id": "f8Fn5RVn9UV2",
        "outputId": "9f4ebc95-4f06-456c-a719-3cfb1f2ae474"
      },
      "execution_count": 42,
      "outputs": [
        {
          "output_type": "stream",
          "name": "stdout",
          "text": [
            "/content/drive/MyDrive/misProgramas\n",
            "origin\thttps://github.com/alexchavez1980/misProgramas.git (fetch)\n",
            "origin\thttps://github.com/alexchavez1980/misProgramas.git (push)\n"
          ]
        }
      ]
    },
    {
      "cell_type": "code",
      "source": [
        "!git status"
      ],
      "metadata": {
        "id": "HHGip7B0Atnn"
      },
      "execution_count": null,
      "outputs": []
    },
    {
      "cell_type": "code",
      "source": [
        "!git add .\t#(el punto es para subir todo, sino, el nombre del archivo)\n",
        "!git commit -m \"First pull from Colab\"\n",
        "!git config --global user.e-mail alexchavez1980@gmail.com\n",
        "!git config --global user.name alexchavez1980\n",
        "#!git branch -M main\t(Para indicar que se va a subir a la rama ppal)\n",
        "#!git remote add origin https://github.com/alexchavez1980/misProgramas.git\n",
        "#git push -u origin main"
      ],
      "metadata": {
        "id": "zNjNgH0jCAwf"
      },
      "execution_count": null,
      "outputs": []
    }
  ]
}