{
  "nbformat": 4,
  "nbformat_minor": 0,
  "metadata": {
    "colab": {
      "name": "aClonar en GitHub.ipynb",
      "provenance": [],
      "collapsed_sections": [],
      "authorship_tag": "ABX9TyMFr1InRKF+UOUlYT1/rYB+",
      "include_colab_link": true
    },
    "kernelspec": {
      "name": "python3",
      "display_name": "Python 3"
    },
    "language_info": {
      "name": "python"
    }
  },
  "cells": [
    {
      "cell_type": "markdown",
      "metadata": {
        "id": "view-in-github",
        "colab_type": "text"
      },
      "source": [
        "<a href=\"https://colab.research.google.com/github/alexchavez1980/misProgramas/blob/main/aClonar_en_GitHub.ipynb\" target=\"_parent\"><img src=\"https://colab.research.google.com/assets/colab-badge.svg\" alt=\"Open In Colab\"/></a>"
      ]
    },
    {
      "cell_type": "markdown",
      "source": [
        "### **Conectar con el drive**\n"
      ],
      "metadata": {
        "id": "lOy_xU-S1FY0"
      }
    },
    {
      "cell_type": "code",
      "source": [
        "from google.colab import drive \n",
        "drive.mount('/content/drive') "
      ],
      "metadata": {
        "id": "66O4qjjhk3BR"
      },
      "execution_count": null,
      "outputs": []
    },
    {
      "cell_type": "markdown",
      "source": [
        "### **Ingresar a MyDrive**\n",
        "### (Acá se hará el clonado completo del repositorio)"
      ],
      "metadata": {
        "id": "ILAZ8pbH19Ce"
      }
    },
    {
      "cell_type": "code",
      "source": [
        "cd '/content/drive/MyDrive'"
      ],
      "metadata": {
        "id": "RcywCZHD19nD"
      },
      "execution_count": null,
      "outputs": []
    },
    {
      "cell_type": "markdown",
      "source": [
        "### **Working directory**\n"
      ],
      "metadata": {
        "id": "R5ERIlQ11XVc"
      }
    },
    {
      "cell_type": "code",
      "source": [
        "%pwd #Working Directory (Averiguar bien después)"
      ],
      "metadata": {
        "id": "Da5CtKEhmSBM"
      },
      "execution_count": null,
      "outputs": []
    },
    {
      "cell_type": "markdown",
      "source": [
        "### **Clonado del github**\n"
      ],
      "metadata": {
        "id": "GtWACOQ11udM"
      }
    },
    {
      "cell_type": "code",
      "source": [
        "! git clone https://github.com/alexchavez1980/misProgramas.git"
      ],
      "metadata": {
        "id": "74RDOQ7mmhE9",
        "colab": {
          "base_uri": "https://localhost:8080/"
        },
        "outputId": "3405a126-2837-4346-8520-e1ee6c27b84e"
      },
      "execution_count": 11,
      "outputs": [
        {
          "output_type": "stream",
          "name": "stdout",
          "text": [
            "Cloning into 'misProgramas'...\n",
            "remote: Enumerating objects: 32, done.\u001b[K\n",
            "remote: Counting objects: 100% (32/32), done.\u001b[K\n",
            "remote: Compressing objects: 100% (22/22), done.\u001b[K\n",
            "remote: Total 32 (delta 9), reused 31 (delta 8), pack-reused 0\u001b[K\n",
            "Unpacking objects: 100% (32/32), done.\n"
          ]
        }
      ]
    }
  ]
}