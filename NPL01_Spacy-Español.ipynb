{
 "cells": [
  {
   "cell_type": "markdown",
   "id": "ff4be0ed-f21b-49b9-b4ee-49ecc01f174c",
   "metadata": {
    "tags": []
   },
   "source": [
    "# NPL con Spacy"
   ]
  },
  {
   "cell_type": "markdown",
   "id": "76f96f4a-113f-4fac-8e12-7dff5f7fd922",
   "metadata": {},
   "source": [
    "### Librerías previamente instaladas"
   ]
  },
  {
   "cell_type": "markdown",
   "id": "dee417ca-b1a0-4cdf-9831-beb20c8b2a66",
   "metadata": {},
   "source": [
    "<li> !pip install spacy\n",
    "\n",
    "<li> !python -m spacy download en_core_web_sm"
   ]
  },
  {
   "cell_type": "code",
   "execution_count": 2,
   "id": "34dac0db-7603-4de3-8795-a284ef5b73ec",
   "metadata": {
    "collapsed": true,
    "jupyter": {
     "outputs_hidden": true
    },
    "tags": []
   },
   "outputs": [
    {
     "name": "stdout",
     "output_type": "stream",
     "text": [
      "Collecting spacy\n",
      "  Using cached spacy-3.2.3-cp39-cp39-win_amd64.whl (11.3 MB)\n",
      "Collecting blis<0.8.0,>=0.4.0\n",
      "  Using cached blis-0.7.6-cp39-cp39-win_amd64.whl (6.6 MB)\n",
      "Collecting murmurhash<1.1.0,>=0.28.0\n",
      "  Using cached murmurhash-1.0.6-cp39-cp39-win_amd64.whl (21 kB)\n",
      "Requirement already satisfied: tqdm<5.0.0,>=4.38.0 in c:\\users\\alexc\\anaconda3\\lib\\site-packages (from spacy) (4.62.3)\n",
      "Collecting pydantic!=1.8,!=1.8.1,<1.9.0,>=1.7.4\n",
      "  Using cached pydantic-1.8.2-cp39-cp39-win_amd64.whl (1.9 MB)\n",
      "Collecting cymem<2.1.0,>=2.0.2\n",
      "  Using cached cymem-2.0.6-cp39-cp39-win_amd64.whl (36 kB)\n",
      "Collecting pathy>=0.3.5\n",
      "  Using cached pathy-0.6.1-py3-none-any.whl (42 kB)\n",
      "Requirement already satisfied: requests<3.0.0,>=2.13.0 in c:\\users\\alexc\\anaconda3\\lib\\site-packages (from spacy) (2.26.0)\n",
      "Requirement already satisfied: packaging>=20.0 in c:\\users\\alexc\\anaconda3\\lib\\site-packages (from spacy) (21.0)\n",
      "Collecting typer<0.5.0,>=0.3.0\n",
      "  Using cached typer-0.4.0-py3-none-any.whl (27 kB)\n",
      "Collecting preshed<3.1.0,>=3.0.2\n",
      "  Using cached preshed-3.0.6-cp39-cp39-win_amd64.whl (112 kB)\n",
      "Collecting srsly<3.0.0,>=2.4.1\n",
      "  Using cached srsly-2.4.2-cp39-cp39-win_amd64.whl (451 kB)\n",
      "Collecting thinc<8.1.0,>=8.0.12\n",
      "  Using cached thinc-8.0.13-cp39-cp39-win_amd64.whl (1.0 MB)\n",
      "Requirement already satisfied: setuptools in c:\\users\\alexc\\anaconda3\\lib\\site-packages (from spacy) (58.0.4)\n",
      "Collecting spacy-loggers<2.0.0,>=1.0.0\n",
      "  Using cached spacy_loggers-1.0.1-py3-none-any.whl (7.0 kB)\n",
      "Requirement already satisfied: numpy>=1.15.0 in c:\\users\\alexc\\anaconda3\\lib\\site-packages (from spacy) (1.20.3)\n",
      "Collecting langcodes<4.0.0,>=3.2.0\n",
      "  Using cached langcodes-3.3.0-py3-none-any.whl (181 kB)\n",
      "Collecting catalogue<2.1.0,>=2.0.6\n",
      "  Using cached catalogue-2.0.6-py3-none-any.whl (17 kB)\n",
      "Collecting wasabi<1.1.0,>=0.8.1\n",
      "  Using cached wasabi-0.9.0-py3-none-any.whl (25 kB)\n",
      "Collecting spacy-legacy<3.1.0,>=3.0.8\n",
      "  Using cached spacy_legacy-3.0.9-py2.py3-none-any.whl (20 kB)\n",
      "Requirement already satisfied: jinja2 in c:\\users\\alexc\\anaconda3\\lib\\site-packages (from spacy) (2.11.3)\n",
      "Requirement already satisfied: pyparsing>=2.0.2 in c:\\users\\alexc\\anaconda3\\lib\\site-packages (from packaging>=20.0->spacy) (3.0.4)\n",
      "Collecting smart-open<6.0.0,>=5.0.0\n",
      "  Using cached smart_open-5.2.1-py3-none-any.whl (58 kB)\n",
      "Requirement already satisfied: typing-extensions>=3.7.4.3 in c:\\users\\alexc\\anaconda3\\lib\\site-packages (from pydantic!=1.8,!=1.8.1,<1.9.0,>=1.7.4->spacy) (3.10.0.2)\n",
      "Requirement already satisfied: certifi>=2017.4.17 in c:\\users\\alexc\\anaconda3\\lib\\site-packages (from requests<3.0.0,>=2.13.0->spacy) (2021.10.8)\n",
      "Requirement already satisfied: idna<4,>=2.5 in c:\\users\\alexc\\anaconda3\\lib\\site-packages (from requests<3.0.0,>=2.13.0->spacy) (3.2)\n",
      "Requirement already satisfied: charset-normalizer~=2.0.0 in c:\\users\\alexc\\anaconda3\\lib\\site-packages (from requests<3.0.0,>=2.13.0->spacy) (2.0.4)\n",
      "Requirement already satisfied: urllib3<1.27,>=1.21.1 in c:\\users\\alexc\\anaconda3\\lib\\site-packages (from requests<3.0.0,>=2.13.0->spacy) (1.26.7)\n",
      "Requirement already satisfied: colorama in c:\\users\\alexc\\anaconda3\\lib\\site-packages (from tqdm<5.0.0,>=4.38.0->spacy) (0.4.4)\n",
      "Requirement already satisfied: click<9.0.0,>=7.1.1 in c:\\users\\alexc\\anaconda3\\lib\\site-packages (from typer<0.5.0,>=0.3.0->spacy) (8.0.3)\n",
      "Requirement already satisfied: MarkupSafe>=0.23 in c:\\users\\alexc\\anaconda3\\lib\\site-packages (from jinja2->spacy) (1.1.1)\n",
      "Installing collected packages: murmurhash, cymem, catalogue, wasabi, typer, srsly, smart-open, pydantic, preshed, blis, thinc, spacy-loggers, spacy-legacy, pathy, langcodes, spacy\n",
      "Successfully installed blis-0.7.6 catalogue-2.0.6 cymem-2.0.6 langcodes-3.3.0 murmurhash-1.0.6 pathy-0.6.1 preshed-3.0.6 pydantic-1.8.2 smart-open-5.2.1 spacy-3.2.3 spacy-legacy-3.0.9 spacy-loggers-1.0.1 srsly-2.4.2 thinc-8.0.13 typer-0.4.0 wasabi-0.9.0\n"
     ]
    }
   ],
   "source": [
    "!pip install spacy"
   ]
  },
  {
   "cell_type": "code",
   "execution_count": 1,
   "id": "e16b2305-267e-4c05-a746-8c2534aefb6f",
   "metadata": {
    "tags": []
   },
   "outputs": [
    {
     "name": "stdout",
     "output_type": "stream",
     "text": [
      "Collecting es-core-news-sm==3.2.0\n",
      "  Downloading https://github.com/explosion/spacy-models/releases/download/es_core_news_sm-3.2.0/es_core_news_sm-3.2.0-py3-none-any.whl (14.0 MB)\n",
      "Requirement already satisfied: spacy<3.3.0,>=3.2.0 in c:\\users\\alexc\\anaconda3\\lib\\site-packages (from es-core-news-sm==3.2.0) (3.2.3)\n",
      "Requirement already satisfied: spacy-loggers<2.0.0,>=1.0.0 in c:\\users\\alexc\\anaconda3\\lib\\site-packages (from spacy<3.3.0,>=3.2.0->es-core-news-sm==3.2.0) (1.0.1)\n",
      "Requirement already satisfied: srsly<3.0.0,>=2.4.1 in c:\\users\\alexc\\anaconda3\\lib\\site-packages (from spacy<3.3.0,>=3.2.0->es-core-news-sm==3.2.0) (2.4.2)\n",
      "Requirement already satisfied: preshed<3.1.0,>=3.0.2 in c:\\users\\alexc\\anaconda3\\lib\\site-packages (from spacy<3.3.0,>=3.2.0->es-core-news-sm==3.2.0) (3.0.6)\n",
      "Requirement already satisfied: packaging>=20.0 in c:\\users\\alexc\\anaconda3\\lib\\site-packages (from spacy<3.3.0,>=3.2.0->es-core-news-sm==3.2.0) (21.0)\n",
      "Requirement already satisfied: requests<3.0.0,>=2.13.0 in c:\\users\\alexc\\anaconda3\\lib\\site-packages (from spacy<3.3.0,>=3.2.0->es-core-news-sm==3.2.0) (2.26.0)\n",
      "Requirement already satisfied: jinja2 in c:\\users\\alexc\\anaconda3\\lib\\site-packages (from spacy<3.3.0,>=3.2.0->es-core-news-sm==3.2.0) (2.11.3)\n",
      "Requirement already satisfied: wasabi<1.1.0,>=0.8.1 in c:\\users\\alexc\\anaconda3\\lib\\site-packages (from spacy<3.3.0,>=3.2.0->es-core-news-sm==3.2.0) (0.9.0)\n",
      "Requirement already satisfied: tqdm<5.0.0,>=4.38.0 in c:\\users\\alexc\\anaconda3\\lib\\site-packages (from spacy<3.3.0,>=3.2.0->es-core-news-sm==3.2.0) (4.62.3)\n",
      "Requirement already satisfied: catalogue<2.1.0,>=2.0.6 in c:\\users\\alexc\\anaconda3\\lib\\site-packages (from spacy<3.3.0,>=3.2.0->es-core-news-sm==3.2.0) (2.0.6)\n",
      "Requirement already satisfied: murmurhash<1.1.0,>=0.28.0 in c:\\users\\alexc\\anaconda3\\lib\\site-packages (from spacy<3.3.0,>=3.2.0->es-core-news-sm==3.2.0) (1.0.6)\n",
      "Requirement already satisfied: numpy>=1.15.0 in c:\\users\\alexc\\anaconda3\\lib\\site-packages (from spacy<3.3.0,>=3.2.0->es-core-news-sm==3.2.0) (1.20.3)\n",
      "Requirement already satisfied: blis<0.8.0,>=0.4.0 in c:\\users\\alexc\\anaconda3\\lib\\site-packages (from spacy<3.3.0,>=3.2.0->es-core-news-sm==3.2.0) (0.7.6)\n",
      "Requirement already satisfied: pydantic!=1.8,!=1.8.1,<1.9.0,>=1.7.4 in c:\\users\\alexc\\anaconda3\\lib\\site-packages (from spacy<3.3.0,>=3.2.0->es-core-news-sm==3.2.0) (1.8.2)\n",
      "Requirement already satisfied: typer<0.5.0,>=0.3.0 in c:\\users\\alexc\\anaconda3\\lib\\site-packages (from spacy<3.3.0,>=3.2.0->es-core-news-sm==3.2.0) (0.4.0)\n",
      "Requirement already satisfied: setuptools in c:\\users\\alexc\\anaconda3\\lib\\site-packages (from spacy<3.3.0,>=3.2.0->es-core-news-sm==3.2.0) (58.0.4)\n",
      "Requirement already satisfied: thinc<8.1.0,>=8.0.12 in c:\\users\\alexc\\anaconda3\\lib\\site-packages (from spacy<3.3.0,>=3.2.0->es-core-news-sm==3.2.0) (8.0.13)\n",
      "Requirement already satisfied: cymem<2.1.0,>=2.0.2 in c:\\users\\alexc\\anaconda3\\lib\\site-packages (from spacy<3.3.0,>=3.2.0->es-core-news-sm==3.2.0) (2.0.6)\n",
      "Requirement already satisfied: spacy-legacy<3.1.0,>=3.0.8 in c:\\users\\alexc\\anaconda3\\lib\\site-packages (from spacy<3.3.0,>=3.2.0->es-core-news-sm==3.2.0) (3.0.9)\n",
      "Requirement already satisfied: langcodes<4.0.0,>=3.2.0 in c:\\users\\alexc\\anaconda3\\lib\\site-packages (from spacy<3.3.0,>=3.2.0->es-core-news-sm==3.2.0) (3.3.0)\n",
      "Requirement already satisfied: pathy>=0.3.5 in c:\\users\\alexc\\anaconda3\\lib\\site-packages (from spacy<3.3.0,>=3.2.0->es-core-news-sm==3.2.0) (0.6.1)\n",
      "Requirement already satisfied: pyparsing>=2.0.2 in c:\\users\\alexc\\anaconda3\\lib\\site-packages (from packaging>=20.0->spacy<3.3.0,>=3.2.0->es-core-news-sm==3.2.0) (3.0.4)\n",
      "Requirement already satisfied: smart-open<6.0.0,>=5.0.0 in c:\\users\\alexc\\anaconda3\\lib\\site-packages (from pathy>=0.3.5->spacy<3.3.0,>=3.2.0->es-core-news-sm==3.2.0) (5.2.1)\n",
      "Requirement already satisfied: typing-extensions>=3.7.4.3 in c:\\users\\alexc\\anaconda3\\lib\\site-packages (from pydantic!=1.8,!=1.8.1,<1.9.0,>=1.7.4->spacy<3.3.0,>=3.2.0->es-core-news-sm==3.2.0) (3.10.0.2)\n",
      "Requirement already satisfied: certifi>=2017.4.17 in c:\\users\\alexc\\anaconda3\\lib\\site-packages (from requests<3.0.0,>=2.13.0->spacy<3.3.0,>=3.2.0->es-core-news-sm==3.2.0) (2021.10.8)\n",
      "Requirement already satisfied: urllib3<1.27,>=1.21.1 in c:\\users\\alexc\\anaconda3\\lib\\site-packages (from requests<3.0.0,>=2.13.0->spacy<3.3.0,>=3.2.0->es-core-news-sm==3.2.0) (1.26.7)\n",
      "Requirement already satisfied: charset-normalizer~=2.0.0 in c:\\users\\alexc\\anaconda3\\lib\\site-packages (from requests<3.0.0,>=2.13.0->spacy<3.3.0,>=3.2.0->es-core-news-sm==3.2.0) (2.0.4)\n",
      "Requirement already satisfied: idna<4,>=2.5 in c:\\users\\alexc\\anaconda3\\lib\\site-packages (from requests<3.0.0,>=2.13.0->spacy<3.3.0,>=3.2.0->es-core-news-sm==3.2.0) (3.2)\n",
      "Requirement already satisfied: colorama in c:\\users\\alexc\\anaconda3\\lib\\site-packages (from tqdm<5.0.0,>=4.38.0->spacy<3.3.0,>=3.2.0->es-core-news-sm==3.2.0) (0.4.4)\n",
      "Requirement already satisfied: click<9.0.0,>=7.1.1 in c:\\users\\alexc\\anaconda3\\lib\\site-packages (from typer<0.5.0,>=0.3.0->spacy<3.3.0,>=3.2.0->es-core-news-sm==3.2.0) (8.0.3)\n",
      "Requirement already satisfied: MarkupSafe>=0.23 in c:\\users\\alexc\\anaconda3\\lib\\site-packages (from jinja2->spacy<3.3.0,>=3.2.0->es-core-news-sm==3.2.0) (1.1.1)\n",
      "Installing collected packages: es-core-news-sm\n",
      "Successfully installed es-core-news-sm-3.2.0\n",
      "[+] Download and installation successful\n",
      "You can now load the package via spacy.load('es_core_news_sm')\n"
     ]
    }
   ],
   "source": [
    "!python -m spacy download es_core_news_sm"
   ]
  },
  {
   "cell_type": "markdown",
   "id": "3da6b04a-6720-4dc5-bc30-45f74cc025c2",
   "metadata": {
    "tags": []
   },
   "source": [
    "### Importo la librería spacy y hago un pequeño test para comprobar que se instaló correctamente."
   ]
  },
  {
   "cell_type": "code",
   "execution_count": 2,
   "id": "3415e664-91f7-4263-afa4-8d7e665958ed",
   "metadata": {
    "tags": []
   },
   "outputs": [],
   "source": [
    "import spacy"
   ]
  },
  {
   "cell_type": "code",
   "execution_count": 3,
   "id": "23b82da1-17b7-458e-bab7-21a86ff4406a",
   "metadata": {},
   "outputs": [],
   "source": [
    "nlp = spacy.load(\"es_core_news_sm\")"
   ]
  },
  {
   "cell_type": "code",
   "execution_count": 4,
   "id": "8f8a7f15-56d5-4cfe-89d2-e33152393cbc",
   "metadata": {},
   "outputs": [],
   "source": [
    "with open (\"data/La_bici_de_Eloísa.txt\", \"r\") as f:\n",
    "    text = f.read()"
   ]
  },
  {
   "cell_type": "code",
   "execution_count": 5,
   "id": "eacc4e24-4aeb-4a27-abbd-b9d7f357da21",
   "metadata": {},
   "outputs": [
    {
     "name": "stdout",
     "output_type": "stream",
     "text": [
      "La bici de EloÃ­sa.\n",
      "(Alex Chavez. Septiembre de 2019)\n",
      "\n",
      "\n",
      "El prÃ³cer a caballo desde arriba y vos, sin soltarme la mano, la mirÃ¡s venir en su bici. \n",
      "-Â¡Hola!, Â¡me llamo EloÃ­sa y ayer estuve de cumple! Cotorrea mientras nos muestra sus aÃ±os con los dedos. La mole de bronce en la mitad de la plaza y sus tres aÃ±os pedaleando, empujando y dando vueltas y vueltas.\n",
      "Va muy segura de lo que quiere con su cuerpecito lleno de dudas. \n",
      "Las dos rueditas de atrÃ¡s hacen lo que pueden.\n",
      "\n",
      "Me soltÃ¡s con disimulo y vas caminando detrÃ¡s de ella.  \n",
      "Creo que la compra de tu bici puede esperar un poco. \n",
      "Te saca pedaleos de ventaja. \n",
      "Mido quÃ© tan lejos estÃ¡s de mÃ­. \n",
      "Vos, extranjero de su juego, la mirÃ¡s alucinado.\n",
      "Mido porque quizÃ¡ me toca brincar hacia esa emergencia que siempre estÃ¡ en mi cabeza.\n",
      "Ese corrientazo por todo el cuerpo que me pone en modo supervivencia para atender a una vida que no es la mÃ­a. El impulso que nunca quiero que llegue.\n",
      "Paneo la plaza: Ã¡rea despejada.\n",
      "Paneo las noticias en el celular, Ã©ste paÃ­s repite.\n",
      "\n",
      "- EloÃ­sa: Â¿por quÃ© no compartÃ­s la bici con el nene? Dice su papÃ¡ queriÃ©ndola entretener a ver si deja de cotorrear.\n",
      "Vos con dos y ella con tres: una vida de diferencia.\n",
      "Pasaste de fonemas y monosÃ­labos a un -PapÃ¡, llevame a la plaza y poneme abrigo que hace frÃ­o.\n",
      "LloviÃ³ en la madrugada y te diste cuenta. Cuando nos levantamos me dijiste: -PapÃ¡, se secÃ³ la lluvia.\n",
      "Pero EloÃ­sa te lleva varios vocabularios de ventaja: no para esa muchachita.\n",
      "Termina de dar la vuelta mientras cuenta lo que hace, y su aÃ±o de ventaja te agarra del abrigo como muÃ±eco de trapo. Habla con mirada perdida de loca en manicomio.\n",
      "Te empaca en su bici.\n",
      "En los juguetes de los niÃ±os siempre hay espacio para muchos niÃ±os.\n",
      "Las dos rueditas de atrÃ¡s hacen lo que pueden.\n",
      "\n",
      "Leo los nÃºmeros oficiales y no coinciden con la euforia del boca-river polÃ­tico de la gente.\n",
      "Te miro de reojo sin saber cÃ³mo carajos van ahÃ­ los dos; empujando la bici con hernias.\n",
      "Leo a un tipo que dice que el FMI presta dinero a un promedio de 4.5 aÃ±os durante dÃ©cadas.\n",
      "Viene el charco, viene el charco, Â¡VIENE EL CHARCO!. Menos mal que lo hablo mentalmente.\n",
      "Igual lo atravesaron completico pa despuÃ©s irse de jeta contra el piso.\n",
      "La carcajada del papÃ¡ de EloÃ­sa hace media vuelta a la plaza y la mÃ­a la completa.\n",
      "Tato Bores explica en un video lo de los prÃ©stamos, muestra varios papelitos: media docena de billetes distintos.\n",
      "Como el Monopoly o el estanciero: papelitos que valen lo que dice el polÃ­tico de turno.\n",
      "Al cÃ³mico no lo toman en serio y al prÃ³cer lo veo mareado: \n",
      "de lo que pasa debajo de Ã©l y de las noticias en mi celular.\n",
      "\n",
      "Se ven las cuatro piernas, empujando, tropezando y yÃ©ndose de jeta.\n",
      "Se mueven como tentÃ¡culos de un mismo cuerpo.\n",
      "Veo a EloÃ­sa mÃ¡s segura de lo que quiere, ahora tiene a cargo dos cuerpecitos llenos de dudas.\n",
      "Vos estÃ¡s feliz de copiloto pero resongando por la mini rubia mandona y parlanchina.\n",
      "Se estampillan contra el piso, una vez por vuelta. \n",
      "Se rÃ­en. Nada mal.\n",
      "A veces soy tus rueditas que hacen lo que pueden.\n",
      "A veces sos un manojo de piernas que empujan y tropiezan cada vez menos.\n",
      "A veces los totazos son inevitables; no te puedo hacer paneo permanente.\n",
      "El corrientazo que nunca quiero que llegue a veces llega.\n",
      "Es la otra manera de aprender.\n",
      "\n",
      "Te miro y miro noticias.\n",
      "Te miro y miro noticias.\n",
      "Te miro y miro noticias.\n",
      "Pasa el rato y parece que digo si todo el tiempo.\n",
      "Apago el celular.\n",
      "\n",
      "Fueron varias vueltas a la plaza; un totazo por vuelta. \n",
      "Algunos suavecitos. Otros con raspones en las rodillas.\n",
      "EloÃ­sa afloja un poco con las Ã³rdenes y vos ya no te dejÃ¡s agarrar del hombro. \n",
      "Ã‰se talento de los nenes de pelearse y contentarse en un par de vueltas.\n",
      "Ahora los cuatro tentÃ¡culos parecen con menos dudas.\n",
      "La Ãºltima vuelta la dan completa y los dos papÃ¡s con brazos en alto.\n",
      "Aplaudimos, mientras las dos rueditas de atrÃ¡s de Ã©ste paÃ­s hacen lo que pueden.\n",
      "\n"
     ]
    }
   ],
   "source": [
    "print (text)"
   ]
  },
  {
   "cell_type": "code",
   "execution_count": 6,
   "id": "3f5cd9b4-09a5-4556-b8ba-f7e6c8d31113",
   "metadata": {},
   "outputs": [],
   "source": [
    "doc = nlp(text)"
   ]
  },
  {
   "cell_type": "code",
   "execution_count": 7,
   "id": "f38592d5-2d46-427d-a8d0-8d12d6d2c900",
   "metadata": {},
   "outputs": [
    {
     "name": "stdout",
     "output_type": "stream",
     "text": [
      "La bici de EloÃ­sa.\n",
      "(Alex Chavez. Septiembre de 2019)\n",
      "\n",
      "\n",
      "El prÃ³cer a caballo desde arriba y vos, sin soltarme la mano, la mirÃ¡s venir en su bici. \n",
      "-Â¡Hola!, Â¡me llamo EloÃ­sa y ayer estuve de cumple! Cotorrea mientras nos muestra sus aÃ±os con los dedos. La mole de bronce en la mitad de la plaza y sus tres aÃ±os pedaleando, empujando y dando vueltas y vueltas.\n",
      "Va muy segura de lo que quiere con su cuerpecito lleno de dudas. \n",
      "Las dos rueditas de atrÃ¡s hacen lo que pueden.\n",
      "\n",
      "Me soltÃ¡s con disimulo y vas caminando detrÃ¡s de ella.  \n",
      "Creo que la compra de tu bici puede esperar un poco. \n",
      "Te saca pedaleos de ventaja. \n",
      "Mido quÃ© tan lejos estÃ¡s de mÃ­. \n",
      "Vos, extranjero de su juego, la mirÃ¡s alucinado.\n",
      "Mido porque quizÃ¡ me toca brincar hacia esa emergencia que siempre estÃ¡ en mi cabeza.\n",
      "Ese corrientazo por todo el cuerpo que me pone en modo supervivencia para atender a una vida que no es la mÃ­a. El impulso que nunca quiero que llegue.\n",
      "Paneo la plaza: Ã¡rea despejada.\n",
      "Paneo las noticias en el celular, Ã©ste paÃ­s repite.\n",
      "\n",
      "- EloÃ­sa: Â¿por quÃ© no compartÃ­s la bici con el nene? Dice su papÃ¡ queriÃ©ndola entretener a ver si deja de cotorrear.\n",
      "Vos con dos y ella con tres: una vida de diferencia.\n",
      "Pasaste de fonemas y monosÃ­labos a un -PapÃ¡, llevame a la plaza y poneme abrigo que hace frÃ­o.\n",
      "LloviÃ³ en la madrugada y te diste cuenta. Cuando nos levantamos me dijiste: -PapÃ¡, se secÃ³ la lluvia.\n",
      "Pero EloÃ­sa te lleva varios vocabularios de ventaja: no para esa muchachita.\n",
      "Termina de dar la vuelta mientras cuenta lo que hace, y su aÃ±o de ventaja te agarra del abrigo como muÃ±eco de trapo. Habla con mirada perdida de loca en manicomio.\n",
      "Te empaca en su bici.\n",
      "En los juguetes de los niÃ±os siempre hay espacio para muchos niÃ±os.\n",
      "Las dos rueditas de atrÃ¡s hacen lo que pueden.\n",
      "\n",
      "Leo los nÃºmeros oficiales y no coinciden con la euforia del boca-river polÃ­tico de la gente.\n",
      "Te miro de reojo sin saber cÃ³mo carajos van ahÃ­ los dos; empujando la bici con hernias.\n",
      "Leo a un tipo que dice que el FMI presta dinero a un promedio de 4.5 aÃ±os durante dÃ©cadas.\n",
      "Viene el charco, viene el charco, Â¡VIENE EL CHARCO!. Menos mal que lo hablo mentalmente.\n",
      "Igual lo atravesaron completico pa despuÃ©s irse de jeta contra el piso.\n",
      "La carcajada del papÃ¡ de EloÃ­sa hace media vuelta a la plaza y la mÃ­a la completa.\n",
      "Tato Bores explica en un video lo de los prÃ©stamos, muestra varios papelitos: media docena de billetes distintos.\n",
      "Como el Monopoly o el estanciero: papelitos que valen lo que dice el polÃ­tico de turno.\n",
      "Al cÃ³mico no lo toman en serio y al prÃ³cer lo veo mareado: \n",
      "de lo que pasa debajo de Ã©l y de las noticias en mi celular.\n",
      "\n",
      "Se ven las cuatro piernas, empujando, tropezando y yÃ©ndose de jeta.\n",
      "Se mueven como tentÃ¡culos de un mismo cuerpo.\n",
      "Veo a EloÃ­sa mÃ¡s segura de lo que quiere, ahora tiene a cargo dos cuerpecitos llenos de dudas.\n",
      "Vos estÃ¡s feliz de copiloto pero resongando por la mini rubia mandona y parlanchina.\n",
      "Se estampillan contra el piso, una vez por vuelta. \n",
      "Se rÃ­en. Nada mal.\n",
      "A veces soy tus rueditas que hacen lo que pueden.\n",
      "A veces sos un manojo de piernas que empujan y tropiezan cada vez menos.\n",
      "A veces los totazos son inevitables; no te puedo hacer paneo permanente.\n",
      "El corrientazo que nunca quiero que llegue a veces llega.\n",
      "Es la otra manera de aprender.\n",
      "\n",
      "Te miro y miro noticias.\n",
      "Te miro y miro noticias.\n",
      "Te miro y miro noticias.\n",
      "Pasa el rato y parece que digo si todo el tiempo.\n",
      "Apago el celular.\n",
      "\n",
      "Fueron varias vueltas a la plaza; un totazo por vuelta. \n",
      "Algunos suavecitos. Otros con raspones en las rodillas.\n",
      "EloÃ­sa afloja un poco con las Ã³rdenes y vos ya no te dejÃ¡s agarrar del hombro. \n",
      "Ã‰se talento de los nenes de pelearse y contentarse en un par de vueltas.\n",
      "Ahora los cuatro tentÃ¡culos parecen con menos dudas.\n",
      "La Ãºltima vuelta la dan completa y los dos papÃ¡s con brazos en alto.\n",
      "Aplaudimos, mientras las dos rueditas de atrÃ¡s de Ã©ste paÃ­s hacen lo que pueden.\n",
      "\n"
     ]
    }
   ],
   "source": [
    "print (doc)"
   ]
  },
  {
   "cell_type": "markdown",
   "id": "9f90b7bf-55ac-4557-a759-d48e2576fd80",
   "metadata": {},
   "source": [
    "La longitud del doc es menor porque los contenedores almancenan palabras.\n",
    "Incluso los paréntesis son contados como palabras.\n",
    "El contendedor (token) de \"text\" es letra por letra"
   ]
  },
  {
   "cell_type": "code",
   "execution_count": 8,
   "id": "82b36a8f-5db3-481d-96f1-db3596795f5d",
   "metadata": {},
   "outputs": [
    {
     "name": "stdout",
     "output_type": "stream",
     "text": [
      "889\n",
      "3937\n"
     ]
    }
   ],
   "source": [
    "print (len(doc))\n",
    "print (len(text))"
   ]
  },
  {
   "cell_type": "markdown",
   "id": "ee168f49-a347-4f23-9a19-c1d781594017",
   "metadata": {},
   "source": [
    "A continuación una impresión del token de cada uno."
   ]
  },
  {
   "cell_type": "code",
   "execution_count": 9,
   "id": "26084e86-7451-41c9-9ba1-ba31482eeda2",
   "metadata": {},
   "outputs": [
    {
     "name": "stdout",
     "output_type": "stream",
     "text": [
      "L\n",
      "a\n",
      " \n",
      "b\n",
      "i\n",
      "c\n",
      "i\n",
      " \n",
      "d\n",
      "e\n"
     ]
    }
   ],
   "source": [
    "for token in text[:10]:\n",
    "    print (token)"
   ]
  },
  {
   "cell_type": "code",
   "execution_count": 10,
   "id": "680083cd-1a91-456a-b5f7-230dda9bec18",
   "metadata": {},
   "outputs": [
    {
     "name": "stdout",
     "output_type": "stream",
     "text": [
      "La\n",
      "bici\n",
      "de\n",
      "EloÃ­sa\n",
      ".\n",
      "\n",
      "\n",
      "(\n",
      "Alex\n",
      "Chavez\n",
      ".\n"
     ]
    }
   ],
   "source": [
    "for token in doc[:10]:\n",
    "    print (token)"
   ]
  },
  {
   "cell_type": "markdown",
   "id": "6bc757a2-d463-4421-83db-faa427e6f887",
   "metadata": {},
   "source": [
    "A continuación, los paréntesis no serán removidos ni tenidos encuenta individualmente."
   ]
  },
  {
   "cell_type": "code",
   "execution_count": 11,
   "id": "a4a4a132-ae92-4691-b1c8-148c70a4cfc1",
   "metadata": {},
   "outputs": [
    {
     "name": "stdout",
     "output_type": "stream",
     "text": [
      "La\n",
      "bici\n",
      "de\n",
      "EloÃ­sa.\n",
      "(Alex\n",
      "Chavez.\n",
      "Septiembre\n",
      "de\n",
      "2019)\n",
      "El\n"
     ]
    }
   ],
   "source": [
    "for token in text.split()[:10]:\n",
    "    print (token)"
   ]
  },
  {
   "cell_type": "code",
   "execution_count": 12,
   "id": "12de99ea-ae26-4fa4-9444-3ab8f6b8f801",
   "metadata": {},
   "outputs": [],
   "source": [
    "words = text.split()[:10]"
   ]
  },
  {
   "cell_type": "code",
   "execution_count": 13,
   "id": "e2bc4092-196c-4f81-ba5c-f71daf630d7b",
   "metadata": {},
   "outputs": [
    {
     "name": "stdout",
     "output_type": "stream",
     "text": [
      "La\n",
      "bici\n",
      "de\n",
      "EloÃ­sa.\n",
      "(Alex\n",
      "Chavez.\n",
      "Septiembre\n",
      "de\n",
      "2019)\n",
      "El\n"
     ]
    }
   ],
   "source": [
    "for token in words[:10]:\n",
    "    print (token)"
   ]
  },
  {
   "cell_type": "code",
   "execution_count": 14,
   "id": "0dda84eb-bbfd-4dd5-be7c-f0e9ea86f97f",
   "metadata": {},
   "outputs": [
    {
     "name": "stdout",
     "output_type": "stream",
     "text": [
      "SpaCy Token 5:\n",
      "\n",
      "\n",
      "Word Split 5:\n",
      "Chavez.\n",
      "\n",
      "\n",
      "SpaCy Token 6:\n",
      "(\n",
      "Word Split 6:\n",
      "Septiembre\n",
      "\n",
      "\n",
      "SpaCy Token 7:\n",
      "Alex\n",
      "Word Split 7:\n",
      "de\n",
      "\n",
      "\n"
     ]
    }
   ],
   "source": [
    "i=5\n",
    "for token in doc[i:8]:\n",
    "    print (f\"SpaCy Token {i}:\\n{token}\\nWord Split {i}:\\n{words[i]}\\n\\n\")\n",
    "    i=i+1"
   ]
  },
  {
   "cell_type": "code",
   "execution_count": 15,
   "id": "b663147f-377f-43cf-8586-c04cb3d21c75",
   "metadata": {},
   "outputs": [
    {
     "name": "stdout",
     "output_type": "stream",
     "text": [
      "La bici de EloÃ­sa.\n",
      "\n",
      "(Alex Chavez.\n",
      "Septiembre de 2019)\n",
      "\n",
      "\n",
      "\n",
      "El prÃ³cer a caballo desde arriba y vos, sin soltarme la mano, la mirÃ¡s venir en su bici.\n",
      "\n",
      "-Â¡Hola!, Â¡me llamo EloÃ­sa y ayer estuve de cumple!\n",
      "Cotorrea mientras nos muestra sus aÃ±os con los dedos.\n",
      "La mole de bronce en la mitad de la plaza y sus tres aÃ±os pedaleando, empujando y dando vueltas y vueltas.\n",
      "\n",
      "Va muy segura de lo que quiere con su cuerpecito lleno de dudas.\n",
      "\n",
      "Las dos rueditas de atrÃ¡s hacen lo que pueden.\n",
      "\n",
      "\n",
      "Me soltÃ¡s con disimulo y vas caminando detrÃ¡s de ella.\n",
      " \n",
      "Creo que la compra de tu bici puede esperar un poco.\n",
      "\n",
      "Te saca pedaleos de ventaja.\n",
      "\n",
      "Mido quÃ© tan lejos estÃ¡s de mÃ­. \n",
      "Vos, extranjero de su juego, la mirÃ¡s alucinado.\n",
      "\n",
      "Mido porque quizÃ¡ me toca brincar hacia esa emergencia que siempre estÃ¡ en mi cabeza.\n",
      "\n",
      "Ese corrientazo por todo el cuerpo que me pone en modo supervivencia para atender a una vida que no es la mÃ­a.\n",
      "El impulso que nunca quiero que llegue.\n",
      "\n",
      "\n",
      "Paneo la plaza: Ã¡rea despejada.\n",
      "\n",
      "Paneo las noticias en el celular, Ã©ste paÃ­s repite.\n",
      "\n",
      "\n",
      "- EloÃ­sa: Â¿por quÃ© no compartÃ­s la bici con el nene?\n",
      "Dice su papÃ¡ queriÃ©ndola entretener a ver si deja de cotorrear.\n",
      "\n",
      "Vos con dos y ella con tres: una vida de diferencia.\n",
      "\n",
      "Pasaste de fonemas y monosÃ­labos a un -PapÃ¡, llevame a la plaza y poneme abrigo que hace frÃ­o.\n",
      "\n",
      "LloviÃ³ en la madrugada y te diste cuenta.\n",
      "Cuando nos levantamos me dijiste: -PapÃ¡, se secÃ³ la lluvia.\n",
      "\n",
      "Pero EloÃ­sa te lleva varios vocabularios de ventaja: no para esa muchachita.\n",
      "\n",
      "Termina de dar la vuelta mientras cuenta lo que hace, y su aÃ±o de ventaja te agarra del abrigo como muÃ±eco de trapo.\n",
      "Habla con mirada perdida de loca en manicomio.\n",
      "\n",
      "Te empaca en su bici.\n",
      "\n",
      "En los juguetes de los niÃ±os siempre hay espacio para muchos niÃ±os.\n",
      "\n",
      "Las dos rueditas de atrÃ¡s hacen lo que pueden.\n",
      "\n",
      "\n",
      "Leo los nÃºmeros oficiales y no coinciden con la euforia del boca-river polÃ­tico de la gente.\n",
      "\n",
      "Te miro de reojo sin saber cÃ³mo carajos van ahÃ­ los dos; empujando la bici con hernias.\n",
      "\n",
      "Leo a un tipo que dice que el FMI presta dinero a un promedio de 4.5 aÃ±os durante dÃ©cadas.\n",
      "\n",
      "Viene el charco, viene el charco, Â¡VIENE EL CHARCO!.\n",
      "Menos mal que lo hablo mentalmente.\n",
      "\n",
      "Igual lo atravesaron completico pa despuÃ©s irse de jeta contra el piso.\n",
      "\n",
      "La carcajada del papÃ¡ de EloÃ­sa hace media vuelta a la plaza y la mÃ­a la completa.\n",
      "\n",
      "Tato Bores explica en un video lo de los prÃ©stamos, muestra varios papelitos: media docena de billetes distintos.\n",
      "\n",
      "Como el Monopoly o el estanciero: papelitos que valen lo que dice el polÃ­tico de turno.\n",
      "\n",
      "Al cÃ³mico no lo toman en serio y al prÃ³cer lo veo mareado: \n",
      "de lo que pasa debajo de Ã©l y de las noticias en mi celular.\n",
      "\n",
      "\n",
      "Se ven las cuatro piernas, empujando, tropezando y yÃ©ndose de jeta.\n",
      "\n",
      "Se mueven como tentÃ¡culos de un mismo cuerpo.\n",
      "\n",
      "Veo a EloÃ­sa mÃ¡s segura de lo que quiere, ahora tiene a cargo dos cuerpecitos llenos de dudas.\n",
      "\n",
      "Vos estÃ¡s feliz de copiloto pero resongando por la mini rubia mandona y parlanchina.\n",
      "\n",
      "Se estampillan contra el piso, una vez por vuelta.\n",
      "\n",
      "Se rÃ­en.\n",
      "Nada mal.\n",
      "\n",
      "A veces soy tus rueditas que hacen lo que pueden.\n",
      "\n",
      "A veces sos un manojo de piernas que empujan y tropiezan cada vez menos.\n",
      "\n",
      "A veces los totazos son inevitables; no te puedo hacer paneo permanente.\n",
      "\n",
      "El corrientazo que nunca quiero que llegue a veces llega.\n",
      "\n",
      "Es la otra manera de aprender.\n",
      "\n",
      "\n",
      "Te miro y miro noticias.\n",
      "\n",
      "Te miro y miro noticias.\n",
      "\n",
      "Te miro y miro noticias.\n",
      "\n",
      "Pasa el rato y parece que digo si todo el tiempo.\n",
      "\n",
      "Apago el celular.\n",
      "\n",
      "\n",
      "Fueron varias vueltas a la plaza; un totazo por vuelta.\n",
      "\n",
      "Algunos suavecitos.\n",
      "Otros con raspones en las rodillas.\n",
      "\n",
      "EloÃ­sa afloja un poco con las Ã³rdenes y vos ya no te dejÃ¡s agarrar del hombro.\n",
      "\n",
      "Ã‰se talento de los nenes de pelearse y contentarse en un par de vueltas.\n",
      "\n",
      "Ahora los cuatro tentÃ¡culos parecen con menos dudas.\n",
      "\n",
      "La Ãºltima vuelta la dan completa y los dos papÃ¡s con brazos en alto.\n",
      "\n",
      "Aplaudimos, mientras las dos rueditas de atrÃ¡s de Ã©ste paÃ­s hacen lo que pueden.\n",
      "\n",
      "\n"
     ]
    }
   ],
   "source": [
    "for sent in doc.sents:\n",
    "    print (sent)"
   ]
  },
  {
   "cell_type": "markdown",
   "id": "c397bea5-ba28-421e-83ae-d74fef80db3c",
   "metadata": {},
   "source": [
    "That is because the sents attribute is a generator. In python, we can usually iterate over generators by converting them into a list. So, let’s do that."
   ]
  },
  {
   "cell_type": "code",
   "execution_count": 16,
   "id": "07a7ae16-e0ba-4e19-be74-d2a898b502df",
   "metadata": {},
   "outputs": [
    {
     "name": "stdout",
     "output_type": "stream",
     "text": [
      "La bici de EloÃ­sa.\n"
     ]
    }
   ],
   "source": [
    "sentence1 = list(doc.sents)[0]\n",
    "print (sentence1)"
   ]
  },
  {
   "cell_type": "markdown",
   "id": "ce274867-810f-4f67-83bb-0522b6631a73",
   "metadata": {},
   "source": [
    "2.4. Token Attributes¶\n",
    "The token object contains a lot of different attributes that are VITAL do performing NLP in spaCy. We will be working with a few of them, such as:\n",
    "\n",
    ".text\n",
    "\n",
    ".head\n",
    "\n",
    ".left_edge\n",
    "\n",
    ".right_edge\n",
    "\n",
    ".ent_type_\n",
    "\n",
    ".iob_\n",
    "\n",
    ".lemma_\n",
    "\n",
    ".morph\n",
    "\n",
    ".pos_\n",
    "\n",
    ".dep_\n",
    "\n",
    ".lang_"
   ]
  },
  {
   "cell_type": "code",
   "execution_count": 17,
   "id": "e036b211-99b6-4ba1-9bbd-43bcc3b04a34",
   "metadata": {},
   "outputs": [
    {
     "name": "stdout",
     "output_type": "stream",
     "text": [
      "de\n"
     ]
    }
   ],
   "source": [
    "token2 = sentence1[2]\n",
    "print (token2)"
   ]
  },
  {
   "cell_type": "code",
   "execution_count": 18,
   "id": "d4c213a9-9185-4e85-8a20-d575bd8b9d54",
   "metadata": {},
   "outputs": [
    {
     "data": {
      "text/plain": [
       "'de'"
      ]
     },
     "execution_count": 18,
     "metadata": {},
     "output_type": "execute_result"
    }
   ],
   "source": [
    "token2.text"
   ]
  },
  {
   "cell_type": "code",
   "execution_count": 19,
   "id": "8be71acf-30a1-4345-89d0-7b737a856b6f",
   "metadata": {},
   "outputs": [
    {
     "data": {
      "text/plain": [
       "EloÃ­sa"
      ]
     },
     "execution_count": 19,
     "metadata": {},
     "output_type": "execute_result"
    }
   ],
   "source": [
    "token2.head"
   ]
  },
  {
   "cell_type": "markdown",
   "id": "10cbdb0e-639e-480e-9e6f-616301d26861",
   "metadata": {},
   "source": [
    "This tells to which word it is governed by, in this case, the primary verb, “is”, as it is part of the noun subject."
   ]
  },
  {
   "cell_type": "code",
   "execution_count": 20,
   "id": "1362473a-c30e-458a-b0ce-77a0f8130d37",
   "metadata": {},
   "outputs": [
    {
     "data": {
      "text/plain": [
       "de"
      ]
     },
     "execution_count": 20,
     "metadata": {},
     "output_type": "execute_result"
    }
   ],
   "source": [
    "token2.left_edge"
   ]
  },
  {
   "cell_type": "code",
   "execution_count": 21,
   "id": "cedeb0e3-1e5c-4b0d-b697-d72aee47edf4",
   "metadata": {},
   "outputs": [
    {
     "data": {
      "text/plain": [
       "de"
      ]
     },
     "execution_count": 21,
     "metadata": {},
     "output_type": "execute_result"
    }
   ],
   "source": [
    "token2.right_edge"
   ]
  },
  {
   "cell_type": "code",
   "execution_count": 22,
   "id": "407c6cbd-47da-48d5-a6d7-c47e32d45727",
   "metadata": {},
   "outputs": [
    {
     "data": {
      "text/plain": [
       "'es'"
      ]
     },
     "execution_count": 22,
     "metadata": {},
     "output_type": "execute_result"
    }
   ],
   "source": [
    "token2.lang_"
   ]
  },
  {
   "cell_type": "code",
   "execution_count": 23,
   "id": "3b209ec3-41b2-496b-93ec-d5d4f40682c1",
   "metadata": {},
   "outputs": [
    {
     "data": {
      "text/html": [
       "<span class=\"tex2jax_ignore\"><svg xmlns=\"http://www.w3.org/2000/svg\" xmlns:xlink=\"http://www.w3.org/1999/xlink\" xml:lang=\"es\" id=\"d197639887a04735832398d6fad1d00a-0\" class=\"displacy\" width=\"750\" height=\"312.0\" direction=\"ltr\" style=\"max-width: none; height: 312.0px; color: #000000; background: #ffffff; font-family: Arial; direction: ltr\">\n",
       "<text class=\"displacy-token\" fill=\"currentColor\" text-anchor=\"middle\" y=\"222.0\">\n",
       "    <tspan class=\"displacy-word\" fill=\"currentColor\" x=\"50\">La</tspan>\n",
       "    <tspan class=\"displacy-tag\" dy=\"2em\" fill=\"currentColor\" x=\"50\">DET</tspan>\n",
       "</text>\n",
       "\n",
       "<text class=\"displacy-token\" fill=\"currentColor\" text-anchor=\"middle\" y=\"222.0\">\n",
       "    <tspan class=\"displacy-word\" fill=\"currentColor\" x=\"225\">bici</tspan>\n",
       "    <tspan class=\"displacy-tag\" dy=\"2em\" fill=\"currentColor\" x=\"225\">NOUN</tspan>\n",
       "</text>\n",
       "\n",
       "<text class=\"displacy-token\" fill=\"currentColor\" text-anchor=\"middle\" y=\"222.0\">\n",
       "    <tspan class=\"displacy-word\" fill=\"currentColor\" x=\"400\">de</tspan>\n",
       "    <tspan class=\"displacy-tag\" dy=\"2em\" fill=\"currentColor\" x=\"400\">ADP</tspan>\n",
       "</text>\n",
       "\n",
       "<text class=\"displacy-token\" fill=\"currentColor\" text-anchor=\"middle\" y=\"222.0\">\n",
       "    <tspan class=\"displacy-word\" fill=\"currentColor\" x=\"575\">EloÃ­sa.</tspan>\n",
       "    <tspan class=\"displacy-tag\" dy=\"2em\" fill=\"currentColor\" x=\"575\">PROPN</tspan>\n",
       "</text>\n",
       "\n",
       "<g class=\"displacy-arrow\">\n",
       "    <path class=\"displacy-arc\" id=\"arrow-d197639887a04735832398d6fad1d00a-0-0\" stroke-width=\"2px\" d=\"M70,177.0 C70,89.5 220.0,89.5 220.0,177.0\" fill=\"none\" stroke=\"currentColor\"/>\n",
       "    <text dy=\"1.25em\" style=\"font-size: 0.8em; letter-spacing: 1px\">\n",
       "        <textPath xlink:href=\"#arrow-d197639887a04735832398d6fad1d00a-0-0\" class=\"displacy-label\" startOffset=\"50%\" side=\"left\" fill=\"currentColor\" text-anchor=\"middle\">det</textPath>\n",
       "    </text>\n",
       "    <path class=\"displacy-arrowhead\" d=\"M70,179.0 L62,167.0 78,167.0\" fill=\"currentColor\"/>\n",
       "</g>\n",
       "\n",
       "<g class=\"displacy-arrow\">\n",
       "    <path class=\"displacy-arc\" id=\"arrow-d197639887a04735832398d6fad1d00a-0-1\" stroke-width=\"2px\" d=\"M420,177.0 C420,89.5 570.0,89.5 570.0,177.0\" fill=\"none\" stroke=\"currentColor\"/>\n",
       "    <text dy=\"1.25em\" style=\"font-size: 0.8em; letter-spacing: 1px\">\n",
       "        <textPath xlink:href=\"#arrow-d197639887a04735832398d6fad1d00a-0-1\" class=\"displacy-label\" startOffset=\"50%\" side=\"left\" fill=\"currentColor\" text-anchor=\"middle\">case</textPath>\n",
       "    </text>\n",
       "    <path class=\"displacy-arrowhead\" d=\"M420,179.0 L412,167.0 428,167.0\" fill=\"currentColor\"/>\n",
       "</g>\n",
       "\n",
       "<g class=\"displacy-arrow\">\n",
       "    <path class=\"displacy-arc\" id=\"arrow-d197639887a04735832398d6fad1d00a-0-2\" stroke-width=\"2px\" d=\"M245,177.0 C245,2.0 575.0,2.0 575.0,177.0\" fill=\"none\" stroke=\"currentColor\"/>\n",
       "    <text dy=\"1.25em\" style=\"font-size: 0.8em; letter-spacing: 1px\">\n",
       "        <textPath xlink:href=\"#arrow-d197639887a04735832398d6fad1d00a-0-2\" class=\"displacy-label\" startOffset=\"50%\" side=\"left\" fill=\"currentColor\" text-anchor=\"middle\">nmod</textPath>\n",
       "    </text>\n",
       "    <path class=\"displacy-arrowhead\" d=\"M575.0,179.0 L583.0,167.0 567.0,167.0\" fill=\"currentColor\"/>\n",
       "</g>\n",
       "</svg></span>"
      ],
      "text/plain": [
       "<IPython.core.display.HTML object>"
      ]
     },
     "metadata": {},
     "output_type": "display_data"
    }
   ],
   "source": [
    "from spacy import displacy\n",
    "displacy.render(sentence1, style=\"dep\")"
   ]
  },
  {
   "cell_type": "code",
   "execution_count": 24,
   "id": "6703e845-07e2-49c3-be4b-64bbcf188271",
   "metadata": {},
   "outputs": [
    {
     "name": "stdout",
     "output_type": "stream",
     "text": [
      "EloÃ­sa. MISC\n",
      "Alex Chavez PER\n",
      "Septiembre de 2019) MISC\n",
      "Â¡me LOC\n",
      "La mole de bronce MISC\n",
      "Las dos rueditas de atrÃ¡s MISC\n",
      "Mido quÃ© ORG\n",
      "Vos MISC\n",
      "estÃ¡ MISC\n",
      "Paneo LOC\n",
      "Paneo LOC\n",
      "Ã©ste paÃ­s repite. MISC\n",
      "Vos PER\n",
      "llevame LOC\n",
      "LloviÃ³ PER\n",
      "Cuando nos levantamos me dijiste: -PapÃ¡ MISC\n",
      "muchachita. PER\n",
      "trapo. PER\n",
      "manicomio. MISC\n",
      "Las dos rueditas de atrÃ¡s MISC\n",
      "nÃºmeros MISC\n",
      "Te miro de reojo MISC\n",
      "Leo MISC\n",
      "FMI ORG\n",
      "©cadas LOC\n",
      "Â¡VIENE LOC\n",
      "CHARCO!. MISC\n",
      "© PER\n",
      "EloÃ­sa LOC\n",
      "Tato Bores ORG\n",
      "Monopoly MISC\n",
      "Al cÃ³mico ORG\n",
      "Ã©l PER\n",
      "Veo MISC\n",
      "Vos PER\n",
      "parlanchina. LOC\n",
      "Nada mal. MISC\n",
      "aprender. PER\n",
      "miro noticias. PER\n",
      "Te miro MISC\n",
      "miro noticias. PER\n",
      "Te miro MISC\n",
      "miro noticias PER\n",
      "Apago LOC\n",
      "Algunos suavecitos. MISC\n",
      "EloÃ­sa LOC\n",
      "Ahora MISC\n",
      "Ãºltima LOC\n",
      "Aplaudimos LOC\n",
      "Ã©ste paÃ­s MISC\n"
     ]
    }
   ],
   "source": [
    "for ent in doc.ents:\n",
    "    print (ent.text, ent.label_)\n"
   ]
  },
  {
   "cell_type": "code",
   "execution_count": 25,
   "id": "c3ccc18d-3dfc-4287-b00b-35cf4455ff5c",
   "metadata": {},
   "outputs": [
    {
     "data": {
      "text/html": [
       "<span class=\"tex2jax_ignore\"><div class=\"entities\" style=\"line-height: 2.5; direction: ltr\">La bici de \n",
       "<mark class=\"entity\" style=\"background: #ddd; padding: 0.45em 0.6em; margin: 0 0.25em; line-height: 1; border-radius: 0.35em;\">\n",
       "    EloÃ­sa.\n",
       "    <span style=\"font-size: 0.8em; font-weight: bold; line-height: 1; border-radius: 0.35em; vertical-align: middle; margin-left: 0.5rem\">MISC</span>\n",
       "</mark>\n",
       "</br>(\n",
       "<mark class=\"entity\" style=\"background: #ddd; padding: 0.45em 0.6em; margin: 0 0.25em; line-height: 1; border-radius: 0.35em;\">\n",
       "    Alex Chavez\n",
       "    <span style=\"font-size: 0.8em; font-weight: bold; line-height: 1; border-radius: 0.35em; vertical-align: middle; margin-left: 0.5rem\">PER</span>\n",
       "</mark>\n",
       ". \n",
       "<mark class=\"entity\" style=\"background: #ddd; padding: 0.45em 0.6em; margin: 0 0.25em; line-height: 1; border-radius: 0.35em;\">\n",
       "    Septiembre de 2019)\n",
       "    <span style=\"font-size: 0.8em; font-weight: bold; line-height: 1; border-radius: 0.35em; vertical-align: middle; margin-left: 0.5rem\">MISC</span>\n",
       "</mark>\n",
       "</br></br></br>El prÃ³cer a caballo desde arriba y vos, sin soltarme la mano, la mirÃ¡s venir en su bici. </br>-Â¡Hola!, \n",
       "<mark class=\"entity\" style=\"background: #ff9561; padding: 0.45em 0.6em; margin: 0 0.25em; line-height: 1; border-radius: 0.35em;\">\n",
       "    Â¡me\n",
       "    <span style=\"font-size: 0.8em; font-weight: bold; line-height: 1; border-radius: 0.35em; vertical-align: middle; margin-left: 0.5rem\">LOC</span>\n",
       "</mark>\n",
       " llamo EloÃ­sa y ayer estuve de cumple! Cotorrea mientras nos muestra sus aÃ±os con los dedos. \n",
       "<mark class=\"entity\" style=\"background: #ddd; padding: 0.45em 0.6em; margin: 0 0.25em; line-height: 1; border-radius: 0.35em;\">\n",
       "    La mole de bronce\n",
       "    <span style=\"font-size: 0.8em; font-weight: bold; line-height: 1; border-radius: 0.35em; vertical-align: middle; margin-left: 0.5rem\">MISC</span>\n",
       "</mark>\n",
       " en la mitad de la plaza y sus tres aÃ±os pedaleando, empujando y dando vueltas y vueltas.</br>Va muy segura de lo que quiere con su cuerpecito lleno de dudas. </br>\n",
       "<mark class=\"entity\" style=\"background: #ddd; padding: 0.45em 0.6em; margin: 0 0.25em; line-height: 1; border-radius: 0.35em;\">\n",
       "    Las dos rueditas de atrÃ¡s\n",
       "    <span style=\"font-size: 0.8em; font-weight: bold; line-height: 1; border-radius: 0.35em; vertical-align: middle; margin-left: 0.5rem\">MISC</span>\n",
       "</mark>\n",
       " hacen lo que pueden.</br></br>Me soltÃ¡s con disimulo y vas caminando detrÃ¡s de ella.  </br>Creo que la compra de tu bici puede esperar un poco. </br>Te saca pedaleos de ventaja. </br>\n",
       "<mark class=\"entity\" style=\"background: #7aecec; padding: 0.45em 0.6em; margin: 0 0.25em; line-height: 1; border-radius: 0.35em;\">\n",
       "    Mido quÃ©\n",
       "    <span style=\"font-size: 0.8em; font-weight: bold; line-height: 1; border-radius: 0.35em; vertical-align: middle; margin-left: 0.5rem\">ORG</span>\n",
       "</mark>\n",
       " tan lejos estÃ¡s de mÃ­. </br>\n",
       "<mark class=\"entity\" style=\"background: #ddd; padding: 0.45em 0.6em; margin: 0 0.25em; line-height: 1; border-radius: 0.35em;\">\n",
       "    Vos\n",
       "    <span style=\"font-size: 0.8em; font-weight: bold; line-height: 1; border-radius: 0.35em; vertical-align: middle; margin-left: 0.5rem\">MISC</span>\n",
       "</mark>\n",
       ", extranjero de su juego, la mirÃ¡s alucinado.</br>Mido porque quizÃ¡ me toca brincar hacia esa emergencia que siempre \n",
       "<mark class=\"entity\" style=\"background: #ddd; padding: 0.45em 0.6em; margin: 0 0.25em; line-height: 1; border-radius: 0.35em;\">\n",
       "    estÃ¡\n",
       "    <span style=\"font-size: 0.8em; font-weight: bold; line-height: 1; border-radius: 0.35em; vertical-align: middle; margin-left: 0.5rem\">MISC</span>\n",
       "</mark>\n",
       " en mi cabeza.</br>Ese corrientazo por todo el cuerpo que me pone en modo supervivencia para atender a una vida que no es la mÃ­a. El impulso que nunca quiero que llegue.</br>\n",
       "<mark class=\"entity\" style=\"background: #ff9561; padding: 0.45em 0.6em; margin: 0 0.25em; line-height: 1; border-radius: 0.35em;\">\n",
       "    Paneo\n",
       "    <span style=\"font-size: 0.8em; font-weight: bold; line-height: 1; border-radius: 0.35em; vertical-align: middle; margin-left: 0.5rem\">LOC</span>\n",
       "</mark>\n",
       " la plaza: Ã¡rea despejada.</br>\n",
       "<mark class=\"entity\" style=\"background: #ff9561; padding: 0.45em 0.6em; margin: 0 0.25em; line-height: 1; border-radius: 0.35em;\">\n",
       "    Paneo\n",
       "    <span style=\"font-size: 0.8em; font-weight: bold; line-height: 1; border-radius: 0.35em; vertical-align: middle; margin-left: 0.5rem\">LOC</span>\n",
       "</mark>\n",
       " las noticias en el celular, \n",
       "<mark class=\"entity\" style=\"background: #ddd; padding: 0.45em 0.6em; margin: 0 0.25em; line-height: 1; border-radius: 0.35em;\">\n",
       "    Ã©ste paÃ­s repite.\n",
       "    <span style=\"font-size: 0.8em; font-weight: bold; line-height: 1; border-radius: 0.35em; vertical-align: middle; margin-left: 0.5rem\">MISC</span>\n",
       "</mark>\n",
       "</br></br>- EloÃ­sa: Â¿por quÃ© no compartÃ­s la bici con el nene? Dice su papÃ¡ queriÃ©ndola entretener a ver si deja de cotorrear.</br>\n",
       "<mark class=\"entity\" style=\"background: #ddd; padding: 0.45em 0.6em; margin: 0 0.25em; line-height: 1; border-radius: 0.35em;\">\n",
       "    Vos\n",
       "    <span style=\"font-size: 0.8em; font-weight: bold; line-height: 1; border-radius: 0.35em; vertical-align: middle; margin-left: 0.5rem\">PER</span>\n",
       "</mark>\n",
       " con dos y ella con tres: una vida de diferencia.</br>Pasaste de fonemas y monosÃ­labos a un -PapÃ¡, \n",
       "<mark class=\"entity\" style=\"background: #ff9561; padding: 0.45em 0.6em; margin: 0 0.25em; line-height: 1; border-radius: 0.35em;\">\n",
       "    llevame\n",
       "    <span style=\"font-size: 0.8em; font-weight: bold; line-height: 1; border-radius: 0.35em; vertical-align: middle; margin-left: 0.5rem\">LOC</span>\n",
       "</mark>\n",
       " a la plaza y poneme abrigo que hace frÃ­o.</br>\n",
       "<mark class=\"entity\" style=\"background: #ddd; padding: 0.45em 0.6em; margin: 0 0.25em; line-height: 1; border-radius: 0.35em;\">\n",
       "    LloviÃ³\n",
       "    <span style=\"font-size: 0.8em; font-weight: bold; line-height: 1; border-radius: 0.35em; vertical-align: middle; margin-left: 0.5rem\">PER</span>\n",
       "</mark>\n",
       " en la madrugada y te diste cuenta. \n",
       "<mark class=\"entity\" style=\"background: #ddd; padding: 0.45em 0.6em; margin: 0 0.25em; line-height: 1; border-radius: 0.35em;\">\n",
       "    Cuando nos levantamos me dijiste: -PapÃ¡\n",
       "    <span style=\"font-size: 0.8em; font-weight: bold; line-height: 1; border-radius: 0.35em; vertical-align: middle; margin-left: 0.5rem\">MISC</span>\n",
       "</mark>\n",
       ", se secÃ³ la lluvia.</br>Pero EloÃ­sa te lleva varios vocabularios de ventaja: no para esa \n",
       "<mark class=\"entity\" style=\"background: #ddd; padding: 0.45em 0.6em; margin: 0 0.25em; line-height: 1; border-radius: 0.35em;\">\n",
       "    muchachita.\n",
       "    <span style=\"font-size: 0.8em; font-weight: bold; line-height: 1; border-radius: 0.35em; vertical-align: middle; margin-left: 0.5rem\">PER</span>\n",
       "</mark>\n",
       "</br>Termina de dar la vuelta mientras cuenta lo que hace, y su aÃ±o de ventaja te agarra del abrigo como muÃ±eco de \n",
       "<mark class=\"entity\" style=\"background: #ddd; padding: 0.45em 0.6em; margin: 0 0.25em; line-height: 1; border-radius: 0.35em;\">\n",
       "    trapo.\n",
       "    <span style=\"font-size: 0.8em; font-weight: bold; line-height: 1; border-radius: 0.35em; vertical-align: middle; margin-left: 0.5rem\">PER</span>\n",
       "</mark>\n",
       " Habla con mirada perdida de loca en \n",
       "<mark class=\"entity\" style=\"background: #ddd; padding: 0.45em 0.6em; margin: 0 0.25em; line-height: 1; border-radius: 0.35em;\">\n",
       "    manicomio.\n",
       "    <span style=\"font-size: 0.8em; font-weight: bold; line-height: 1; border-radius: 0.35em; vertical-align: middle; margin-left: 0.5rem\">MISC</span>\n",
       "</mark>\n",
       "</br>Te empaca en su bici.</br>En los juguetes de los niÃ±os siempre hay espacio para muchos niÃ±os.</br>\n",
       "<mark class=\"entity\" style=\"background: #ddd; padding: 0.45em 0.6em; margin: 0 0.25em; line-height: 1; border-radius: 0.35em;\">\n",
       "    Las dos rueditas de atrÃ¡s\n",
       "    <span style=\"font-size: 0.8em; font-weight: bold; line-height: 1; border-radius: 0.35em; vertical-align: middle; margin-left: 0.5rem\">MISC</span>\n",
       "</mark>\n",
       " hacen lo que pueden.</br></br>Leo los \n",
       "<mark class=\"entity\" style=\"background: #ddd; padding: 0.45em 0.6em; margin: 0 0.25em; line-height: 1; border-radius: 0.35em;\">\n",
       "    nÃºmeros\n",
       "    <span style=\"font-size: 0.8em; font-weight: bold; line-height: 1; border-radius: 0.35em; vertical-align: middle; margin-left: 0.5rem\">MISC</span>\n",
       "</mark>\n",
       " oficiales y no coinciden con la euforia del boca-river polÃ­tico de la gente.</br>\n",
       "<mark class=\"entity\" style=\"background: #ddd; padding: 0.45em 0.6em; margin: 0 0.25em; line-height: 1; border-radius: 0.35em;\">\n",
       "    Te miro de reojo\n",
       "    <span style=\"font-size: 0.8em; font-weight: bold; line-height: 1; border-radius: 0.35em; vertical-align: middle; margin-left: 0.5rem\">MISC</span>\n",
       "</mark>\n",
       " sin saber cÃ³mo carajos van ahÃ­ los dos; empujando la bici con hernias.</br>\n",
       "<mark class=\"entity\" style=\"background: #ddd; padding: 0.45em 0.6em; margin: 0 0.25em; line-height: 1; border-radius: 0.35em;\">\n",
       "    Leo\n",
       "    <span style=\"font-size: 0.8em; font-weight: bold; line-height: 1; border-radius: 0.35em; vertical-align: middle; margin-left: 0.5rem\">MISC</span>\n",
       "</mark>\n",
       " a un tipo que dice que el \n",
       "<mark class=\"entity\" style=\"background: #7aecec; padding: 0.45em 0.6em; margin: 0 0.25em; line-height: 1; border-radius: 0.35em;\">\n",
       "    FMI\n",
       "    <span style=\"font-size: 0.8em; font-weight: bold; line-height: 1; border-radius: 0.35em; vertical-align: middle; margin-left: 0.5rem\">ORG</span>\n",
       "</mark>\n",
       " presta dinero a un promedio de 4.5 aÃ±os durante dÃ\n",
       "<mark class=\"entity\" style=\"background: #ff9561; padding: 0.45em 0.6em; margin: 0 0.25em; line-height: 1; border-radius: 0.35em;\">\n",
       "    ©cadas\n",
       "    <span style=\"font-size: 0.8em; font-weight: bold; line-height: 1; border-radius: 0.35em; vertical-align: middle; margin-left: 0.5rem\">LOC</span>\n",
       "</mark>\n",
       ".</br>Viene el charco, viene el charco, \n",
       "<mark class=\"entity\" style=\"background: #ff9561; padding: 0.45em 0.6em; margin: 0 0.25em; line-height: 1; border-radius: 0.35em;\">\n",
       "    Â¡VIENE\n",
       "    <span style=\"font-size: 0.8em; font-weight: bold; line-height: 1; border-radius: 0.35em; vertical-align: middle; margin-left: 0.5rem\">LOC</span>\n",
       "</mark>\n",
       " EL \n",
       "<mark class=\"entity\" style=\"background: #ddd; padding: 0.45em 0.6em; margin: 0 0.25em; line-height: 1; border-radius: 0.35em;\">\n",
       "    CHARCO!.\n",
       "    <span style=\"font-size: 0.8em; font-weight: bold; line-height: 1; border-radius: 0.35em; vertical-align: middle; margin-left: 0.5rem\">MISC</span>\n",
       "</mark>\n",
       " Menos mal que lo hablo mentalmente.</br>Igual lo atravesaron completico pa despuÃ\n",
       "<mark class=\"entity\" style=\"background: #ddd; padding: 0.45em 0.6em; margin: 0 0.25em; line-height: 1; border-radius: 0.35em;\">\n",
       "    ©\n",
       "    <span style=\"font-size: 0.8em; font-weight: bold; line-height: 1; border-radius: 0.35em; vertical-align: middle; margin-left: 0.5rem\">PER</span>\n",
       "</mark>\n",
       "s irse de jeta contra el piso.</br>La carcajada del papÃ¡ de \n",
       "<mark class=\"entity\" style=\"background: #ff9561; padding: 0.45em 0.6em; margin: 0 0.25em; line-height: 1; border-radius: 0.35em;\">\n",
       "    EloÃ­sa\n",
       "    <span style=\"font-size: 0.8em; font-weight: bold; line-height: 1; border-radius: 0.35em; vertical-align: middle; margin-left: 0.5rem\">LOC</span>\n",
       "</mark>\n",
       " hace media vuelta a la plaza y la mÃ­a la completa.</br>\n",
       "<mark class=\"entity\" style=\"background: #7aecec; padding: 0.45em 0.6em; margin: 0 0.25em; line-height: 1; border-radius: 0.35em;\">\n",
       "    Tato Bores\n",
       "    <span style=\"font-size: 0.8em; font-weight: bold; line-height: 1; border-radius: 0.35em; vertical-align: middle; margin-left: 0.5rem\">ORG</span>\n",
       "</mark>\n",
       " explica en un video lo de los prÃ©stamos, muestra varios papelitos: media docena de billetes distintos.</br>Como el \n",
       "<mark class=\"entity\" style=\"background: #ddd; padding: 0.45em 0.6em; margin: 0 0.25em; line-height: 1; border-radius: 0.35em;\">\n",
       "    Monopoly\n",
       "    <span style=\"font-size: 0.8em; font-weight: bold; line-height: 1; border-radius: 0.35em; vertical-align: middle; margin-left: 0.5rem\">MISC</span>\n",
       "</mark>\n",
       " o el estanciero: papelitos que valen lo que dice el polÃ­tico de turno.</br>\n",
       "<mark class=\"entity\" style=\"background: #7aecec; padding: 0.45em 0.6em; margin: 0 0.25em; line-height: 1; border-radius: 0.35em;\">\n",
       "    Al cÃ³mico\n",
       "    <span style=\"font-size: 0.8em; font-weight: bold; line-height: 1; border-radius: 0.35em; vertical-align: middle; margin-left: 0.5rem\">ORG</span>\n",
       "</mark>\n",
       " no lo toman en serio y al prÃ³cer lo veo mareado: </br>de lo que pasa debajo de \n",
       "<mark class=\"entity\" style=\"background: #ddd; padding: 0.45em 0.6em; margin: 0 0.25em; line-height: 1; border-radius: 0.35em;\">\n",
       "    Ã©l\n",
       "    <span style=\"font-size: 0.8em; font-weight: bold; line-height: 1; border-radius: 0.35em; vertical-align: middle; margin-left: 0.5rem\">PER</span>\n",
       "</mark>\n",
       " y de las noticias en mi celular.</br></br>Se ven las cuatro piernas, empujando, tropezando y yÃ©ndose de jeta.</br>Se mueven como tentÃ¡culos de un mismo cuerpo.</br>\n",
       "<mark class=\"entity\" style=\"background: #ddd; padding: 0.45em 0.6em; margin: 0 0.25em; line-height: 1; border-radius: 0.35em;\">\n",
       "    Veo\n",
       "    <span style=\"font-size: 0.8em; font-weight: bold; line-height: 1; border-radius: 0.35em; vertical-align: middle; margin-left: 0.5rem\">MISC</span>\n",
       "</mark>\n",
       " a EloÃ­sa mÃ¡s segura de lo que quiere, ahora tiene a cargo dos cuerpecitos llenos de dudas.</br>\n",
       "<mark class=\"entity\" style=\"background: #ddd; padding: 0.45em 0.6em; margin: 0 0.25em; line-height: 1; border-radius: 0.35em;\">\n",
       "    Vos\n",
       "    <span style=\"font-size: 0.8em; font-weight: bold; line-height: 1; border-radius: 0.35em; vertical-align: middle; margin-left: 0.5rem\">PER</span>\n",
       "</mark>\n",
       " estÃ¡s feliz de copiloto pero resongando por la mini rubia mandona y \n",
       "<mark class=\"entity\" style=\"background: #ff9561; padding: 0.45em 0.6em; margin: 0 0.25em; line-height: 1; border-radius: 0.35em;\">\n",
       "    parlanchina.\n",
       "    <span style=\"font-size: 0.8em; font-weight: bold; line-height: 1; border-radius: 0.35em; vertical-align: middle; margin-left: 0.5rem\">LOC</span>\n",
       "</mark>\n",
       "</br>Se estampillan contra el piso, una vez por vuelta. </br>Se rÃ­en. \n",
       "<mark class=\"entity\" style=\"background: #ddd; padding: 0.45em 0.6em; margin: 0 0.25em; line-height: 1; border-radius: 0.35em;\">\n",
       "    Nada mal.\n",
       "    <span style=\"font-size: 0.8em; font-weight: bold; line-height: 1; border-radius: 0.35em; vertical-align: middle; margin-left: 0.5rem\">MISC</span>\n",
       "</mark>\n",
       "</br>A veces soy tus rueditas que hacen lo que pueden.</br>A veces sos un manojo de piernas que empujan y tropiezan cada vez menos.</br>A veces los totazos son inevitables; no te puedo hacer paneo permanente.</br>El corrientazo que nunca quiero que llegue a veces llega.</br>Es la otra manera de \n",
       "<mark class=\"entity\" style=\"background: #ddd; padding: 0.45em 0.6em; margin: 0 0.25em; line-height: 1; border-radius: 0.35em;\">\n",
       "    aprender.\n",
       "    <span style=\"font-size: 0.8em; font-weight: bold; line-height: 1; border-radius: 0.35em; vertical-align: middle; margin-left: 0.5rem\">PER</span>\n",
       "</mark>\n",
       "</br></br>Te miro y \n",
       "<mark class=\"entity\" style=\"background: #ddd; padding: 0.45em 0.6em; margin: 0 0.25em; line-height: 1; border-radius: 0.35em;\">\n",
       "    miro noticias.\n",
       "    <span style=\"font-size: 0.8em; font-weight: bold; line-height: 1; border-radius: 0.35em; vertical-align: middle; margin-left: 0.5rem\">PER</span>\n",
       "</mark>\n",
       "</br>\n",
       "<mark class=\"entity\" style=\"background: #ddd; padding: 0.45em 0.6em; margin: 0 0.25em; line-height: 1; border-radius: 0.35em;\">\n",
       "    Te miro\n",
       "    <span style=\"font-size: 0.8em; font-weight: bold; line-height: 1; border-radius: 0.35em; vertical-align: middle; margin-left: 0.5rem\">MISC</span>\n",
       "</mark>\n",
       " y \n",
       "<mark class=\"entity\" style=\"background: #ddd; padding: 0.45em 0.6em; margin: 0 0.25em; line-height: 1; border-radius: 0.35em;\">\n",
       "    miro noticias.\n",
       "    <span style=\"font-size: 0.8em; font-weight: bold; line-height: 1; border-radius: 0.35em; vertical-align: middle; margin-left: 0.5rem\">PER</span>\n",
       "</mark>\n",
       "</br>\n",
       "<mark class=\"entity\" style=\"background: #ddd; padding: 0.45em 0.6em; margin: 0 0.25em; line-height: 1; border-radius: 0.35em;\">\n",
       "    Te miro\n",
       "    <span style=\"font-size: 0.8em; font-weight: bold; line-height: 1; border-radius: 0.35em; vertical-align: middle; margin-left: 0.5rem\">MISC</span>\n",
       "</mark>\n",
       " y \n",
       "<mark class=\"entity\" style=\"background: #ddd; padding: 0.45em 0.6em; margin: 0 0.25em; line-height: 1; border-radius: 0.35em;\">\n",
       "    miro noticias\n",
       "    <span style=\"font-size: 0.8em; font-weight: bold; line-height: 1; border-radius: 0.35em; vertical-align: middle; margin-left: 0.5rem\">PER</span>\n",
       "</mark>\n",
       ".</br>Pasa el rato y parece que digo si todo el tiempo.</br>\n",
       "<mark class=\"entity\" style=\"background: #ff9561; padding: 0.45em 0.6em; margin: 0 0.25em; line-height: 1; border-radius: 0.35em;\">\n",
       "    Apago\n",
       "    <span style=\"font-size: 0.8em; font-weight: bold; line-height: 1; border-radius: 0.35em; vertical-align: middle; margin-left: 0.5rem\">LOC</span>\n",
       "</mark>\n",
       " el celular.</br></br>Fueron varias vueltas a la plaza; un totazo por vuelta. </br>\n",
       "<mark class=\"entity\" style=\"background: #ddd; padding: 0.45em 0.6em; margin: 0 0.25em; line-height: 1; border-radius: 0.35em;\">\n",
       "    Algunos suavecitos.\n",
       "    <span style=\"font-size: 0.8em; font-weight: bold; line-height: 1; border-radius: 0.35em; vertical-align: middle; margin-left: 0.5rem\">MISC</span>\n",
       "</mark>\n",
       " Otros con raspones en las rodillas.</br>\n",
       "<mark class=\"entity\" style=\"background: #ff9561; padding: 0.45em 0.6em; margin: 0 0.25em; line-height: 1; border-radius: 0.35em;\">\n",
       "    EloÃ­sa\n",
       "    <span style=\"font-size: 0.8em; font-weight: bold; line-height: 1; border-radius: 0.35em; vertical-align: middle; margin-left: 0.5rem\">LOC</span>\n",
       "</mark>\n",
       " afloja un poco con las Ã³rdenes y vos ya no te dejÃ¡s agarrar del hombro. </br>Ã‰se talento de los nenes de pelearse y contentarse en un par de vueltas.</br>\n",
       "<mark class=\"entity\" style=\"background: #ddd; padding: 0.45em 0.6em; margin: 0 0.25em; line-height: 1; border-radius: 0.35em;\">\n",
       "    Ahora\n",
       "    <span style=\"font-size: 0.8em; font-weight: bold; line-height: 1; border-radius: 0.35em; vertical-align: middle; margin-left: 0.5rem\">MISC</span>\n",
       "</mark>\n",
       " los cuatro tentÃ¡culos parecen con menos dudas.</br>La \n",
       "<mark class=\"entity\" style=\"background: #ff9561; padding: 0.45em 0.6em; margin: 0 0.25em; line-height: 1; border-radius: 0.35em;\">\n",
       "    Ãºltima\n",
       "    <span style=\"font-size: 0.8em; font-weight: bold; line-height: 1; border-radius: 0.35em; vertical-align: middle; margin-left: 0.5rem\">LOC</span>\n",
       "</mark>\n",
       " vuelta la dan completa y los dos papÃ¡s con brazos en alto.</br>\n",
       "<mark class=\"entity\" style=\"background: #ff9561; padding: 0.45em 0.6em; margin: 0 0.25em; line-height: 1; border-radius: 0.35em;\">\n",
       "    Aplaudimos\n",
       "    <span style=\"font-size: 0.8em; font-weight: bold; line-height: 1; border-radius: 0.35em; vertical-align: middle; margin-left: 0.5rem\">LOC</span>\n",
       "</mark>\n",
       ", mientras las dos rueditas de atrÃ¡s de \n",
       "<mark class=\"entity\" style=\"background: #ddd; padding: 0.45em 0.6em; margin: 0 0.25em; line-height: 1; border-radius: 0.35em;\">\n",
       "    Ã©ste paÃ­s\n",
       "    <span style=\"font-size: 0.8em; font-weight: bold; line-height: 1; border-radius: 0.35em; vertical-align: middle; margin-left: 0.5rem\">MISC</span>\n",
       "</mark>\n",
       " hacen lo que pueden.</br></div></span>"
      ],
      "text/plain": [
       "<IPython.core.display.HTML object>"
      ]
     },
     "metadata": {},
     "output_type": "display_data"
    }
   ],
   "source": [
    "displacy.render(doc, style=\"ent\")"
   ]
  },
  {
   "cell_type": "code",
   "execution_count": null,
   "id": "0650eff4-4c46-4f01-b236-b77e4414b9c0",
   "metadata": {},
   "outputs": [],
   "source": []
  }
 ],
 "metadata": {
  "kernelspec": {
   "display_name": "Python 3 (ipykernel)",
   "language": "python",
   "name": "python3"
  },
  "language_info": {
   "codemirror_mode": {
    "name": "ipython",
    "version": 3
   },
   "file_extension": ".py",
   "mimetype": "text/x-python",
   "name": "python",
   "nbconvert_exporter": "python",
   "pygments_lexer": "ipython3",
   "version": "3.9.7"
  },
  "toc-autonumbering": true
 },
 "nbformat": 4,
 "nbformat_minor": 5
}
